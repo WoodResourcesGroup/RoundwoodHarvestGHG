{
 "metadata": {
  "name": "",
  "signature": "sha256:65247435e81ef4b58024bd4d26a285e7cadd4c80947777139dcbfb58a7d57ed0"
 },
 "nbformat": 3,
 "nbformat_minor": 0,
 "worksheets": [
  {
   "cells": [
    {
     "cell_type": "code",
     "collapsed": false,
     "input": [
      "import utils as ut\n",
      "from pint import UnitRegistry\n",
      "import pandas as pd\n",
      "import seaborn as sns\n",
      "from tabulate import tabulate\n",
      "from numpy import average as avg\n",
      "import numpy as np\n",
      "from matplotlib import pyplot as plt\n",
      "from functools import partial"
     ],
     "language": "python",
     "metadata": {},
     "outputs": [
      {
       "output_type": "stream",
       "stream": "stderr",
       "text": [
        "/Users/pete/src/fcat_biomass/lib/python2.7/site-packages/matplotlib/__init__.py:872: UserWarning: axes.color_cycle is deprecated and replaced with axes.prop_cycle; please use the latter.\n",
        "  warnings.warn(self.msg_depr % (key, alt_key))\n"
       ]
      }
     ],
     "prompt_number": 1
    },
    {
     "cell_type": "code",
     "collapsed": false,
     "input": [
      "%load_ext autoreload\n",
      "%autoreload 2"
     ],
     "language": "python",
     "metadata": {},
     "outputs": [],
     "prompt_number": 2
    },
    {
     "cell_type": "code",
     "collapsed": false,
     "input": [
      "sqdb = ut.sqlitedb('fcat_biomass')"
     ],
     "language": "python",
     "metadata": {},
     "outputs": [],
     "prompt_number": 3
    },
    {
     "cell_type": "code",
     "collapsed": false,
     "input": [
      "wood_dens = ut.gData('138FWlGeW57MKdcz2UkWxtWV4o50SZO8sduB1R6JOFp8', 1297253755)"
     ],
     "language": "python",
     "metadata": {},
     "outputs": [],
     "prompt_number": 4
    },
    {
     "cell_type": "code",
     "collapsed": false,
     "input": [
      "sathre4 = ut.gData('13UQtRfNBSJ81PXxbYSnB2LrjHePNcvhJhrsxRBjHpoY',546564075, hrow =3)\n",
      "sathre4.to_sql('so4',sqdb['cx'], if_exists = 'replace')"
     ],
     "language": "python",
     "metadata": {},
     "outputs": [],
     "prompt_number": 5
    },
    {
     "cell_type": "markdown",
     "metadata": {},
     "source": [
      "## Wood products DF with and without logging slash utilization\n",
      "Using studies from Sathre and O'Connor in the US."
     ]
    },
    {
     "cell_type": "code",
     "collapsed": false,
     "input": [
      "HWu = pd.read_sql('''SELECT *\n",
      "                        FROM so4\n",
      "                        WHERE harvestslash = \"X\"\n",
      "                        AND processingresidues = \"X\" \n",
      "                        AND \"post-usewoodproduct\" = \"X\"\n",
      "                        AND stumps is null''', sqdb['cx'],index_col = 'index')\n",
      "HWo = pd.read_sql('''SELECT *\n",
      "                        FROM so4\n",
      "                        WHERE harvestslash is null\n",
      "                        AND processingresidues = \"X\" \n",
      "                        AND stumps is null\n",
      "                        AND \"post-usewoodproduct\" = \"X\"''', sqdb['cx'], index_col = 'index')\n"
     ],
     "language": "python",
     "metadata": {},
     "outputs": [],
     "prompt_number": 6
    },
    {
     "cell_type": "code",
     "collapsed": false,
     "input": [
      "#HWo\n",
      "print tabulate(HWo[['reference','df']], headers = ['index','reference','displacement factor'],tablefmt=\"pipe\")"
     ],
     "language": "python",
     "metadata": {},
     "outputs": [
      {
       "output_type": "stream",
       "stream": "stdout",
       "text": [
        "|   index | reference               |   displacement factor |\n",
        "|--------:|:------------------------|----------------------:|\n",
        "|       0 | Eriksson et al. (2007)  |                   1.7 |\n",
        "|       3 | Eriksson et al. (2007)  |                   2.2 |\n",
        "|      24 | Salazar and Meil (2009) |                   4.9 |\n",
        "|      34 | Werner et al. (2005)    |                   1.7 |\n"
       ]
      }
     ],
     "prompt_number": 7
    },
    {
     "cell_type": "code",
     "collapsed": false,
     "input": [
      "#HWu\n",
      "print tabulate(HWu[['reference','df']], headers = ['index','reference','displacement factor'],tablefmt=\"pipe\")"
     ],
     "language": "python",
     "metadata": {},
     "outputs": [
      {
       "output_type": "stream",
       "stream": "stdout",
       "text": [
        "|   index | reference                 |   displacement factor |\n",
        "|--------:|:--------------------------|----------------------:|\n",
        "|       1 | Eriksson et al. (2007)    |                   1.9 |\n",
        "|       4 | Eriksson et al. (2007)    |                   2.5 |\n",
        "|       6 | Gustavsson et al. (2006)  |                   4   |\n",
        "|       7 | Gustavsson et al. (2006)  |                   5.6 |\n",
        "|       8 | Gustavsson et al. (2006)  |                   2.2 |\n",
        "|       9 | Gustavsson et al. (2006)  |                   3.3 |\n",
        "|      22 | Pingoud and Perala (2000) |                   3.2 |\n"
       ]
      }
     ],
     "prompt_number": 8
    },
    {
     "cell_type": "code",
     "collapsed": false,
     "input": [
      "constants = {'me' : {'value':0.5,\n",
      "                     'desc': 'Mill Efficiency'},\n",
      "             'DFu' : {'value': np.average(HWu.df),\n",
      "                      'desc': 'Displacement factor with logging residual utilization',\n",
      "                      'source': '''\\cite{Sathre2010}'''},\n",
      "             'DFo' : {'value': np.average(HWo.df),\n",
      "                      'desc': 'Displacement factor without logging residual utilization'},\n",
      "             'wDens' : {'value': sum(wood_dens.pct/100 * wood_dens.density_lbscuft),\n",
      "                        'units' : 'lbs/cuft',\n",
      "                        'desc': 'average harvested wood density weighted by species harvested',\n",
      "                        'source': '\\cite{Mciver2012}'}\n",
      "             }"
     ],
     "language": "python",
     "metadata": {},
     "outputs": [],
     "prompt_number": 9
    },
    {
     "cell_type": "code",
     "collapsed": false,
     "input": [
      "constants['wDens']['value']"
     ],
     "language": "python",
     "metadata": {},
     "outputs": [
      {
       "metadata": {},
       "output_type": "pyout",
       "prompt_number": 10,
       "text": [
        "27.940920999860715"
       ]
      }
     ],
     "prompt_number": 10
    },
    {
     "cell_type": "markdown",
     "metadata": {},
     "source": [
      "### Timber Products Output\n",
      "The TPO estimates logging redisues produced from commercial timber harvesting operations."
     ]
    },
    {
     "cell_type": "code",
     "collapsed": false,
     "input": [
      "tpoData = ut.gData('1GDdquzrCoq2cxVN2fbCpP4gwi2yrMnONNrWbfhZKZu4', 872275354, hrow=1)\n",
      "tpoData.to_sql('tpo', sqdb['cx'], if_exists = 'replace')\n",
      "print tabulate(tpoData, headers = ['Ownership','Roundwood Products','Logging Residues', 'Year'],tablefmt=\"pipe\")"
     ],
     "language": "python",
     "metadata": {},
     "outputs": [
      {
       "output_type": "stream",
       "stream": "stdout",
       "text": [
        "|    | Ownership       |   Roundwood Products |   Logging Residues |   Year |\n",
        "|---:|:----------------|---------------------:|-------------------:|-------:|\n",
        "|  0 | National Forest |                 72.4 |               20.7 |   2012 |\n",
        "|  1 | Other Public    |                 16.2 |                3.4 |   2012 |\n",
        "|  2 | Forest Industry |                328.9 |               72.4 |   2012 |\n",
        "|  3 | Other Private   |                 53   |               11.2 |   2012 |\n",
        "|  4 | National Forest |                 52.8 |               16.3 |   2006 |\n",
        "|  5 | Other Public    |                  1.1 |                0.3 |   2006 |\n",
        "|  6 | Forest Industry |                274.3 |               59.6 |   2006 |\n",
        "|  7 | Other Private   |                139.2 |               33.2 |   2006 |\n",
        "|  8 | National Forest |                 90.8 |               22.6 |   2000 |\n",
        "|  9 | Other Public    |                  5.2 |                1.6 |   2000 |\n",
        "| 10 | Forest Industry |                372.5 |               70.6 |   2000 |\n",
        "| 11 | Other Private   |                159.4 |               49.1 |   2000 |\n",
        "| 12 | National Forest |                132.1 |               11.2 |   1994 |\n",
        "| 13 | Other Public    |                 24.7 |                4.3 |   1994 |\n",
        "| 14 | Forest Industry |                396.1 |               63.1 |   1994 |\n",
        "| 15 | Other Private   |                174.7 |               22.3 |   1994 |\n"
       ]
      }
     ],
     "prompt_number": 11
    },
    {
     "cell_type": "markdown",
     "metadata": {},
     "source": [
      "## Board of Equalization Data\n",
      "The board of equalization"
     ]
    },
    {
     "cell_type": "code",
     "collapsed": false,
     "input": [
      "pd.read_csv('boe_hh.csv').to_sql('boe',sqdb['cx'], if_exists = 'replace')"
     ],
     "language": "python",
     "metadata": {},
     "outputs": [],
     "prompt_number": 16
    },
    {
     "cell_type": "code",
     "collapsed": false,
     "input": [],
     "language": "python",
     "metadata": {},
     "outputs": []
    },
    {
     "cell_type": "markdown",
     "metadata": {},
     "source": [
      "### Bioenergy consumption\n",
      "To apply the apropriate DF for harvested wood we need to know what fraction of the loggin residues were utilized as bioenergy feedstock. McIver and Morgan [(Table 6)](https://docs.google.com/spreadsheets/d/138FWlGeW57MKdcz2UkWxtWV4o50SZO8sduB1R6JOFp8/pubhtml?gid=1952284551&single=true) reports bioenergy consumption from 2000 forward. For years previous, we use the average bioenergy consumption from 2000 -- 2012.\n"
     ]
    },
    {
     "cell_type": "code",
     "collapsed": false,
     "input": [
      "bioEnergy = ut.gData('138FWlGeW57MKdcz2UkWxtWV4o50SZO8sduB1R6JOFp8', 529610043)\n",
      "bioEnergy.set_index('producttype').transpose().to_sql('mciver_bio', sqdb['cx'], if_exists = 'replace')\n",
      "bio_pct = pd.read_sql('select \"index\" as year,\"Bioenergy\"/100 as biopct from mciver_bio where \"Bioenergy\" is not null', sqdb['cx'])\n",
      "bio_dict = bio_pct.set_index('year').to_dict('index')\n",
      "print tabulate(bio_pct, headers = ['year', 'bioenergy % of harvest'],tablefmt=\"pipe\")"
     ],
     "language": "python",
     "metadata": {},
     "outputs": [
      {
       "output_type": "stream",
       "stream": "stdout",
       "text": [
        "|    |   year |   bioenergy % of harvest |\n",
        "|---:|-------:|-------------------------:|\n",
        "|  0 |   2000 |                    0.024 |\n",
        "|  1 |   2006 |                    0.036 |\n",
        "|  2 |   2012 |                    0.082 |\n"
       ]
      },
      {
       "output_type": "stream",
       "stream": "stderr",
       "text": [
        "-c:2: UserWarning: The spaces in these column names will not be changed. In pandas versions < 0.14, spaces were converted to underscores.\n"
       ]
      }
     ],
     "prompt_number": 12
    },
    {
     "cell_type": "code",
     "collapsed": false,
     "input": [
      "def bioPct(year):\n",
      "    if year in bio_dict.keys():\n",
      "        return bio_dict[year]['biopct']\n",
      "    else:\n",
      "        return np.average(bio_pct.biopct)"
     ],
     "language": "python",
     "metadata": {},
     "outputs": [],
     "prompt_number": 13
    },
    {
     "cell_type": "markdown",
     "metadata": {},
     "source": [
      "#### Calculating emissions reductions\n",
      "The following functions calculate the displaced emissions resulting from wood harvested with and without logging residue utilization. They return estimates in metric tons of CO2 equivalents."
     ]
    },
    {
     "cell_type": "code",
     "collapsed": false,
     "input": [
      "def WPu (rw_harvest, lr, year, mill_efficiency = constants['me']['value'], wdens = constants['wDens']['value'], df = constants['DFu']['value']):\n",
      "    '''\n",
      "    Calculates the emissions reduction resulting from harvested wood with with utilization of loggin residuals for bioenergy\n",
      "    '''\n",
      "    # establish the aproporiate bioenergy consumption, if no data on bioenergy consumption exists, use average from 2000-2012\n",
      "    if year in bio_dict.keys():\n",
      "        bioe_pct = bio_dict[year]['biopct']\n",
      "    else:\n",
      "        bioe_pct = np.average(bio_pct.biopct)\n",
      "    #Calculate total volume used in bioenergy\n",
      "    bioevol = bioe_pct * rw_harvest\n",
      "    #Establish utilization ratio for bioenergy\n",
      "    lrUsed = bioevol/lr\n",
      "    #Calcuate roundwood harvest volume fromwhich loggin residues were utilized\n",
      "    HWu = lrUsed * rw_harvest\n",
      "    #Calculate volume of final wood product produced using mill efficiency. S&O use volume of wood product not sawlogs for DF\n",
      "    WPu = HWu * mill_efficiency * wdens * 1000000 / 2204.62 * df\n",
      "    #This is in MT\n",
      "    \n",
      "    return WPu\n",
      "    "
     ],
     "language": "python",
     "metadata": {},
     "outputs": [],
     "prompt_number": 68
    },
    {
     "cell_type": "code",
     "collapsed": false,
     "input": [
      "def WPo (rw_harvest, lr, year, mill_efficiency = constants['me']['value'], wdens = constants['wDens']['value'], df = constants['DFo']['value']):\n",
      "    '''\n",
      "    Calculates the emissions reduction resulting from harvested wood without utilization of logging residuals for bioenergy\n",
      "    '''\n",
      "    # establish the aproporiate bioenergy consumption lever for a given year, if no data on bioenergy consumption exists, use average from 2000-2012\n",
      "    if year in bio_dict.keys():\n",
      "        bioe_pct = bio_dict[year]['biopct']\n",
      "    else:\n",
      "        bioe_pct = np.average(bio_pct.biopct)\n",
      "    #Calculate total volume used in bioenergy\n",
      "    bioevol = bioe_pct * rw_harvest\n",
      "    #Establish utilization ratio for bioenergy\n",
      "    lrUsed = bioevol/lr\n",
      "    #Calcuate roundwood harvest volume fromwhich loggin residues were utilized\n",
      "    HWo = (1-lrUsed) * rw_harvest\n",
      "    #Calculate volume of final wood product produced using mill efficiency. S&O use volume of wood product not sawlogs for DF\n",
      "    WPo = HWo * mill_efficiency * wdens * 1000000 / 2204.62 * df\n",
      "    #This is in MT\n",
      "    \n",
      "    return WPo"
     ],
     "language": "python",
     "metadata": {},
     "outputs": [],
     "prompt_number": 69
    },
    {
     "cell_type": "markdown",
     "metadata": {},
     "source": [
      "#### Emissions reduction from harvested wood with LR utilized\n",
      "Emissions reductions resulting from harvested roundwood with logging residue utilized in bioenergy"
     ]
    },
    {
     "cell_type": "code",
     "collapsed": false,
     "input": [
      "erWPu = []\n",
      "for row in tpoData.index:\n",
      "    rw,lr,yr = tpoData.iloc[row][['roundwoodproducts','loggingresidues', 'year']].tolist()\n",
      "    erWPu.append(WPu(rw,lr,yr))\n",
      "tpoData['erWPu'] = erWPu"
     ],
     "language": "python",
     "metadata": {},
     "outputs": [],
     "prompt_number": 70
    },
    {
     "cell_type": "markdown",
     "metadata": {},
     "source": [
      "#### Emissions reduction from harvested wood without LR utilization\n",
      "Emissions reductions resulting from harvested roundwood **without** logging residue utilized in bioenergy. Though wood with LR utilization rate has a higher displacement factor, the majority of loggin residues wer not utilized."
     ]
    },
    {
     "cell_type": "code",
     "collapsed": false,
     "input": [
      "erWPo = []\n",
      "for row in tpoData.index:\n",
      "    rw,lr,yr = tpoData.iloc[row][['roundwoodproducts','loggingresidues', 'year']].tolist()\n",
      "    erWPo.append(WPu(rw,lr,yr))\n",
      "tpoData['erWPo'] = erWPo"
     ],
     "language": "python",
     "metadata": {},
     "outputs": [],
     "prompt_number": 71
    },
    {
     "cell_type": "markdown",
     "metadata": {},
     "source": [
      "#### Total emissions reduction from harvested wood products\n",
      "Sum of emissions reductions from harvested wood with and without LR utilization"
     ]
    },
    {
     "cell_type": "code",
     "collapsed": false,
     "input": [
      "tpoData['erTotal'] = tpoData.erWPo+tpoData.erWPu\n",
      "tpoData.to_sql('tpo_emreduc', sqdb['cx'], if_exists='replace')\n",
      "tpoData['bioe_pct'] = tpoData.year.apply(bioPct)\n",
      "tpoData['bioe_t'] = tpoData.bioe_pct * tpoData.loggingresidues * 1e6* constants['wDens']['value']/2204.62\n",
      "tpoData"
     ],
     "language": "python",
     "metadata": {},
     "outputs": [
      {
       "html": [
        "<div style=\"max-width:1500px;overflow:auto;\">\n",
        "<table border=\"1\" class=\"dataframe\">\n",
        "  <thead>\n",
        "    <tr style=\"text-align: right;\">\n",
        "      <th></th>\n",
        "      <th>ownership</th>\n",
        "      <th>roundwoodproducts</th>\n",
        "      <th>loggingresidues</th>\n",
        "      <th>year</th>\n",
        "      <th>erWPu</th>\n",
        "      <th>erWPo</th>\n",
        "      <th>erTotal</th>\n",
        "      <th>bioe_pct</th>\n",
        "      <th>bioe_t</th>\n",
        "    </tr>\n",
        "  </thead>\n",
        "  <tbody>\n",
        "    <tr>\n",
        "      <th>0</th>\n",
        "      <td>National Forest</td>\n",
        "      <td>72.4</td>\n",
        "      <td>20.7</td>\n",
        "      <td>2012</td>\n",
        "      <td>246308.087772</td>\n",
        "      <td>246308.087772</td>\n",
        "      <td>492616.175543</td>\n",
        "      <td>0.047333</td>\n",
        "      <td>12417.792815</td>\n",
        "    </tr>\n",
        "    <tr>\n",
        "      <th>1</th>\n",
        "      <td>Other Public</td>\n",
        "      <td>16.2</td>\n",
        "      <td>3.4</td>\n",
        "      <td>2012</td>\n",
        "      <td>75079.781089</td>\n",
        "      <td>75079.781089</td>\n",
        "      <td>150159.562177</td>\n",
        "      <td>0.047333</td>\n",
        "      <td>2039.637467</td>\n",
        "    </tr>\n",
        "    <tr>\n",
        "      <th>2</th>\n",
        "      <td>Forest Industry</td>\n",
        "      <td>328.9</td>\n",
        "      <td>72.4</td>\n",
        "      <td>2012</td>\n",
        "      <td>1453319.384996</td>\n",
        "      <td>1453319.384996</td>\n",
        "      <td>2906638.769991</td>\n",
        "      <td>0.047333</td>\n",
        "      <td>43432.280184</td>\n",
        "    </tr>\n",
        "    <tr>\n",
        "      <th>3</th>\n",
        "      <td>Other Private</td>\n",
        "      <td>53.0</td>\n",
        "      <td>11.2</td>\n",
        "      <td>2012</td>\n",
        "      <td>243952.684853</td>\n",
        "      <td>243952.684853</td>\n",
        "      <td>487905.369707</td>\n",
        "      <td>0.047333</td>\n",
        "      <td>6718.805774</td>\n",
        "    </tr>\n",
        "    <tr>\n",
        "      <th>4</th>\n",
        "      <td>National Forest</td>\n",
        "      <td>52.8</td>\n",
        "      <td>16.3</td>\n",
        "      <td>2006</td>\n",
        "      <td>166361.231383</td>\n",
        "      <td>166361.231383</td>\n",
        "      <td>332722.462765</td>\n",
        "      <td>0.047333</td>\n",
        "      <td>9778.261975</td>\n",
        "    </tr>\n",
        "    <tr>\n",
        "      <th>5</th>\n",
        "      <td>Other Public</td>\n",
        "      <td>1.1</td>\n",
        "      <td>0.3</td>\n",
        "      <td>2006</td>\n",
        "      <td>3923.159826</td>\n",
        "      <td>3923.159826</td>\n",
        "      <td>7846.319651</td>\n",
        "      <td>0.047333</td>\n",
        "      <td>179.968012</td>\n",
        "    </tr>\n",
        "    <tr>\n",
        "      <th>6</th>\n",
        "      <td>Forest Industry</td>\n",
        "      <td>274.3</td>\n",
        "      <td>59.6</td>\n",
        "      <td>2006</td>\n",
        "      <td>1227940.266939</td>\n",
        "      <td>1227940.266939</td>\n",
        "      <td>2455880.533878</td>\n",
        "      <td>0.047333</td>\n",
        "      <td>35753.645013</td>\n",
        "    </tr>\n",
        "    <tr>\n",
        "      <th>7</th>\n",
        "      <td>Other Private</td>\n",
        "      <td>139.2</td>\n",
        "      <td>33.2</td>\n",
        "      <td>2006</td>\n",
        "      <td>567691.344260</td>\n",
        "      <td>567691.344260</td>\n",
        "      <td>1135382.688520</td>\n",
        "      <td>0.047333</td>\n",
        "      <td>19916.459974</td>\n",
        "    </tr>\n",
        "    <tr>\n",
        "      <th>8</th>\n",
        "      <td>National Forest</td>\n",
        "      <td>90.8</td>\n",
        "      <td>22.6</td>\n",
        "      <td>2000</td>\n",
        "      <td>354842.102232</td>\n",
        "      <td>354842.102232</td>\n",
        "      <td>709684.204465</td>\n",
        "      <td>0.047333</td>\n",
        "      <td>13557.590223</td>\n",
        "    </tr>\n",
        "    <tr>\n",
        "      <th>9</th>\n",
        "      <td>Other Public</td>\n",
        "      <td>5.2</td>\n",
        "      <td>1.6</td>\n",
        "      <td>2000</td>\n",
        "      <td>16438.363898</td>\n",
        "      <td>16438.363898</td>\n",
        "      <td>32876.727796</td>\n",
        "      <td>0.047333</td>\n",
        "      <td>959.829396</td>\n",
        "    </tr>\n",
        "    <tr>\n",
        "      <th>10</th>\n",
        "      <td>Forest Industry</td>\n",
        "      <td>372.5</td>\n",
        "      <td>70.6</td>\n",
        "      <td>2000</td>\n",
        "      <td>1911699.993797</td>\n",
        "      <td>1911699.993797</td>\n",
        "      <td>3823399.987595</td>\n",
        "      <td>0.047333</td>\n",
        "      <td>42352.472113</td>\n",
        "    </tr>\n",
        "    <tr>\n",
        "      <th>11</th>\n",
        "      <td>Other Private</td>\n",
        "      <td>159.4</td>\n",
        "      <td>49.1</td>\n",
        "      <td>2000</td>\n",
        "      <td>503346.470465</td>\n",
        "      <td>503346.470465</td>\n",
        "      <td>1006692.940930</td>\n",
        "      <td>0.047333</td>\n",
        "      <td>29454.764600</td>\n",
        "    </tr>\n",
        "    <tr>\n",
        "      <th>12</th>\n",
        "      <td>National Forest</td>\n",
        "      <td>132.1</td>\n",
        "      <td>11.2</td>\n",
        "      <td>1994</td>\n",
        "      <td>1515512.414130</td>\n",
        "      <td>1515512.414130</td>\n",
        "      <td>3031024.828260</td>\n",
        "      <td>0.047333</td>\n",
        "      <td>6718.805774</td>\n",
        "    </tr>\n",
        "    <tr>\n",
        "      <th>13</th>\n",
        "      <td>Other Public</td>\n",
        "      <td>24.7</td>\n",
        "      <td>4.3</td>\n",
        "      <td>1994</td>\n",
        "      <td>138005.799235</td>\n",
        "      <td>138005.799235</td>\n",
        "      <td>276011.598471</td>\n",
        "      <td>0.047333</td>\n",
        "      <td>2579.541503</td>\n",
        "    </tr>\n",
        "    <tr>\n",
        "      <th>14</th>\n",
        "      <td>Forest Industry</td>\n",
        "      <td>396.1</td>\n",
        "      <td>63.1</td>\n",
        "      <td>1994</td>\n",
        "      <td>2418534.078346</td>\n",
        "      <td>2418534.078346</td>\n",
        "      <td>4837068.156693</td>\n",
        "      <td>0.047333</td>\n",
        "      <td>37853.271818</td>\n",
        "    </tr>\n",
        "    <tr>\n",
        "      <th>15</th>\n",
        "      <td>Other Private</td>\n",
        "      <td>174.7</td>\n",
        "      <td>22.3</td>\n",
        "      <td>1994</td>\n",
        "      <td>1331229.192068</td>\n",
        "      <td>1331229.192068</td>\n",
        "      <td>2662458.384137</td>\n",
        "      <td>0.047333</td>\n",
        "      <td>13377.622211</td>\n",
        "    </tr>\n",
        "  </tbody>\n",
        "</table>\n",
        "</div>"
       ],
       "metadata": {},
       "output_type": "pyout",
       "prompt_number": 72,
       "text": [
        "          ownership  roundwoodproducts  loggingresidues  year           erWPu  \\\n",
        "0   National Forest               72.4             20.7  2012   246308.087772   \n",
        "1      Other Public               16.2              3.4  2012    75079.781089   \n",
        "2   Forest Industry              328.9             72.4  2012  1453319.384996   \n",
        "3     Other Private               53.0             11.2  2012   243952.684853   \n",
        "4   National Forest               52.8             16.3  2006   166361.231383   \n",
        "5      Other Public                1.1              0.3  2006     3923.159826   \n",
        "6   Forest Industry              274.3             59.6  2006  1227940.266939   \n",
        "7     Other Private              139.2             33.2  2006   567691.344260   \n",
        "8   National Forest               90.8             22.6  2000   354842.102232   \n",
        "9      Other Public                5.2              1.6  2000    16438.363898   \n",
        "10  Forest Industry              372.5             70.6  2000  1911699.993797   \n",
        "11    Other Private              159.4             49.1  2000   503346.470465   \n",
        "12  National Forest              132.1             11.2  1994  1515512.414130   \n",
        "13     Other Public               24.7              4.3  1994   138005.799235   \n",
        "14  Forest Industry              396.1             63.1  1994  2418534.078346   \n",
        "15    Other Private              174.7             22.3  1994  1331229.192068   \n",
        "\n",
        "             erWPo         erTotal  bioe_pct        bioe_t  \n",
        "0    246308.087772   492616.175543  0.047333  12417.792815  \n",
        "1     75079.781089   150159.562177  0.047333   2039.637467  \n",
        "2   1453319.384996  2906638.769991  0.047333  43432.280184  \n",
        "3    243952.684853   487905.369707  0.047333   6718.805774  \n",
        "4    166361.231383   332722.462765  0.047333   9778.261975  \n",
        "5      3923.159826     7846.319651  0.047333    179.968012  \n",
        "6   1227940.266939  2455880.533878  0.047333  35753.645013  \n",
        "7    567691.344260  1135382.688520  0.047333  19916.459974  \n",
        "8    354842.102232   709684.204465  0.047333  13557.590223  \n",
        "9     16438.363898    32876.727796  0.047333    959.829396  \n",
        "10  1911699.993797  3823399.987595  0.047333  42352.472113  \n",
        "11   503346.470465  1006692.940930  0.047333  29454.764600  \n",
        "12  1515512.414130  3031024.828260  0.047333   6718.805774  \n",
        "13   138005.799235   276011.598471  0.047333   2579.541503  \n",
        "14  2418534.078346  4837068.156693  0.047333  37853.271818  \n",
        "15  1331229.192068  2662458.384137  0.047333  13377.622211  "
       ]
      }
     ],
     "prompt_number": 72
    },
    {
     "cell_type": "code",
     "collapsed": false,
     "input": [
      "sns.set_style(\"whitegrid\")\n",
      "fig, ax = plt.subplots()\n",
      "ax = sns.barplot(x ='year', y='erTotal', hue=\"ownership\", data=tpoData.sort_values('year'))\n",
      "ax.set_ylabel('Emissions reduction (MT CO2e)')\n",
      "ax.set_title('Emissions reductions resulting from roundwood harvest in CA')"
     ],
     "language": "python",
     "metadata": {},
     "outputs": [
      {
       "metadata": {},
       "output_type": "pyout",
       "prompt_number": 73,
       "text": [
        "<matplotlib.text.Text at 0x111c50b50>"
       ]
      },
      {
       "metadata": {},
       "output_type": "display_data",
       "png": "[encoded data removed]",
       "text": [
        "<matplotlib.figure.Figure at 0x1116c2990>"
       ]
      }
     ],
     "prompt_number": 73
    },
    {
     "cell_type": "code",
     "collapsed": false,
     "input": [
      "[fig.savefig('graphics/harv_em_reductions.{}'.format(i)) for i in ['pdf','png']]"
     ],
     "language": "python",
     "metadata": {},
     "outputs": [
      {
       "metadata": {},
       "output_type": "pyout",
       "prompt_number": 74,
       "text": [
        "[None, None]"
       ]
      }
     ],
     "prompt_number": 74
    },
    {
     "cell_type": "markdown",
     "metadata": {},
     "source": [
      "Total emissions reductions from roundwood harvesting in CA, 2012"
     ]
    },
    {
     "cell_type": "code",
     "collapsed": false,
     "input": [
      "pd.read_sql('select sum(\"erTotal\") from tpo_emreduc where year = \"2012\"', sqdb['cx'])"
     ],
     "language": "python",
     "metadata": {},
     "outputs": [
      {
       "html": [
        "<div style=\"max-width:1500px;overflow:auto;\">\n",
        "<table border=\"1\" class=\"dataframe\">\n",
        "  <thead>\n",
        "    <tr style=\"text-align: right;\">\n",
        "      <th></th>\n",
        "      <th>sum(\"erTotal\")</th>\n",
        "    </tr>\n",
        "  </thead>\n",
        "  <tbody>\n",
        "    <tr>\n",
        "      <th>0</th>\n",
        "      <td>4037319.877418</td>\n",
        "    </tr>\n",
        "  </tbody>\n",
        "</table>\n",
        "</div>"
       ],
       "metadata": {},
       "output_type": "pyout",
       "prompt_number": 75,
       "text": [
        "   sum(\"erTotal\")\n",
        "0  4037319.877418"
       ]
      }
     ],
     "prompt_number": 75
    },
    {
     "cell_type": "markdown",
     "metadata": {},
     "source": [
      "### Emissions from un-utilized logging residuals\n",
      "From logging residuals not used in bioenergy, emmisions are produced from combustion of the residual material or from decomposition of the material over time. To calculate the ratio of burned to decompsed logging residues I begin with the CARB estimate of PM2.5 produced from forest management:"
     ]
    },
    {
     "cell_type": "code",
     "collapsed": false,
     "input": [
      "tName = 'cpe_allyears'\n",
      "sqdb['crs'].executescript('drop table if exists {0};'.format(tName))\n",
      "for y in [2000, 2005, 2010, 2012, 2015]:\n",
      "    url = 'http://www.arb.ca.gov/app/emsinv/2013/emsbyeic.csv?F_YR={0}&F_DIV=0&F_SEASON=A&SP=2013&SPN=2013_Almanac&F_AREA=CA'\n",
      "    df = pd.read_csv(url.format(y))\n",
      "    df.to_sql(tName, sqdb['cx'], if_exists = 'append')"
     ],
     "language": "python",
     "metadata": {},
     "outputs": [],
     "prompt_number": 76
    },
    {
     "cell_type": "code",
     "collapsed": false,
     "input": [
      "pmAnn = pd.read_sql('''\n",
      "                        select year,\n",
      "                                eicsoun,\n",
      "                                \"PM2_5\"*365 an_pm25_av\n",
      "                        from cpe_allyears\n",
      "                        where eicsoun = 'FOREST MANAGEMENT';\n",
      "                    ''', sqdb['cx'])\n",
      "pmAnn"
     ],
     "language": "python",
     "metadata": {},
     "outputs": [
      {
       "html": [
        "<div style=\"max-width:1500px;overflow:auto;\">\n",
        "<table border=\"1\" class=\"dataframe\">\n",
        "  <thead>\n",
        "    <tr style=\"text-align: right;\">\n",
        "      <th></th>\n",
        "      <th>YEAR</th>\n",
        "      <th>EICSOUN</th>\n",
        "      <th>an_pm25_av</th>\n",
        "    </tr>\n",
        "  </thead>\n",
        "  <tbody>\n",
        "    <tr>\n",
        "      <th>0</th>\n",
        "      <td>2000</td>\n",
        "      <td>FOREST MANAGEMENT</td>\n",
        "      <td>5474.3065</td>\n",
        "    </tr>\n",
        "    <tr>\n",
        "      <th>1</th>\n",
        "      <td>2005</td>\n",
        "      <td>FOREST MANAGEMENT</td>\n",
        "      <td>5474.3065</td>\n",
        "    </tr>\n",
        "    <tr>\n",
        "      <th>2</th>\n",
        "      <td>2010</td>\n",
        "      <td>FOREST MANAGEMENT</td>\n",
        "      <td>5474.3065</td>\n",
        "    </tr>\n",
        "    <tr>\n",
        "      <th>3</th>\n",
        "      <td>2012</td>\n",
        "      <td>FOREST MANAGEMENT</td>\n",
        "      <td>5477.2995</td>\n",
        "    </tr>\n",
        "    <tr>\n",
        "      <th>4</th>\n",
        "      <td>2015</td>\n",
        "      <td>FOREST MANAGEMENT</td>\n",
        "      <td>5480.5115</td>\n",
        "    </tr>\n",
        "  </tbody>\n",
        "</table>\n",
        "</div>"
       ],
       "metadata": {},
       "output_type": "pyout",
       "prompt_number": 77,
       "text": [
        "   YEAR            EICSOUN  an_pm25_av\n",
        "0  2000  FOREST MANAGEMENT   5474.3065\n",
        "1  2005  FOREST MANAGEMENT   5474.3065\n",
        "2  2010  FOREST MANAGEMENT   5474.3065\n",
        "3  2012  FOREST MANAGEMENT   5477.2995\n",
        "4  2015  FOREST MANAGEMENT   5480.5115"
       ]
      }
     ],
     "prompt_number": 77
    },
    {
     "cell_type": "markdown",
     "metadata": {},
     "source": [
      "#### Estimate biomass, CO2, CH4 and BC from PM2.5\n",
      "To estimate total biomass from PM2.5 I assume 90% consumption of biomass in piles and use the relationship of pile tonnage to PM emissions calculated using the [Piled Fuels Biomass and Emissions Calculator](http://depts.washington.edu/nwfire/piles/) provided by the Washington State Department of Natural resources. This calculator is based on the [Consume](http://www.fs.fed.us/pnw/fera/research/smoke/consume/index.shtml) fire behavior model published by the US Forest Service. "
     ]
    },
    {
     "cell_type": "code",
     "collapsed": false,
     "input": [
      "pfbec = pd.read_csv('fera_pile_cemissions.csv', header=1)\n",
      "ward = ut.gData('13UQtRfNBSJ81PXxbYSnB2LrjHePNcvhJhrsxRBjHpoY', 475419971)\n",
      "def sp2bio(pm, species = 'PM2.5 (tons)'):\n",
      "    return pm * (pfbec[species]/pfbec['Pile Biomass (tons)'])\n",
      "\n",
      "def bioPm(pm):\n",
      "    return pm * (pfbec['Pile Biomass (tons)']/pfbec['PM2.5 (tons)'])\n",
      "co2t = lambda x: sp2bio(x,'CO2 (tons)')\n",
      "ch4t = lambda x: sp2bio(x,'CH4 (tons)')\n",
      "\n",
      "pmAnn['biomass_t']=pmAnn.an_pm25_av.apply(bioPm)\n",
      "pmAnn['co2_t'] = pmAnn.biomass_t.apply(co2t)\n",
      "pmAnn['ch4_t'] = pmAnn.biomass_t.apply(ch4t)\n",
      "pmAnn['ch4_co2e'] = pmAnn.ch4_t * 56\n",
      "pmAnn['bc_co2e']= pmAnn.an_pm25_av.apply(ut.pm2bcgwpPiles)\n",
      "pmAnn['t_co2e']= pmAnn.co2_t + pmAnn.ch4_co2e + pmAnn.bc_co2e\n",
      "\n",
      "print tabulate(pmAnn[['YEAR','EICSOUN','co2_t','ch4_co2e','bc_co2e','t_co2e']], headers = ['Year','Emissions source','CO2 (t)', 'CH4 (tCO2e)', 'BC (tCO2e)', 'Pile Burn Total (tCO2e)'],tablefmt=\"pipe\")"
     ],
     "language": "python",
     "metadata": {},
     "outputs": [
      {
       "output_type": "stream",
       "stream": "stdout",
       "text": [
        "|    |   Year | Emissions source   |     CO2 (t) |   CH4 (tCO2e) |   BC (tCO2e) |   Pile Burn Total (tCO2e) |\n",
        "|---:|-------:|:-------------------|------------:|--------------:|-------------:|--------------------------:|\n",
        "|  0 |   2000 | FOREST MANAGEMENT  | 1.34928e+06 |        127280 |       248255 |               1.72481e+06 |\n",
        "|  1 |   2005 | FOREST MANAGEMENT  | 1.34928e+06 |        127280 |       248255 |               1.72481e+06 |\n",
        "|  2 |   2010 | FOREST MANAGEMENT  | 1.34928e+06 |        127280 |       248255 |               1.72481e+06 |\n",
        "|  3 |   2012 | FOREST MANAGEMENT  | 1.35002e+06 |        127349 |       248391 |               1.72576e+06 |\n",
        "|  4 |   2015 | FOREST MANAGEMENT  | 1.35081e+06 |        127424 |       248536 |               1.72677e+06 |\n"
       ]
      }
     ],
     "prompt_number": 78
    },
    {
     "cell_type": "markdown",
     "metadata": {},
     "source": [
      "#### Estimating GHG emissions from decomposition of unitilized logging slash\n",
      "To provide a full picture of the emissions from residual material produced from commercial timber harvesting in California, decomposition of unutilized logging residuals left on-site that are not burned must be accounted for. To establish the fraction of logging residue that is left to decompose, residues burned and used in bioenergy are subtracted from the total reported by the TPO:\n",
      "![bio_decomp](http://mathurl.com/h5ns5j4.png)\n",
      "\n",
      "To calculate the GHG emissions from decomposition of piles we use the following equation:\n",
      "\n",
      "![gwp_decomp](http://mathurl.com/jzspdak.png)"
     ]
    },
    {
     "cell_type": "code",
     "collapsed": false,
     "input": [
      "annLrAvg = pd.read_sql('''with ann as (select sum(loggingresidues) lr\n",
      "                                                        from tpo\n",
      "                                                        group by year)\n",
      "                                                    select avg(lr) foo\n",
      "                                                    from ann;''', sqdb['cx'])['foo'][0]\n",
      "pctLR_bio = (np.average(pmAnn.biomass_t)/1e6)/annLrAvg"
     ],
     "language": "python",
     "metadata": {},
     "outputs": [],
     "prompt_number": 79
    },
    {
     "cell_type": "code",
     "collapsed": false,
     "input": [
      "annLrAvg"
     ],
     "language": "python",
     "metadata": {},
     "outputs": [
      {
       "metadata": {},
       "output_type": "pyout",
       "prompt_number": 80,
       "text": [
        "115.47500000000001"
       ]
      }
     ],
     "prompt_number": 80
    },
    {
     "cell_type": "code",
     "collapsed": false,
     "input": [
      "pmAnn"
     ],
     "language": "python",
     "metadata": {},
     "outputs": [
      {
       "html": [
        "<div style=\"max-width:1500px;overflow:auto;\">\n",
        "<table border=\"1\" class=\"dataframe\">\n",
        "  <thead>\n",
        "    <tr style=\"text-align: right;\">\n",
        "      <th></th>\n",
        "      <th>YEAR</th>\n",
        "      <th>EICSOUN</th>\n",
        "      <th>an_pm25_av</th>\n",
        "      <th>biomass_t</th>\n",
        "      <th>co2_t</th>\n",
        "      <th>ch4_t</th>\n",
        "      <th>ch4_co2e</th>\n",
        "      <th>bc_co2e</th>\n",
        "      <th>t_co2e</th>\n",
        "    </tr>\n",
        "  </thead>\n",
        "  <tbody>\n",
        "    <tr>\n",
        "      <th>0</th>\n",
        "      <td>2000</td>\n",
        "      <td>FOREST MANAGEMENT</td>\n",
        "      <td>5474.3065</td>\n",
        "      <td>901120.411523</td>\n",
        "      <td>1349279.491835</td>\n",
        "      <td>2272.850958</td>\n",
        "      <td>127279.653646</td>\n",
        "      <td>248254.982385</td>\n",
        "      <td>1724814.127867</td>\n",
        "    </tr>\n",
        "    <tr>\n",
        "      <th>1</th>\n",
        "      <td>2005</td>\n",
        "      <td>FOREST MANAGEMENT</td>\n",
        "      <td>5474.3065</td>\n",
        "      <td>901120.411523</td>\n",
        "      <td>1349279.491835</td>\n",
        "      <td>2272.850958</td>\n",
        "      <td>127279.653646</td>\n",
        "      <td>248254.982385</td>\n",
        "      <td>1724814.127867</td>\n",
        "    </tr>\n",
        "    <tr>\n",
        "      <th>2</th>\n",
        "      <td>2010</td>\n",
        "      <td>FOREST MANAGEMENT</td>\n",
        "      <td>5474.3065</td>\n",
        "      <td>901120.411523</td>\n",
        "      <td>1349279.491835</td>\n",
        "      <td>2272.850958</td>\n",
        "      <td>127279.653646</td>\n",
        "      <td>248254.982385</td>\n",
        "      <td>1724814.127867</td>\n",
        "    </tr>\n",
        "    <tr>\n",
        "      <th>3</th>\n",
        "      <td>2012</td>\n",
        "      <td>FOREST MANAGEMENT</td>\n",
        "      <td>5477.2995</td>\n",
        "      <td>901613.086420</td>\n",
        "      <td>1350017.191400</td>\n",
        "      <td>2274.093607</td>\n",
        "      <td>127349.242004</td>\n",
        "      <td>248390.712301</td>\n",
        "      <td>1725757.145705</td>\n",
        "    </tr>\n",
        "    <tr>\n",
        "      <th>4</th>\n",
        "      <td>2015</td>\n",
        "      <td>FOREST MANAGEMENT</td>\n",
        "      <td>5480.5115</td>\n",
        "      <td>902141.810700</td>\n",
        "      <td>1350808.868981</td>\n",
        "      <td>2275.427182</td>\n",
        "      <td>127423.922194</td>\n",
        "      <td>248536.373675</td>\n",
        "      <td>1726769.164850</td>\n",
        "    </tr>\n",
        "  </tbody>\n",
        "</table>\n",
        "</div>"
       ],
       "metadata": {},
       "output_type": "pyout",
       "prompt_number": 81,
       "text": [
        "   YEAR            EICSOUN  an_pm25_av      biomass_t           co2_t  \\\n",
        "0  2000  FOREST MANAGEMENT   5474.3065  901120.411523  1349279.491835   \n",
        "1  2005  FOREST MANAGEMENT   5474.3065  901120.411523  1349279.491835   \n",
        "2  2010  FOREST MANAGEMENT   5474.3065  901120.411523  1349279.491835   \n",
        "3  2012  FOREST MANAGEMENT   5477.2995  901613.086420  1350017.191400   \n",
        "4  2015  FOREST MANAGEMENT   5480.5115  902141.810700  1350808.868981   \n",
        "\n",
        "         ch4_t       ch4_co2e        bc_co2e          t_co2e  \n",
        "0  2272.850958  127279.653646  248254.982385  1724814.127867  \n",
        "1  2272.850958  127279.653646  248254.982385  1724814.127867  \n",
        "2  2272.850958  127279.653646  248254.982385  1724814.127867  \n",
        "3  2274.093607  127349.242004  248390.712301  1725757.145705  \n",
        "4  2275.427182  127423.922194  248536.373675  1726769.164850  "
       ]
      }
     ],
     "prompt_number": 81
    },
    {
     "cell_type": "code",
     "collapsed": false,
     "input": [
      "lr_t = 1e6*tpoData.loggingresidues*constants['wDens']['value']/2204.62\n",
      "tpoData['unused_lr'] = 1e6*(lr_t-(pctLR_bio*lr_t))\n",
      "tpoData['burned_lr'] = 1e6*lr_t*(np.average(pmAnn.biomass_t)/(annLrAvg*1e6))\n",
      "tpoData['unburned_lr'] = (lr_t*1e6) - tpoData.bioe_t - tpoData.burned_lr\n",
      "tpoData['unburned_lr_co2e'] = tpoData.unburned_lr.apply(ut.co2eDecomp)\n",
      "tpoData"
     ],
     "language": "python",
     "metadata": {},
     "outputs": [
      {
       "html": [
        "<div style=\"max-width:1500px;overflow:auto;\">\n",
        "<table border=\"1\" class=\"dataframe\">\n",
        "  <thead>\n",
        "    <tr style=\"text-align: right;\">\n",
        "      <th></th>\n",
        "      <th>ownership</th>\n",
        "      <th>roundwoodproducts</th>\n",
        "      <th>loggingresidues</th>\n",
        "      <th>year</th>\n",
        "      <th>erWPu</th>\n",
        "      <th>erWPo</th>\n",
        "      <th>erTotal</th>\n",
        "      <th>bioe_pct</th>\n",
        "      <th>bioe_t</th>\n",
        "      <th>unused_lr</th>\n",
        "      <th>burned_lr</th>\n",
        "      <th>unburned_lr</th>\n",
        "      <th>unburned_lr_co2e</th>\n",
        "    </tr>\n",
        "  </thead>\n",
        "  <tbody>\n",
        "    <tr>\n",
        "      <th>0</th>\n",
        "      <td>National Forest</td>\n",
        "      <td>72.4</td>\n",
        "      <td>20.7</td>\n",
        "      <td>2012</td>\n",
        "      <td>246308.087772</td>\n",
        "      <td>246308.087772</td>\n",
        "      <td>492616.175543</td>\n",
        "      <td>0.047333</td>\n",
        "      <td>12417.792815</td>\n",
        "      <td>2.602998e+11</td>\n",
        "      <td>2.047944e+09</td>\n",
        "      <td>2.602998e+11</td>\n",
        "      <td>7.353469e+11</td>\n",
        "    </tr>\n",
        "    <tr>\n",
        "      <th>1</th>\n",
        "      <td>Other Public</td>\n",
        "      <td>16.2</td>\n",
        "      <td>3.4</td>\n",
        "      <td>2012</td>\n",
        "      <td>75079.781089</td>\n",
        "      <td>75079.781089</td>\n",
        "      <td>150159.562177</td>\n",
        "      <td>0.047333</td>\n",
        "      <td>2039.637467</td>\n",
        "      <td>4.275456e+10</td>\n",
        "      <td>3.363773e+08</td>\n",
        "      <td>4.275455e+10</td>\n",
        "      <td>1.207816e+11</td>\n",
        "    </tr>\n",
        "    <tr>\n",
        "      <th>2</th>\n",
        "      <td>Forest Industry</td>\n",
        "      <td>328.9</td>\n",
        "      <td>72.4</td>\n",
        "      <td>2012</td>\n",
        "      <td>1453319.384996</td>\n",
        "      <td>1453319.384996</td>\n",
        "      <td>2906638.769991</td>\n",
        "      <td>0.047333</td>\n",
        "      <td>43432.280184</td>\n",
        "      <td>9.104205e+11</td>\n",
        "      <td>7.162858e+09</td>\n",
        "      <td>9.104205e+11</td>\n",
        "      <td>2.571938e+12</td>\n",
        "    </tr>\n",
        "    <tr>\n",
        "      <th>3</th>\n",
        "      <td>Other Private</td>\n",
        "      <td>53.0</td>\n",
        "      <td>11.2</td>\n",
        "      <td>2012</td>\n",
        "      <td>243952.684853</td>\n",
        "      <td>243952.684853</td>\n",
        "      <td>487905.369707</td>\n",
        "      <td>0.047333</td>\n",
        "      <td>6718.805774</td>\n",
        "      <td>1.408385e+11</td>\n",
        "      <td>1.108066e+09</td>\n",
        "      <td>1.408385e+11</td>\n",
        "      <td>3.978688e+11</td>\n",
        "    </tr>\n",
        "    <tr>\n",
        "      <th>4</th>\n",
        "      <td>National Forest</td>\n",
        "      <td>52.8</td>\n",
        "      <td>16.3</td>\n",
        "      <td>2006</td>\n",
        "      <td>166361.231383</td>\n",
        "      <td>166361.231383</td>\n",
        "      <td>332722.462765</td>\n",
        "      <td>0.047333</td>\n",
        "      <td>9778.261975</td>\n",
        "      <td>2.049704e+11</td>\n",
        "      <td>1.612632e+09</td>\n",
        "      <td>2.049704e+11</td>\n",
        "      <td>5.790413e+11</td>\n",
        "    </tr>\n",
        "    <tr>\n",
        "      <th>5</th>\n",
        "      <td>Other Public</td>\n",
        "      <td>1.1</td>\n",
        "      <td>0.3</td>\n",
        "      <td>2006</td>\n",
        "      <td>3923.159826</td>\n",
        "      <td>3923.159826</td>\n",
        "      <td>7846.319651</td>\n",
        "      <td>0.047333</td>\n",
        "      <td>179.968012</td>\n",
        "      <td>3.772461e+09</td>\n",
        "      <td>2.968035e+07</td>\n",
        "      <td>3.772461e+09</td>\n",
        "      <td>1.065720e+10</td>\n",
        "    </tr>\n",
        "    <tr>\n",
        "      <th>6</th>\n",
        "      <td>Forest Industry</td>\n",
        "      <td>274.3</td>\n",
        "      <td>59.6</td>\n",
        "      <td>2006</td>\n",
        "      <td>1227940.266939</td>\n",
        "      <td>1227940.266939</td>\n",
        "      <td>2455880.533878</td>\n",
        "      <td>0.047333</td>\n",
        "      <td>35753.645013</td>\n",
        "      <td>7.494622e+11</td>\n",
        "      <td>5.896496e+09</td>\n",
        "      <td>7.494622e+11</td>\n",
        "      <td>2.117231e+12</td>\n",
        "    </tr>\n",
        "    <tr>\n",
        "      <th>7</th>\n",
        "      <td>Other Private</td>\n",
        "      <td>139.2</td>\n",
        "      <td>33.2</td>\n",
        "      <td>2006</td>\n",
        "      <td>567691.344260</td>\n",
        "      <td>567691.344260</td>\n",
        "      <td>1135382.688520</td>\n",
        "      <td>0.047333</td>\n",
        "      <td>19916.459974</td>\n",
        "      <td>4.174857e+11</td>\n",
        "      <td>3.284625e+09</td>\n",
        "      <td>4.174856e+11</td>\n",
        "      <td>1.179397e+12</td>\n",
        "    </tr>\n",
        "    <tr>\n",
        "      <th>8</th>\n",
        "      <td>National Forest</td>\n",
        "      <td>90.8</td>\n",
        "      <td>22.6</td>\n",
        "      <td>2000</td>\n",
        "      <td>354842.102232</td>\n",
        "      <td>354842.102232</td>\n",
        "      <td>709684.204465</td>\n",
        "      <td>0.047333</td>\n",
        "      <td>13557.590223</td>\n",
        "      <td>2.841920e+11</td>\n",
        "      <td>2.235920e+09</td>\n",
        "      <td>2.841920e+11</td>\n",
        "      <td>8.028425e+11</td>\n",
        "    </tr>\n",
        "    <tr>\n",
        "      <th>9</th>\n",
        "      <td>Other Public</td>\n",
        "      <td>5.2</td>\n",
        "      <td>1.6</td>\n",
        "      <td>2000</td>\n",
        "      <td>16438.363898</td>\n",
        "      <td>16438.363898</td>\n",
        "      <td>32876.727796</td>\n",
        "      <td>0.047333</td>\n",
        "      <td>959.829396</td>\n",
        "      <td>2.011979e+10</td>\n",
        "      <td>1.582952e+08</td>\n",
        "      <td>2.011979e+10</td>\n",
        "      <td>5.683841e+10</td>\n",
        "    </tr>\n",
        "    <tr>\n",
        "      <th>10</th>\n",
        "      <td>Forest Industry</td>\n",
        "      <td>372.5</td>\n",
        "      <td>70.6</td>\n",
        "      <td>2000</td>\n",
        "      <td>1911699.993797</td>\n",
        "      <td>1911699.993797</td>\n",
        "      <td>3823399.987595</td>\n",
        "      <td>0.047333</td>\n",
        "      <td>42352.472113</td>\n",
        "      <td>8.877858e+11</td>\n",
        "      <td>6.984775e+09</td>\n",
        "      <td>8.877857e+11</td>\n",
        "      <td>2.507995e+12</td>\n",
        "    </tr>\n",
        "    <tr>\n",
        "      <th>11</th>\n",
        "      <td>Other Private</td>\n",
        "      <td>159.4</td>\n",
        "      <td>49.1</td>\n",
        "      <td>2000</td>\n",
        "      <td>503346.470465</td>\n",
        "      <td>503346.470465</td>\n",
        "      <td>1006692.940930</td>\n",
        "      <td>0.047333</td>\n",
        "      <td>29454.764600</td>\n",
        "      <td>6.174261e+11</td>\n",
        "      <td>4.857684e+09</td>\n",
        "      <td>6.174260e+11</td>\n",
        "      <td>1.744229e+12</td>\n",
        "    </tr>\n",
        "    <tr>\n",
        "      <th>12</th>\n",
        "      <td>National Forest</td>\n",
        "      <td>132.1</td>\n",
        "      <td>11.2</td>\n",
        "      <td>1994</td>\n",
        "      <td>1515512.414130</td>\n",
        "      <td>1515512.414130</td>\n",
        "      <td>3031024.828260</td>\n",
        "      <td>0.047333</td>\n",
        "      <td>6718.805774</td>\n",
        "      <td>1.408385e+11</td>\n",
        "      <td>1.108066e+09</td>\n",
        "      <td>1.408385e+11</td>\n",
        "      <td>3.978688e+11</td>\n",
        "    </tr>\n",
        "    <tr>\n",
        "      <th>13</th>\n",
        "      <td>Other Public</td>\n",
        "      <td>24.7</td>\n",
        "      <td>4.3</td>\n",
        "      <td>1994</td>\n",
        "      <td>138005.799235</td>\n",
        "      <td>138005.799235</td>\n",
        "      <td>276011.598471</td>\n",
        "      <td>0.047333</td>\n",
        "      <td>2579.541503</td>\n",
        "      <td>5.407194e+10</td>\n",
        "      <td>4.254183e+08</td>\n",
        "      <td>5.407193e+10</td>\n",
        "      <td>1.527532e+11</td>\n",
        "    </tr>\n",
        "    <tr>\n",
        "      <th>14</th>\n",
        "      <td>Forest Industry</td>\n",
        "      <td>396.1</td>\n",
        "      <td>63.1</td>\n",
        "      <td>1994</td>\n",
        "      <td>2418534.078346</td>\n",
        "      <td>2418534.078346</td>\n",
        "      <td>4837068.156693</td>\n",
        "      <td>0.047333</td>\n",
        "      <td>37853.271818</td>\n",
        "      <td>7.934742e+11</td>\n",
        "      <td>6.242767e+09</td>\n",
        "      <td>7.934742e+11</td>\n",
        "      <td>2.241565e+12</td>\n",
        "    </tr>\n",
        "    <tr>\n",
        "      <th>15</th>\n",
        "      <td>Other Private</td>\n",
        "      <td>174.7</td>\n",
        "      <td>22.3</td>\n",
        "      <td>1994</td>\n",
        "      <td>1331229.192068</td>\n",
        "      <td>1331229.192068</td>\n",
        "      <td>2662458.384137</td>\n",
        "      <td>0.047333</td>\n",
        "      <td>13377.622211</td>\n",
        "      <td>2.804196e+11</td>\n",
        "      <td>2.206239e+09</td>\n",
        "      <td>2.804196e+11</td>\n",
        "      <td>7.921853e+11</td>\n",
        "    </tr>\n",
        "  </tbody>\n",
        "</table>\n",
        "</div>"
       ],
       "metadata": {},
       "output_type": "pyout",
       "prompt_number": 82,
       "text": [
        "          ownership  roundwoodproducts  loggingresidues  year           erWPu  \\\n",
        "0   National Forest               72.4             20.7  2012   246308.087772   \n",
        "1      Other Public               16.2              3.4  2012    75079.781089   \n",
        "2   Forest Industry              328.9             72.4  2012  1453319.384996   \n",
        "3     Other Private               53.0             11.2  2012   243952.684853   \n",
        "4   National Forest               52.8             16.3  2006   166361.231383   \n",
        "5      Other Public                1.1              0.3  2006     3923.159826   \n",
        "6   Forest Industry              274.3             59.6  2006  1227940.266939   \n",
        "7     Other Private              139.2             33.2  2006   567691.344260   \n",
        "8   National Forest               90.8             22.6  2000   354842.102232   \n",
        "9      Other Public                5.2              1.6  2000    16438.363898   \n",
        "10  Forest Industry              372.5             70.6  2000  1911699.993797   \n",
        "11    Other Private              159.4             49.1  2000   503346.470465   \n",
        "12  National Forest              132.1             11.2  1994  1515512.414130   \n",
        "13     Other Public               24.7              4.3  1994   138005.799235   \n",
        "14  Forest Industry              396.1             63.1  1994  2418534.078346   \n",
        "15    Other Private              174.7             22.3  1994  1331229.192068   \n",
        "\n",
        "             erWPo         erTotal  bioe_pct        bioe_t     unused_lr  \\\n",
        "0    246308.087772   492616.175543  0.047333  12417.792815  2.602998e+11   \n",
        "1     75079.781089   150159.562177  0.047333   2039.637467  4.275456e+10   \n",
        "2   1453319.384996  2906638.769991  0.047333  43432.280184  9.104205e+11   \n",
        "3    243952.684853   487905.369707  0.047333   6718.805774  1.408385e+11   \n",
        "4    166361.231383   332722.462765  0.047333   9778.261975  2.049704e+11   \n",
        "5      3923.159826     7846.319651  0.047333    179.968012  3.772461e+09   \n",
        "6   1227940.266939  2455880.533878  0.047333  35753.645013  7.494622e+11   \n",
        "7    567691.344260  1135382.688520  0.047333  19916.459974  4.174857e+11   \n",
        "8    354842.102232   709684.204465  0.047333  13557.590223  2.841920e+11   \n",
        "9     16438.363898    32876.727796  0.047333    959.829396  2.011979e+10   \n",
        "10  1911699.993797  3823399.987595  0.047333  42352.472113  8.877858e+11   \n",
        "11   503346.470465  1006692.940930  0.047333  29454.764600  6.174261e+11   \n",
        "12  1515512.414130  3031024.828260  0.047333   6718.805774  1.408385e+11   \n",
        "13   138005.799235   276011.598471  0.047333   2579.541503  5.407194e+10   \n",
        "14  2418534.078346  4837068.156693  0.047333  37853.271818  7.934742e+11   \n",
        "15  1331229.192068  2662458.384137  0.047333  13377.622211  2.804196e+11   \n",
        "\n",
        "       burned_lr   unburned_lr  unburned_lr_co2e  \n",
        "0   2.047944e+09  2.602998e+11      7.353469e+11  \n",
        "1   3.363773e+08  4.275455e+10      1.207816e+11  \n",
        "2   7.162858e+09  9.104205e+11      2.571938e+12  \n",
        "3   1.108066e+09  1.408385e+11      3.978688e+11  \n",
        "4   1.612632e+09  2.049704e+11      5.790413e+11  \n",
        "5   2.968035e+07  3.772461e+09      1.065720e+10  \n",
        "6   5.896496e+09  7.494622e+11      2.117231e+12  \n",
        "7   3.284625e+09  4.174856e+11      1.179397e+12  \n",
        "8   2.235920e+09  2.841920e+11      8.028425e+11  \n",
        "9   1.582952e+08  2.011979e+10      5.683841e+10  \n",
        "10  6.984775e+09  8.877857e+11      2.507995e+12  \n",
        "11  4.857684e+09  6.174260e+11      1.744229e+12  \n",
        "12  1.108066e+09  1.408385e+11      3.978688e+11  \n",
        "13  4.254183e+08  5.407193e+10      1.527532e+11  \n",
        "14  6.242767e+09  7.934742e+11      2.241565e+12  \n",
        "15  2.206239e+09  2.804196e+11      7.921853e+11  "
       ]
      }
     ],
     "prompt_number": 82
    },
    {
     "cell_type": "markdown",
     "metadata": {},
     "source": [
      "### Biomass residuals from non-commercial management activities\n",
      "Data from TPO does not account for forest management activities that do not result in commercial products (timber sales, biomass sales). To estimate the amount of residual material produced from non commercial management activities we use data from the US Forest Service (FACTS) and from CalFires timber harvest plan data. \n",
      "\n",
      "#### Forest Service ACtivity Tracking System (FACTS)\n",
      "Data from TPO does not account for forest management activities that do not result in commercial products (timber sales, biomass sales). We use a range of 10-35 BDT/acre to convert acres reported in FACTS to volume."
     ]
    },
    {
     "cell_type": "code",
     "collapsed": false,
     "input": [
      "pd.read_excel('lf/FACTS_Tabular_092115.xlsx', sheetname = 'CategoryCrosswalk').to_sql('facts_cat', sqdb['cx'], if_exists = 'replace')\n",
      "pd.read_csv('pd/facts_notimber.csv').to_sql('facts_notimber', sqdb['cx'], if_exists='replace')"
     ],
     "language": "python",
     "metadata": {},
     "outputs": [
      {
       "ename": "XLRDError",
       "evalue": "Unsupported format, or corrupt file: Expected BOF record; found 'version '",
       "output_type": "pyerr",
       "traceback": [
        "\u001b[0;31m---------------------------------------------------------------------------\u001b[0m\n\u001b[0;31mXLRDError\u001b[0m                                 Traceback (most recent call last)",
        "\u001b[0;32m<ipython-input-83-9e9acf783b62>\u001b[0m in \u001b[0;36m<module>\u001b[0;34m()\u001b[0m\n\u001b[0;32m----> 1\u001b[0;31m \u001b[0mpd\u001b[0m\u001b[0;34m.\u001b[0m\u001b[0mread_excel\u001b[0m\u001b[0;34m(\u001b[0m\u001b[0;34m'lf/FACTS_Tabular_092115.xlsx'\u001b[0m\u001b[0;34m,\u001b[0m \u001b[0msheetname\u001b[0m \u001b[0;34m=\u001b[0m \u001b[0;34m'CategoryCrosswalk'\u001b[0m\u001b[0;34m)\u001b[0m\u001b[0;34m.\u001b[0m\u001b[0mto_sql\u001b[0m\u001b[0;34m(\u001b[0m\u001b[0;34m'facts_cat'\u001b[0m\u001b[0;34m,\u001b[0m \u001b[0msqdb\u001b[0m\u001b[0;34m[\u001b[0m\u001b[0;34m'cx'\u001b[0m\u001b[0;34m]\u001b[0m\u001b[0;34m,\u001b[0m \u001b[0mif_exists\u001b[0m \u001b[0;34m=\u001b[0m \u001b[0;34m'replace'\u001b[0m\u001b[0;34m)\u001b[0m\u001b[0;34m\u001b[0m\u001b[0m\n\u001b[0m\u001b[1;32m      2\u001b[0m \u001b[0mpd\u001b[0m\u001b[0;34m.\u001b[0m\u001b[0mread_csv\u001b[0m\u001b[0;34m(\u001b[0m\u001b[0;34m'pd/facts_notimber.csv'\u001b[0m\u001b[0;34m)\u001b[0m\u001b[0;34m.\u001b[0m\u001b[0mto_sql\u001b[0m\u001b[0;34m(\u001b[0m\u001b[0;34m'facts_notimber'\u001b[0m\u001b[0;34m,\u001b[0m \u001b[0msqdb\u001b[0m\u001b[0;34m[\u001b[0m\u001b[0;34m'cx'\u001b[0m\u001b[0;34m]\u001b[0m\u001b[0;34m,\u001b[0m \u001b[0mif_exists\u001b[0m\u001b[0;34m=\u001b[0m\u001b[0;34m'replace'\u001b[0m\u001b[0;34m)\u001b[0m\u001b[0;34m\u001b[0m\u001b[0m\n",
        "\u001b[0;32m/Users/pete/src/fcat_biomass/lib/python2.7/site-packages/pandas/io/excel.pyc\u001b[0m in \u001b[0;36mread_excel\u001b[0;34m(io, sheetname, header, skiprows, skip_footer, index_col, parse_cols, parse_dates, date_parser, na_values, thousands, convert_float, has_index_names, converters, engine, **kwds)\u001b[0m\n\u001b[1;32m    161\u001b[0m \u001b[0;34m\u001b[0m\u001b[0m\n\u001b[1;32m    162\u001b[0m     \u001b[0;32mif\u001b[0m \u001b[0;32mnot\u001b[0m \u001b[0misinstance\u001b[0m\u001b[0;34m(\u001b[0m\u001b[0mio\u001b[0m\u001b[0;34m,\u001b[0m \u001b[0mExcelFile\u001b[0m\u001b[0;34m)\u001b[0m\u001b[0;34m:\u001b[0m\u001b[0;34m\u001b[0m\u001b[0m\n\u001b[0;32m--> 163\u001b[0;31m         \u001b[0mio\u001b[0m \u001b[0;34m=\u001b[0m \u001b[0mExcelFile\u001b[0m\u001b[0;34m(\u001b[0m\u001b[0mio\u001b[0m\u001b[0;34m,\u001b[0m \u001b[0mengine\u001b[0m\u001b[0;34m=\u001b[0m\u001b[0mengine\u001b[0m\u001b[0;34m)\u001b[0m\u001b[0;34m\u001b[0m\u001b[0m\n\u001b[0m\u001b[1;32m    164\u001b[0m \u001b[0;34m\u001b[0m\u001b[0m\n\u001b[1;32m    165\u001b[0m     return io._parse_excel(\n",
        "\u001b[0;32m/Users/pete/src/fcat_biomass/lib/python2.7/site-packages/pandas/io/excel.pyc\u001b[0m in \u001b[0;36m__init__\u001b[0;34m(self, io, **kwds)\u001b[0m\n\u001b[1;32m    204\u001b[0m                 \u001b[0mself\u001b[0m\u001b[0;34m.\u001b[0m\u001b[0mbook\u001b[0m \u001b[0;34m=\u001b[0m \u001b[0mxlrd\u001b[0m\u001b[0;34m.\u001b[0m\u001b[0mopen_workbook\u001b[0m\u001b[0;34m(\u001b[0m\u001b[0mfile_contents\u001b[0m\u001b[0;34m=\u001b[0m\u001b[0mdata\u001b[0m\u001b[0;34m)\u001b[0m\u001b[0;34m\u001b[0m\u001b[0m\n\u001b[1;32m    205\u001b[0m             \u001b[0;32melse\u001b[0m\u001b[0;34m:\u001b[0m\u001b[0;34m\u001b[0m\u001b[0m\n\u001b[0;32m--> 206\u001b[0;31m                 \u001b[0mself\u001b[0m\u001b[0;34m.\u001b[0m\u001b[0mbook\u001b[0m \u001b[0;34m=\u001b[0m \u001b[0mxlrd\u001b[0m\u001b[0;34m.\u001b[0m\u001b[0mopen_workbook\u001b[0m\u001b[0;34m(\u001b[0m\u001b[0mio\u001b[0m\u001b[0;34m)\u001b[0m\u001b[0;34m\u001b[0m\u001b[0m\n\u001b[0m\u001b[1;32m    207\u001b[0m         \u001b[0;32melif\u001b[0m \u001b[0mengine\u001b[0m \u001b[0;34m==\u001b[0m \u001b[0;34m'xlrd'\u001b[0m \u001b[0;32mand\u001b[0m \u001b[0misinstance\u001b[0m\u001b[0;34m(\u001b[0m\u001b[0mio\u001b[0m\u001b[0;34m,\u001b[0m \u001b[0mxlrd\u001b[0m\u001b[0;34m.\u001b[0m\u001b[0mBook\u001b[0m\u001b[0;34m)\u001b[0m\u001b[0;34m:\u001b[0m\u001b[0;34m\u001b[0m\u001b[0m\n\u001b[1;32m    208\u001b[0m             \u001b[0mself\u001b[0m\u001b[0;34m.\u001b[0m\u001b[0mbook\u001b[0m \u001b[0;34m=\u001b[0m \u001b[0mio\u001b[0m\u001b[0;34m\u001b[0m\u001b[0m\n",
        "\u001b[0;32m/usr/local/lib/python2.7/site-packages/xlrd/__init__.pyc\u001b[0m in \u001b[0;36mopen_workbook\u001b[0;34m(filename, logfile, verbosity, use_mmap, file_contents, encoding_override, formatting_info, on_demand, ragged_rows)\u001b[0m\n\u001b[1;32m    433\u001b[0m         \u001b[0mformatting_info\u001b[0m\u001b[0;34m=\u001b[0m\u001b[0mformatting_info\u001b[0m\u001b[0;34m,\u001b[0m\u001b[0;34m\u001b[0m\u001b[0m\n\u001b[1;32m    434\u001b[0m         \u001b[0mon_demand\u001b[0m\u001b[0;34m=\u001b[0m\u001b[0mon_demand\u001b[0m\u001b[0;34m,\u001b[0m\u001b[0;34m\u001b[0m\u001b[0m\n\u001b[0;32m--> 435\u001b[0;31m         \u001b[0mragged_rows\u001b[0m\u001b[0;34m=\u001b[0m\u001b[0mragged_rows\u001b[0m\u001b[0;34m,\u001b[0m\u001b[0;34m\u001b[0m\u001b[0m\n\u001b[0m\u001b[1;32m    436\u001b[0m         )\n\u001b[1;32m    437\u001b[0m     \u001b[0;32mreturn\u001b[0m \u001b[0mbk\u001b[0m\u001b[0;34m\u001b[0m\u001b[0m\n",
        "\u001b[0;32m/usr/local/lib/python2.7/site-packages/xlrd/book.pyc\u001b[0m in \u001b[0;36mopen_workbook_xls\u001b[0;34m(filename, logfile, verbosity, use_mmap, file_contents, encoding_override, formatting_info, on_demand, ragged_rows)\u001b[0m\n\u001b[1;32m     89\u001b[0m         \u001b[0mt1\u001b[0m \u001b[0;34m=\u001b[0m \u001b[0mtime\u001b[0m\u001b[0;34m.\u001b[0m\u001b[0mclock\u001b[0m\u001b[0;34m(\u001b[0m\u001b[0;34m)\u001b[0m\u001b[0;34m\u001b[0m\u001b[0m\n\u001b[1;32m     90\u001b[0m         \u001b[0mbk\u001b[0m\u001b[0;34m.\u001b[0m\u001b[0mload_time_stage_1\u001b[0m \u001b[0;34m=\u001b[0m \u001b[0mt1\u001b[0m \u001b[0;34m-\u001b[0m \u001b[0mt0\u001b[0m\u001b[0;34m\u001b[0m\u001b[0m\n\u001b[0;32m---> 91\u001b[0;31m         \u001b[0mbiff_version\u001b[0m \u001b[0;34m=\u001b[0m \u001b[0mbk\u001b[0m\u001b[0;34m.\u001b[0m\u001b[0mgetbof\u001b[0m\u001b[0;34m(\u001b[0m\u001b[0mXL_WORKBOOK_GLOBALS\u001b[0m\u001b[0;34m)\u001b[0m\u001b[0;34m\u001b[0m\u001b[0m\n\u001b[0m\u001b[1;32m     92\u001b[0m         \u001b[0;32mif\u001b[0m \u001b[0;32mnot\u001b[0m \u001b[0mbiff_version\u001b[0m\u001b[0;34m:\u001b[0m\u001b[0;34m\u001b[0m\u001b[0m\n\u001b[1;32m     93\u001b[0m             \u001b[0;32mraise\u001b[0m \u001b[0mXLRDError\u001b[0m\u001b[0;34m(\u001b[0m\u001b[0;34m\"Can't determine file's BIFF version\"\u001b[0m\u001b[0;34m)\u001b[0m\u001b[0;34m\u001b[0m\u001b[0m\n",
        "\u001b[0;32m/usr/local/lib/python2.7/site-packages/xlrd/book.pyc\u001b[0m in \u001b[0;36mgetbof\u001b[0;34m(self, rqd_stream)\u001b[0m\n\u001b[1;32m   1228\u001b[0m             \u001b[0mbof_error\u001b[0m\u001b[0;34m(\u001b[0m\u001b[0;34m'Expected BOF record; met end of file'\u001b[0m\u001b[0;34m)\u001b[0m\u001b[0;34m\u001b[0m\u001b[0m\n\u001b[1;32m   1229\u001b[0m         \u001b[0;32mif\u001b[0m \u001b[0mopcode\u001b[0m \u001b[0;32mnot\u001b[0m \u001b[0;32min\u001b[0m \u001b[0mbofcodes\u001b[0m\u001b[0;34m:\u001b[0m\u001b[0;34m\u001b[0m\u001b[0m\n\u001b[0;32m-> 1230\u001b[0;31m             \u001b[0mbof_error\u001b[0m\u001b[0;34m(\u001b[0m\u001b[0;34m'Expected BOF record; found %r'\u001b[0m \u001b[0;34m%\u001b[0m \u001b[0mself\u001b[0m\u001b[0;34m.\u001b[0m\u001b[0mmem\u001b[0m\u001b[0;34m[\u001b[0m\u001b[0msavpos\u001b[0m\u001b[0;34m:\u001b[0m\u001b[0msavpos\u001b[0m\u001b[0;34m+\u001b[0m\u001b[0;36m8\u001b[0m\u001b[0;34m]\u001b[0m\u001b[0;34m)\u001b[0m\u001b[0;34m\u001b[0m\u001b[0m\n\u001b[0m\u001b[1;32m   1231\u001b[0m         \u001b[0mlength\u001b[0m \u001b[0;34m=\u001b[0m \u001b[0mself\u001b[0m\u001b[0;34m.\u001b[0m\u001b[0mget2bytes\u001b[0m\u001b[0;34m(\u001b[0m\u001b[0;34m)\u001b[0m\u001b[0;34m\u001b[0m\u001b[0m\n\u001b[1;32m   1232\u001b[0m         \u001b[0;32mif\u001b[0m \u001b[0mlength\u001b[0m \u001b[0;34m==\u001b[0m \u001b[0mMY_EOF\u001b[0m\u001b[0;34m:\u001b[0m\u001b[0;34m\u001b[0m\u001b[0m\n",
        "\u001b[0;32m/usr/local/lib/python2.7/site-packages/xlrd/book.pyc\u001b[0m in \u001b[0;36mbof_error\u001b[0;34m(msg)\u001b[0m\n\u001b[1;32m   1222\u001b[0m         \u001b[0;32mif\u001b[0m \u001b[0mDEBUG\u001b[0m\u001b[0;34m:\u001b[0m \u001b[0;32mprint\u001b[0m\u001b[0;34m(\u001b[0m\u001b[0;34m\"reqd: 0x%04x\"\u001b[0m \u001b[0;34m%\u001b[0m \u001b[0mrqd_stream\u001b[0m\u001b[0;34m,\u001b[0m \u001b[0mfile\u001b[0m\u001b[0;34m=\u001b[0m\u001b[0mself\u001b[0m\u001b[0;34m.\u001b[0m\u001b[0mlogfile\u001b[0m\u001b[0;34m)\u001b[0m\u001b[0;34m\u001b[0m\u001b[0m\n\u001b[1;32m   1223\u001b[0m         \u001b[0;32mdef\u001b[0m \u001b[0mbof_error\u001b[0m\u001b[0;34m(\u001b[0m\u001b[0mmsg\u001b[0m\u001b[0;34m)\u001b[0m\u001b[0;34m:\u001b[0m\u001b[0;34m\u001b[0m\u001b[0m\n\u001b[0;32m-> 1224\u001b[0;31m             \u001b[0;32mraise\u001b[0m \u001b[0mXLRDError\u001b[0m\u001b[0;34m(\u001b[0m\u001b[0;34m'Unsupported format, or corrupt file: '\u001b[0m \u001b[0;34m+\u001b[0m \u001b[0mmsg\u001b[0m\u001b[0;34m)\u001b[0m\u001b[0;34m\u001b[0m\u001b[0m\n\u001b[0m\u001b[1;32m   1225\u001b[0m         \u001b[0msavpos\u001b[0m \u001b[0;34m=\u001b[0m \u001b[0mself\u001b[0m\u001b[0;34m.\u001b[0m\u001b[0m_position\u001b[0m\u001b[0;34m\u001b[0m\u001b[0m\n\u001b[1;32m   1226\u001b[0m         \u001b[0mopcode\u001b[0m \u001b[0;34m=\u001b[0m \u001b[0mself\u001b[0m\u001b[0;34m.\u001b[0m\u001b[0mget2bytes\u001b[0m\u001b[0;34m(\u001b[0m\u001b[0;34m)\u001b[0m\u001b[0;34m\u001b[0m\u001b[0m\n",
        "\u001b[0;31mXLRDError\u001b[0m: Unsupported format, or corrupt file: Expected BOF record; found 'version '"
       ]
      }
     ],
     "prompt_number": 83
    },
    {
     "cell_type": "markdown",
     "metadata": {},
     "source": [
      "#### Querying FACTS\n",
      "The USFS [reports](http://data.fs.usda.gov/geodata/edw/datasets.php?dsetParent=Activities) Hazardous Fuels Treatment (HFT) activities as well as Timber Sales (TS) derived from the FACTS database. We use these two datasets to estimate the number of acres treated that did not produce commercial material (sawlogs or biomass) and where burning was not used. The first step is to elimina all treatments in the HFT dataset that included timber sales. We accomplish this by eliminating all rows in the HFT dataset that have identical `FACTS_ID` fields in the TS dataset. We further filter the HFT dataset by removing any planned but not executed treatements (`nbr_units1 >0` below -- `nbr_units1` references `NBR_UNITS_ACCOMPLISHED` in the USFS dataset, see metadata for HFT [here](http://data.fs.usda.gov/geodata/edw/edw_resources/meta/S_USA.Activity_HazFuelTrt_PL.xml)), and use text matching in the 'ACTIVITY' and 'METHOD' fields to remove any rows that contain reference to 'burning' or 'fire'. Finally, we remove all rows that that reference 'Biomass' in the method category as it is assumed that this means material was removed for bioenergy."
     ]
    },
    {
     "cell_type": "code",
     "collapsed": false,
     "input": [
      "usfs_acres = pd.read_sql('''select\n",
      "                                sum(nbr_units1) acres,\n",
      "                                method,\n",
      "                                strftime('%Y',date_compl) year,\n",
      "                                cat.\"ACTIVITY\" activity,\n",
      "                                cat.\"TENTATIVE_CATEGORY\" r5_cat\n",
      "                            from facts_notimber n \n",
      "                                join facts_cat cat\n",
      "                                    on (n.activity = cat.\"ACTIVITY\") \n",
      "                            where date_compl is not null\n",
      "                                and nbr_units1 > 0\n",
      "                                and cat.\"TENTATIVE_CATEGORY\" != 'Burning'\n",
      "                                and cat.\"ACTIVITY\" not like '%ire%'\n",
      "                                and method not like '%Burn%'\n",
      "                                and method != 'Biomass'\n",
      "                            group by cat.\"ACTIVITY\",\n",
      "                                year,\n",
      "                                method,\n",
      "                                cat.\"TENTATIVE_CATEGORY\"\n",
      "                            order by year;''', con = sqdb['cx'])"
     ],
     "language": "python",
     "metadata": {},
     "outputs": []
    },
    {
     "cell_type": "markdown",
     "metadata": {},
     "source": [
      "#### Converting acres to cubic feet\n",
      "FACTS reports in acres. To estimate the production of biomass from acres treated we use a range of 10-35 BDT/acre. We assume that actual biomass residuals per acre are normally distributed with a mean of 22.5 and a standard deviation of (35-10)/4 = 6.25 "
     ]
    },
    {
     "cell_type": "code",
     "collapsed": false,
     "input": [
      "def sumBDT(ac, maxbdt = 35, minbdt = 10):\n",
      "    av = (maxbdt + minbdt)/2\n",
      "    stdev = (float(maxbdt) - float(minbdt))/4 \n",
      "    d_frac = (ac-np.floor(ac))*np.random.normal(av, stdev, 1).clip(min=0)[0]\n",
      "    t_bdt = np.sum(np.random.normal(av,stdev,np.floor(ac)).clip(min=0))\n",
      "    return d_frac+t_bdt"
     ],
     "language": "python",
     "metadata": {},
     "outputs": []
    },
    {
     "cell_type": "code",
     "collapsed": false,
     "input": [
      "usfs_acres['bdt'] = usfs_acres['acres'].apply(sumBDT)\n",
      "usfs_an_bdt = usfs_acres.groupby(['year']).sum()"
     ],
     "language": "python",
     "metadata": {},
     "outputs": []
    },
    {
     "cell_type": "markdown",
     "metadata": {},
     "source": [
      "#### Weighted average wood density\n",
      "Average wood density weighted by harvested species percent. Derived from McIver and Morgan,  [Table 4](https://docs.google.com/spreadsheets/d/138FWlGeW57MKdcz2UkWxtWV4o50SZO8sduB1R6JOFp8/edit#gid=393414465)"
     ]
    },
    {
     "cell_type": "code",
     "collapsed": false,
     "input": [
      "wood_dens = ut.gData('138FWlGeW57MKdcz2UkWxtWV4o50SZO8sduB1R6JOFp8', 1297253755)\n",
      "wavg_dens =sum(wood_dens.pct/100 * wood_dens.density_lbscuft)"
     ],
     "language": "python",
     "metadata": {},
     "outputs": []
    },
    {
     "cell_type": "markdown",
     "metadata": {},
     "source": [
      "### Annual unutilized management residuals\n",
      "- [x] Public lands non-commercial management residuals \n",
      "- [ ] Private land non-commercial management residuals\n",
      "- [x] Public lands logging residuals\n",
      "- [x] Private lands logging residuals"
     ]
    },
    {
     "cell_type": "code",
     "collapsed": false,
     "input": [
      "cat_codes = {'nf_ncmr': 'Unburned, non-commercial management residuals from National Forest lands',\n",
      "             'nf_lr': 'Logging residuals generated from timber sales on National Forest lands',\n",
      "             'opriv_lr': 'Logging residuals generated from timber sales on non-industrial private forest lands',\n",
      "             'fi_lr': 'Logging residuals generated from timber sales on industrial private lands',\n",
      "             'opub_lr': 'Logging residuals generated from timber sales on industrial private lands'}"
     ],
     "language": "python",
     "metadata": {},
     "outputs": []
    },
    {
     "cell_type": "code",
     "collapsed": false,
     "input": [
      "usfs_an_bdt['cuft']= usfs_an_bdt.bdt *wavg_dens\n",
      "resid_stats=pd.DataFrame((usfs_an_bdt.iloc[6:,2]/1000000).describe())\n",
      "resid_stats.columns = ['nf_ncmr']\n",
      "resid_stats['nf_lr']=tpoData[tpoData.ownership.str.contains('National Forest')]['loggingresidues'].describe()\n",
      "resid_stats['opriv_lr']=tpoData[tpoData.ownership.str.contains('Other Private')]['loggingresidues'].describe()\n",
      "resid_stats['fi_lr']=tpoData[tpoData.ownership.str.contains('Forest Industry')]['loggingresidues'].describe()\n",
      "resid_stats['opub_lr']=tpoData[tpoData.ownership.str.contains('Other Public')]['loggingresidues'].describe()\n",
      "resid_stats"
     ],
     "language": "python",
     "metadata": {},
     "outputs": []
    },
    {
     "cell_type": "code",
     "collapsed": false,
     "input": [
      "print tabulate(resid_stats, headers = resid_stats.columns.tolist(), tablefmt ='pipe')"
     ],
     "language": "python",
     "metadata": {},
     "outputs": []
    },
    {
     "cell_type": "markdown",
     "metadata": {},
     "source": [
      "#### Estimating combined GHG and SLCP emissions from unutilized residues\n",
      "Only a fraction of the"
     ]
    },
    {
     "cell_type": "code",
     "collapsed": false,
     "input": [
      "ureg = UnitRegistry()\n",
      "ureg.define('cubic foot =  cubic_centimeter/ 3.53147e-5 = cubic_foot' )\n",
      "ureg.define('million cubic foot =  cubic_foot*1000000 = MMCF' )\n",
      "ureg.define('board foot sawlog = cubic_foot / 5.44 = BF_saw')\n",
      "ureg.define('board foot veneer = cubic_foot / 5.0 = BF_vo')\n",
      "ureg.define('board foot bioenergy = cubic_foot / 1.0 = BF_bio')\n",
      "ureg.define('bone-dry unit = cubic_foot * 96 = BDU')\n"
     ],
     "language": "python",
     "metadata": {},
     "outputs": []
    }
   ],
   "metadata": {}
  }
 ]
}