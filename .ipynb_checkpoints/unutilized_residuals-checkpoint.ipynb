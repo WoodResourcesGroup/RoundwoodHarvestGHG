{
 "metadata": {
  "name": "",
  "signature": "sha256:1a7a4d34b14ff1be72bf9507bc8bb1faeac0032bb3f8d570905c84cdbe878a64"
 },
 "nbformat": 3,
 "nbformat_minor": 0,
 "worksheets": [
  {
   "cells": [
    {
     "cell_type": "code",
     "collapsed": false,
     "input": [
      "import utils as ut\n",
      "from pint import UnitRegistry\n",
      "import pandas as pd\n",
      "from ggplot import *\n",
      "import seaborn as sns\n",
      "from tabulate import tabulate\n",
      "from numpy import average as avg\n",
      "import numpy as np"
     ],
     "language": "python",
     "metadata": {},
     "outputs": [],
     "prompt_number": 58
    },
    {
     "cell_type": "code",
     "collapsed": false,
     "input": [
      "sqdb = ut.sqlitedb('fcat_biomass')"
     ],
     "language": "python",
     "metadata": {},
     "outputs": [],
     "prompt_number": 2
    },
    {
     "cell_type": "markdown",
     "metadata": {},
     "source": [
      "### Black Carbon from pile burning\n",
      "The  CARB criteria pollutant emissions inventory reports Particualte Matter (PM 2.5) emissions from anthropogenic buring of forest residuals. The follwing estimates elemental carbon (Black Carbon) based on empirically derived relationships between PM2.5 and EC from:\n",
      "\n",
      "1. Ward DE, Hardy CC. Organic and elemental profiles for smoke from prescribed fires. In: Watson JG, editor. International specialty conference of the Air and Waste Management Association [Internet]. San Francisco: Air and Waste Management Association; 1989. Available from: http://www.frames.gov/documents/smoke/serdp/ward_hardy_1989a.pdf"
     ]
    },
    {
     "cell_type": "code",
     "collapsed": false,
     "input": [
      "ward = ut.gData('13UQtRfNBSJ81PXxbYSnB2LrjHePNcvhJhrsxRBjHpoY', 475419971)\n",
      "#Units are ratio of EC to PM produced \n",
      "wardDF = ward[['source','ecton-1_h_pm','ecton-1_l_pm']].transpose()\n",
      "wardDF.columns = wardDF.iloc[0]\n",
      "eFact = wardDF.to_dict()\n",
      "d = dict(zip([eFact[i]['source'] for i in eFact.keys()],['ALL VEGETATION','WILDLAND FIRE USE (WFU)','FOREST MANAGEMENT']))\n",
      "for k in eFact.keys():\n",
      "    eFact[k]['arblink'] = d[k]\n",
      "pd.DataFrame.from_dict(eFact).transpose().to_sql('bc_pm_ratio', sqdb['cx'], if_exists= 'replace')\n",
      "#print tabulate(pd.DataFrame.from_dict(eFact).transpose(), headers = ['CARB CPE Cat.','BC/t PM 2.5 (high)','BC/t PM 2.5 (low)', 'Source'], tablefmt=\"pipe\")\n",
      "pd.DataFrame.from_dict(eFact).transpose()"
     ],
     "language": "python",
     "metadata": {},
     "outputs": [
      {
       "html": [
        "<div style=\"max-width:1500px;overflow:auto;\">\n",
        "<table border=\"1\" class=\"dataframe\">\n",
        "  <thead>\n",
        "    <tr style=\"text-align: right;\">\n",
        "      <th></th>\n",
        "      <th>arblink</th>\n",
        "      <th>ecton-1_h_pm</th>\n",
        "      <th>ecton-1_l_pm</th>\n",
        "      <th>source</th>\n",
        "    </tr>\n",
        "  </thead>\n",
        "  <tbody>\n",
        "    <tr>\n",
        "      <th>piles</th>\n",
        "      <td>FOREST MANAGEMENT</td>\n",
        "      <td>0.0064695</td>\n",
        "      <td>0.0043405</td>\n",
        "      <td>piles</td>\n",
        "    </tr>\n",
        "    <tr>\n",
        "      <th>prescribed natural fire</th>\n",
        "      <td>WILDLAND FIRE USE (WFU)</td>\n",
        "      <td>0.156683</td>\n",
        "      <td>0.06065</td>\n",
        "      <td>prescribed natural fire</td>\n",
        "    </tr>\n",
        "    <tr>\n",
        "      <th>wildfire</th>\n",
        "      <td>ALL VEGETATION</td>\n",
        "      <td>0.198383</td>\n",
        "      <td>0.0767915</td>\n",
        "      <td>wildfire</td>\n",
        "    </tr>\n",
        "  </tbody>\n",
        "</table>\n",
        "</div>"
       ],
       "metadata": {},
       "output_type": "pyout",
       "prompt_number": 3,
       "text": [
        "                                         arblink ecton-1_h_pm ecton-1_l_pm  \\\n",
        "piles                          FOREST MANAGEMENT    0.0064695    0.0043405   \n",
        "prescribed natural fire  WILDLAND FIRE USE (WFU)     0.156683      0.06065   \n",
        "wildfire                          ALL VEGETATION     0.198383    0.0767915   \n",
        "\n",
        "                                          source  \n",
        "piles                                      piles  \n",
        "prescribed natural fire  prescribed natural fire  \n",
        "wildfire                                wildfire  "
       ]
      }
     ],
     "prompt_number": 3
    },
    {
     "cell_type": "markdown",
     "metadata": {},
     "source": [
      "### Black Carbon Global Warming Potential\n",
      "[Several estimates](https://docs.google.com/spreadsheets/d/13UQtRfNBSJ81PXxbYSnB2LrjHePNcvhJhrsxRBjHpoY/edit#gid=195715938) exist for the GWP of Black Carbon. We use GWP20 estimates for black carbon from the CARB Short-Lived Climate Pollutant Strategy and from Fuglestvedt et. al 2000.\n",
      "\n",
      "#### References\n",
      "1. California Air Resources Board. [Short Lived Climate Pollutant Reduction Strategy](https://docs.google.com/uc?id=0B9-9Vlx0SkkFWmxxQ2xtSkNxSlU&export=download). Sacramento, CA; 2015. \n",
      "2. Fuglestvedt JS, Berntsen TK, Godal O, Skodvin T. Climate implications of GWP-based reductions in greenhouse gas emissions. Geophys Res Lett [Internet]. 2000 Feb 1 [cited 2015 Sep 5];27(3):409\u201312. Available from: http://doi.wiley.com/10.1029/1999GL010939"
     ]
    },
    {
     "cell_type": "code",
     "collapsed": false,
     "input": [
      "bc_gwp = ut.gData('13UQtRfNBSJ81PXxbYSnB2LrjHePNcvhJhrsxRBjHpoY', 195715938)\n",
      "bc_gwp.to_sql('bc_gwp', sqdb['cx'], if_exists = 'replace')\n",
      "#print tabulate(bc_gwp.drop('est_id', 1), headers = [i for i in bc_gwp.drop('est_id', 1).columns],tablefmt=\"pipe\")\n",
      "bc_gwp.drop('est_id', 1)"
     ],
     "language": "python",
     "metadata": {},
     "outputs": [
      {
       "html": [
        "<div style=\"max-width:1500px;overflow:auto;\">\n",
        "<table border=\"1\" class=\"dataframe\">\n",
        "  <thead>\n",
        "    <tr style=\"text-align: right;\">\n",
        "      <th></th>\n",
        "      <th>gwp_20</th>\n",
        "      <th>gwp_20_std</th>\n",
        "      <th>gwp_100</th>\n",
        "      <th>gwp_100_std</th>\n",
        "      <th>gwp_500</th>\n",
        "      <th>gwp_500_std</th>\n",
        "      <th>source</th>\n",
        "    </tr>\n",
        "  </thead>\n",
        "  <tbody>\n",
        "    <tr>\n",
        "      <th>0</th>\n",
        "      <td>2200</td>\n",
        "      <td>888.82</td>\n",
        "      <td>633.33</td>\n",
        "      <td>255.41</td>\n",
        "      <td>193.33</td>\n",
        "      <td>77.67</td>\n",
        "      <td>Fuglestvedt2000</td>\n",
        "    </tr>\n",
        "    <tr>\n",
        "      <th>1</th>\n",
        "      <td>3200</td>\n",
        "      <td>NaN</td>\n",
        "      <td>900.00</td>\n",
        "      <td>NaN</td>\n",
        "      <td>NaN</td>\n",
        "      <td>NaN</td>\n",
        "      <td>CaliforniaAirResourcesBoard2015</td>\n",
        "    </tr>\n",
        "  </tbody>\n",
        "</table>\n",
        "</div>"
       ],
       "metadata": {},
       "output_type": "pyout",
       "prompt_number": 4,
       "text": [
        "   gwp_20  gwp_20_std  gwp_100  gwp_100_std  gwp_500  gwp_500_std  \\\n",
        "0    2200      888.82   633.33       255.41   193.33        77.67   \n",
        "1    3200         NaN   900.00          NaN      NaN          NaN   \n",
        "\n",
        "                            source  \n",
        "0                  Fuglestvedt2000  \n",
        "1  CaliforniaAirResourcesBoard2015  "
       ]
      }
     ],
     "prompt_number": 4
    },
    {
     "cell_type": "markdown",
     "metadata": {},
     "source": [
      "###CARB Criteria Air Pollutant (CPE) emissions data 2015\n",
      "Particulate Matter, Carbon Monoxide, Nitrogen Oxide, Sulfur Dioxide, Lead, and Reactive Organic Gases"
     ]
    },
    {
     "cell_type": "code",
     "collapsed": false,
     "input": [
      "cpe_data = pd.read_csv('http://www.arb.ca.gov/app/emsinv/2013/emsbyeic.csv?F_YR=2015&F_DIV=0&F_SEASON=A&SP=2013&SPN=2013_Almanac&F_AREA=CA')\n",
      "cpe_data.columns = [i.lower() for i in cpe_data.columns]\n",
      "cpe_data.to_sql('cpe_2015', sqdb['cx'], if_exists = 'replace')\n",
      "cpe_2015 = pd.read_sql('''SELECT\n",
      "                                eicsoun,\n",
      "                                pm.source type,\n",
      "                                pm2_5 pm25_tpd,\n",
      "                                pm2_5*365*\"ecton-1_h_pm\" as t_ec_high,\n",
      "                                pm2_5*365*\"ecton-1_l_pm\" as t_ec_low,\n",
      "                                pm2_5*365*\"ecton-1_h_pm\"*gwp_20 as co2e_high,\n",
      "                                pm2_5*365*\"ecton-1_l_pm\"*gwp_20 as co2e_low,\n",
      "                                pm2_5*365*\"ecton-1_l_pm\"*(gwp_20-gwp_20_std) as co2e20_low_m1std,\n",
      "                                pm2_5*365*\"ecton-1_l_pm\"*(gwp_20+gwp_20_std) as co2e20_low_p1std,\n",
      "                                pm2_5*365*\"ecton-1_h_pm\"*(gwp_20-gwp_20_std) as co2e20_hi_m1std,\n",
      "                                pm2_5*365*\"ecton-1_h_pm\"*(gwp_20+gwp_20_std) as co2e20_hi_p1std,\n",
      "                                pm2_5*365*\"ecton-1_l_pm\"*(gwp_100-gwp_100_std) as co2e100_low_m1std,\n",
      "                                pm2_5*365*\"ecton-1_l_pm\"*(gwp_100+gwp_100_std) as co2e100_low_p1std,\n",
      "                                pm2_5*365*\"ecton-1_h_pm\"*(gwp_100-gwp_100_std) as co2e100_hi_m1std,\n",
      "                                pm2_5*365*\"ecton-1_h_pm\"*(gwp_100+gwp_100_std) as co2e100_hi_p1std,\n",
      "                                gwp.source\n",
      "                            FROM cpe_2015\n",
      "                            JOIN bc_pm_ratio pm  on  (arblink = eicsoun)\n",
      "                            CROSS JOIN bc_gwp gwp \n",
      "                            WHERE eicsoun in ('FOREST MANAGEMENT','WILDLAND FIRE USE (WFU)','ALL VEGETATION')''',\n",
      "            con = sqdb['cx'])\n",
      "\n",
      "foo = pd.melt(cpe_2015.drop('eicsoun',1), id_vars = ['type', 'source'])\n",
      "bar = foo[foo['variable'].str.contains(\"co2e\")].dropna()\n",
      "bar['type'] = bar.type.astype('category')\n",
      "bar.value = bar.value/100000"
     ],
     "language": "python",
     "metadata": {},
     "outputs": [],
     "prompt_number": 5
    },
    {
     "cell_type": "markdown",
     "metadata": {},
     "source": [
      "#### Make the BC GHG emissions plot"
     ]
    },
    {
     "cell_type": "code",
     "collapsed": false,
     "input": [
      "g=sns.FacetGrid(bar,col='type', sharey=False)\n",
      "g.map(sns.boxplot, 'type','value')\n",
      "g.set_ylabels('Mt $CO_2e$')\n",
      "[c.xaxis.set_visible(False) for c in g.axes[0]]\n",
      "sns.plt.subplots_adjust(top = 0.8)\n",
      "g.fig.suptitle('Black carbon emissions in CO2 equivalent units from burning in CA, 2015', fontsize= 15)\n",
      "g.fig.text(0.1, -0.08,'Source: CARB Criteria Pollutant Emissions Inventory, 2015',\n",
      "      fontsize=10)\n",
      "for f in ['.png','.pdf']:\n",
      "    g.savefig('graphics/bc_gwp{0}'.format(f))"
     ],
     "language": "python",
     "metadata": {},
     "outputs": [
      {
       "output_type": "stream",
       "stream": "stderr",
       "text": [
        "/home/pete/src/fcat_biomass/lib/python2.7/site-packages/matplotlib/__init__.py:892: UserWarning: axes.color_cycle is deprecated and replaced with axes.prop_cycle; please use the latter.\n",
        "  warnings.warn(self.msg_depr % (key, alt_key))\n"
       ]
      },
      {
       "metadata": {},
       "output_type": "display_data",
       "png": "[encoded data removed]",
       "text": [
        "<matplotlib.figure.Figure at 0x7f64290f0810>"
       ]
      }
     ],
     "prompt_number": 6
    },
    {
     "cell_type": "markdown",
     "metadata": {},
     "source": [
      "Tried to do this with [ggplot](http://ggplot.yhathq.com/) but coudnt figure out how to eliminate the y axis ticks..\n",
      "`ggplot(bar, aes(x='value', y='type')) + geom_boxplot() + labs(x ='$Mt CO_2e$', y = \" \") +facet_wrap('type') `"
     ]
    },
    {
     "cell_type": "markdown",
     "metadata": {},
     "source": [
      "###Forested Lands and Wood Products Biodegradable Carbon Emissions & Sinks (MMTCO2)\n",
      "ARB (2007). Technical support document for Land Use, Land Use Change & Forestry - Biodegradable Carbon Emissions & Sinks. Table available as a pdf document at: http://www.arb.ca.gov/cc/inventory/archive/tables/net_co2_flux_2007-11-19.pdf"
     ]
    },
    {
     "cell_type": "code",
     "collapsed": false,
     "input": [
      "t=foo[foo['variable'].str.contains(\"co2e20\")].dropna()\n",
      "co2 = ut.gData('1GDdquzrCoq2cxVN2fbCpP4gwi2yrMnONNrWbfhZKZu4', 1636249481)\n",
      "co2.columns = co2.iloc[0]\n",
      "co2plot=pd.melt(co2.reindex(co2.index.drop(0)), id_vars = ['Year'])\n",
      "co2plot.columns = ['sc_cat','year','mmtco2e']\n",
      "co2plot.to_sql('arb_co2', sqdb['cx'], if_exists = 'replace')\n",
      "cdata = pd.read_sql('''select sc_cat, avg(mmtco2e) from arb_co2 where sc_cat in ('Forest and rangeland fires', 'Timber harvest slash')  group by sc_cat''', con = sqdb['cx'])"
     ],
     "language": "python",
     "metadata": {},
     "outputs": [],
     "prompt_number": 7
    },
    {
     "cell_type": "code",
     "collapsed": false,
     "input": [
      "cdata\n",
      "#Output GitHub Markdown using the following:\n",
      "#print tabulate(cdata, headers = ['Source Category','MMTCO2'],tablefmt=\"pipe\")"
     ],
     "language": "python",
     "metadata": {},
     "outputs": [
      {
       "html": [
        "<div style=\"max-width:1500px;overflow:auto;\">\n",
        "<table border=\"1\" class=\"dataframe\">\n",
        "  <thead>\n",
        "    <tr style=\"text-align: right;\">\n",
        "      <th></th>\n",
        "      <th>sc_cat</th>\n",
        "      <th>avg(mmtco2e)</th>\n",
        "    </tr>\n",
        "  </thead>\n",
        "  <tbody>\n",
        "    <tr>\n",
        "      <th>0</th>\n",
        "      <td>Forest and rangeland fires</td>\n",
        "      <td>2.019400</td>\n",
        "    </tr>\n",
        "    <tr>\n",
        "      <th>1</th>\n",
        "      <td>Timber harvest slash</td>\n",
        "      <td>0.155267</td>\n",
        "    </tr>\n",
        "  </tbody>\n",
        "</table>\n",
        "</div>"
       ],
       "metadata": {},
       "output_type": "pyout",
       "prompt_number": 8,
       "text": [
        "                       sc_cat  avg(mmtco2e)\n",
        "0  Forest and rangeland fires      2.019400\n",
        "1        Timber harvest slash      0.155267"
       ]
      }
     ],
     "prompt_number": 8
    },
    {
     "cell_type": "markdown",
     "metadata": {},
     "source": [
      "### GHG equivalent emissions from management residuals\n",
      "To arrive at an estimate of total annual emissions from buring forest management residuals in CO2 equivalent terms from published CARB estimates we can combine the CO2 emissions reported for 2004 in the LULUC Biodegradable Carbon Emissions and Sinks with black carbon emissions extrapolated from the CARB Criteria Air Pollutant Emissions inventory estimates. The dime discreppancy between the 2004 and 2015 is acknowledged as an irreconcilable source of uncertainty in this estimation among others. This does however reflect that a baseline of substantial emissions from forest management residuals has been reported in CARB emissions inventories and should be recognized as a baseline condition.  "
     ]
    },
    {
     "cell_type": "code",
     "collapsed": false,
     "input": [
      "t=foo[foo['variable'].str.contains(\"co2e20\")].dropna()\n",
      "tE = pd.DataFrame([cdata['avg(mmtco2e)'][1]*1.10231,\n",
      "              avg(t[t['type'].str.contains('piles')]['value'])/100000,\n",
      "             (cdata['avg(mmtco2e)'][1]*1.10231)+(avg(t[t['type'].str.contains('piles')]['value'])/100000)],columns = ['Mt CO2e'])\n",
      "tE['Source']=['CO2 pile buring', 'CO2e BC pile burning', 'Total Mt CO2e']"
     ],
     "language": "python",
     "metadata": {},
     "outputs": [],
     "prompt_number": 9
    },
    {
     "cell_type": "code",
     "collapsed": false,
     "input": [
      "#print tabulate(tE, headers = tE.columns.tolist(), tablefmt ='pipe')\n",
      "tE"
     ],
     "language": "python",
     "metadata": {},
     "outputs": [
      {
       "html": [
        "<div style=\"max-width:1500px;overflow:auto;\">\n",
        "<table border=\"1\" class=\"dataframe\">\n",
        "  <thead>\n",
        "    <tr style=\"text-align: right;\">\n",
        "      <th></th>\n",
        "      <th>Mt CO2e</th>\n",
        "      <th>Source</th>\n",
        "    </tr>\n",
        "  </thead>\n",
        "  <tbody>\n",
        "    <tr>\n",
        "      <th>0</th>\n",
        "      <td>0.171152</td>\n",
        "      <td>CO2 pile buring</td>\n",
        "    </tr>\n",
        "    <tr>\n",
        "      <th>1</th>\n",
        "      <td>0.651688</td>\n",
        "      <td>CO2e BC pile burning</td>\n",
        "    </tr>\n",
        "    <tr>\n",
        "      <th>2</th>\n",
        "      <td>0.822840</td>\n",
        "      <td>Total Mt CO2e</td>\n",
        "    </tr>\n",
        "  </tbody>\n",
        "</table>\n",
        "</div>"
       ],
       "metadata": {},
       "output_type": "pyout",
       "prompt_number": 10,
       "text": [
        "    Mt CO2e                Source\n",
        "0  0.171152       CO2 pile buring\n",
        "1  0.651688  CO2e BC pile burning\n",
        "2  0.822840         Total Mt CO2e"
       ]
      }
     ],
     "prompt_number": 10
    },
    {
     "cell_type": "markdown",
     "metadata": {},
     "source": [
      "### Timber Products Output\n",
      "The TPO estimates logging redisues produced from commercial timber harvesting operations."
     ]
    },
    {
     "cell_type": "code",
     "collapsed": false,
     "input": [
      "tpoData = ut.gData('1GDdquzrCoq2cxVN2fbCpP4gwi2yrMnONNrWbfhZKZu4', 872275354, hrow=1)\n",
      "tpoData"
     ],
     "language": "python",
     "metadata": {},
     "outputs": [
      {
       "html": [
        "<div style=\"max-width:1500px;overflow:auto;\">\n",
        "<table border=\"1\" class=\"dataframe\">\n",
        "  <thead>\n",
        "    <tr style=\"text-align: right;\">\n",
        "      <th></th>\n",
        "      <th>ownership</th>\n",
        "      <th>roundwoodproducts</th>\n",
        "      <th>loggingresidues</th>\n",
        "      <th>year</th>\n",
        "    </tr>\n",
        "  </thead>\n",
        "  <tbody>\n",
        "    <tr>\n",
        "      <th>0</th>\n",
        "      <td>National Forest</td>\n",
        "      <td>72.4</td>\n",
        "      <td>20.7</td>\n",
        "      <td>2012</td>\n",
        "    </tr>\n",
        "    <tr>\n",
        "      <th>1</th>\n",
        "      <td>Other Public</td>\n",
        "      <td>16.2</td>\n",
        "      <td>3.4</td>\n",
        "      <td>2012</td>\n",
        "    </tr>\n",
        "    <tr>\n",
        "      <th>2</th>\n",
        "      <td>Forest Industry</td>\n",
        "      <td>328.9</td>\n",
        "      <td>72.4</td>\n",
        "      <td>2012</td>\n",
        "    </tr>\n",
        "    <tr>\n",
        "      <th>3</th>\n",
        "      <td>Other Private</td>\n",
        "      <td>53.0</td>\n",
        "      <td>11.2</td>\n",
        "      <td>2012</td>\n",
        "    </tr>\n",
        "    <tr>\n",
        "      <th>4</th>\n",
        "      <td>National Forest</td>\n",
        "      <td>52.8</td>\n",
        "      <td>16.3</td>\n",
        "      <td>2006</td>\n",
        "    </tr>\n",
        "    <tr>\n",
        "      <th>5</th>\n",
        "      <td>Other Public</td>\n",
        "      <td>1.1</td>\n",
        "      <td>0.3</td>\n",
        "      <td>2006</td>\n",
        "    </tr>\n",
        "    <tr>\n",
        "      <th>6</th>\n",
        "      <td>Forest Industry</td>\n",
        "      <td>274.3</td>\n",
        "      <td>59.6</td>\n",
        "      <td>2006</td>\n",
        "    </tr>\n",
        "    <tr>\n",
        "      <th>7</th>\n",
        "      <td>Other Private</td>\n",
        "      <td>139.2</td>\n",
        "      <td>33.2</td>\n",
        "      <td>2006</td>\n",
        "    </tr>\n",
        "    <tr>\n",
        "      <th>8</th>\n",
        "      <td>National Forest</td>\n",
        "      <td>90.8</td>\n",
        "      <td>22.6</td>\n",
        "      <td>2000</td>\n",
        "    </tr>\n",
        "    <tr>\n",
        "      <th>9</th>\n",
        "      <td>Other Public</td>\n",
        "      <td>5.2</td>\n",
        "      <td>1.6</td>\n",
        "      <td>2000</td>\n",
        "    </tr>\n",
        "    <tr>\n",
        "      <th>10</th>\n",
        "      <td>Forest Industry</td>\n",
        "      <td>372.5</td>\n",
        "      <td>70.6</td>\n",
        "      <td>2000</td>\n",
        "    </tr>\n",
        "    <tr>\n",
        "      <th>11</th>\n",
        "      <td>Other Private</td>\n",
        "      <td>159.4</td>\n",
        "      <td>49.1</td>\n",
        "      <td>2000</td>\n",
        "    </tr>\n",
        "    <tr>\n",
        "      <th>12</th>\n",
        "      <td>National Forest</td>\n",
        "      <td>132.1</td>\n",
        "      <td>11.2</td>\n",
        "      <td>1994</td>\n",
        "    </tr>\n",
        "    <tr>\n",
        "      <th>13</th>\n",
        "      <td>Other Public</td>\n",
        "      <td>24.7</td>\n",
        "      <td>4.3</td>\n",
        "      <td>1994</td>\n",
        "    </tr>\n",
        "    <tr>\n",
        "      <th>14</th>\n",
        "      <td>Forest Industry</td>\n",
        "      <td>396.1</td>\n",
        "      <td>63.1</td>\n",
        "      <td>1994</td>\n",
        "    </tr>\n",
        "    <tr>\n",
        "      <th>15</th>\n",
        "      <td>Other Private</td>\n",
        "      <td>174.7</td>\n",
        "      <td>22.3</td>\n",
        "      <td>1994</td>\n",
        "    </tr>\n",
        "  </tbody>\n",
        "</table>\n",
        "</div>"
       ],
       "metadata": {},
       "output_type": "pyout",
       "prompt_number": 11,
       "text": [
        "          ownership  roundwoodproducts  loggingresidues  year\n",
        "0   National Forest               72.4             20.7  2012\n",
        "1      Other Public               16.2              3.4  2012\n",
        "2   Forest Industry              328.9             72.4  2012\n",
        "3     Other Private               53.0             11.2  2012\n",
        "4   National Forest               52.8             16.3  2006\n",
        "5      Other Public                1.1              0.3  2006\n",
        "6   Forest Industry              274.3             59.6  2006\n",
        "7     Other Private              139.2             33.2  2006\n",
        "8   National Forest               90.8             22.6  2000\n",
        "9      Other Public                5.2              1.6  2000\n",
        "10  Forest Industry              372.5             70.6  2000\n",
        "11    Other Private              159.4             49.1  2000\n",
        "12  National Forest              132.1             11.2  1994\n",
        "13     Other Public               24.7              4.3  1994\n",
        "14  Forest Industry              396.1             63.1  1994\n",
        "15    Other Private              174.7             22.3  1994"
       ]
      }
     ],
     "prompt_number": 11
    },
    {
     "cell_type": "markdown",
     "metadata": {},
     "source": [
      "### Biomass residuals from non-commercial management activities\n",
      "Data from TPO does not account for forest management activities that do not result in commercial products (timber sales, biomass sales). To estimate the amount of residual material produced from non commercial management activities we use data from the US Forest Service (FACTS) and from CalFires timber harvest plan data. \n",
      "\n",
      "#### Forest Service ACtivity Tracking System (FACTS)\n",
      "Data from TPO does not account for forest management activities that do not result in commercial products (timber sales, biomass sales). We use a range of 10-35 BDT/acre to convert acres reported in FACTS to volume."
     ]
    },
    {
     "cell_type": "code",
     "collapsed": false,
     "input": [
      "pd.read_excel('FACTS_Tabular_092115.xlsx', sheetname = 'CategoryCrosswalk').to_sql('facts_cat', sqdb['cx'], if_exists = 'replace')"
     ],
     "language": "python",
     "metadata": {},
     "outputs": [],
     "prompt_number": 12
    },
    {
     "cell_type": "code",
     "collapsed": false,
     "input": [
      "pd.read_csv('pd/facts_notimber.csv').to_sql('facts_notimber', sqdb['cx'], if_exists='replace')"
     ],
     "language": "python",
     "metadata": {},
     "outputs": [],
     "prompt_number": 13
    },
    {
     "cell_type": "markdown",
     "metadata": {},
     "source": [
      "#### Querying FACTS\n",
      "The USFS [reports](http://data.fs.usda.gov/geodata/edw/datasets.php?dsetParent=Activities) Hazardous Fuels Treatment (HFT) activities as well as Timber Sales (TS) derived from the FACTS database. We use these two datasets to estimate the number of acres treated that did not produce commercial material (sawlogs or biomass) and where burning was not used. The first step is to elimina all treatments in the HFT dataset that included timber sales. We accomplish this by eliminating all rows in the HFT dataset that have identical `FACTS_ID` fields in the TS dataset. We further filter the HFT dataset by removing any planned but not executed treatements (`nbr_units1 >0` below -- `nbr_units1` references `NBR_UNITS_ACCOMPLISHED` in the USFS dataset, see metadata for HFT [here](http://data.fs.usda.gov/geodata/edw/edw_resources/meta/S_USA.Activity_HazFuelTrt_PL.xml)), and use text matching in the 'ACTIVITY' and 'METHOD' fields to remove any rows that contain reference to 'burning' or 'fire'. Finally, we remove all rows that that reference 'Biomass' in the method category as it is assumed that this means material was removed for bioenergy."
     ]
    },
    {
     "cell_type": "code",
     "collapsed": false,
     "input": [
      "usfs_acres = pd.read_sql('''select\n",
      "                                sum(nbr_units1) acres,\n",
      "                                method,\n",
      "                                strftime('%Y',date_compl) year,\n",
      "                                cat.\"ACTIVITY\" activity,\n",
      "                                cat.\"TENTATIVE_CATEGORY\" r5_cat\n",
      "                            from facts_notimber n \n",
      "                                join facts_cat cat\n",
      "                                    on (n.activity = cat.\"ACTIVITY\") \n",
      "                            where date_compl is not null\n",
      "                                and nbr_units1 > 0\n",
      "                                and cat.\"TENTATIVE_CATEGORY\" != 'Burning'\n",
      "                                and cat.\"ACTIVITY\" not like '%ire%'\n",
      "                                and method not like '%Burn%'\n",
      "                                and method != 'Biomass'\n",
      "                            group by cat.\"ACTIVITY\",\n",
      "                                year,\n",
      "                                method,\n",
      "                                cat.\"TENTATIVE_CATEGORY\"\n",
      "                            order by year;''', con = sqdb['cx'])"
     ],
     "language": "python",
     "metadata": {},
     "outputs": [],
     "prompt_number": 14
    },
    {
     "cell_type": "markdown",
     "metadata": {},
     "source": [
      "#### Converting acres to cubic feet\n",
      "FACTS reports in acres. To estimate the production of biomass from acres treated we use a range of 10-35 BDT/acre. We assume that actual biomass residuals per acre are normally distributed with a mean of 22.5 and a standard deviation of (35-10)/4 = 6.25 "
     ]
    },
    {
     "cell_type": "code",
     "collapsed": false,
     "input": [
      "def sumBDT(ac, maxbdt = 35, minbdt = 10):\n",
      "    av = (maxbdt + minbdt)/2\n",
      "    stdev = (float(maxbdt) - float(minbdt))/4 \n",
      "    d_frac = (ac-np.floor(ac))*np.random.normal(av, stdev, 1).clip(min=0)[0]\n",
      "    t_bdt = np.sum(np.random.normal(av,stdev,np.floor(ac)).clip(min=0))\n",
      "    return d_frac+t_bdt"
     ],
     "language": "python",
     "metadata": {},
     "outputs": [],
     "prompt_number": 15
    },
    {
     "cell_type": "code",
     "collapsed": false,
     "input": [
      "usfs_acres['bdt'] = usfs_acres['acres'].apply(sumBDT)\n",
      "usfs_an_bdt = usfs_acres.groupby(['year']).sum()"
     ],
     "language": "python",
     "metadata": {},
     "outputs": [],
     "prompt_number": 16
    },
    {
     "cell_type": "markdown",
     "metadata": {},
     "source": [
      "#### Weighted average wood density\n",
      "Average wood density weighted by harvested species percent. Derived from McIver and Morgan,  [Table 4](https://docs.google.com/spreadsheets/d/138FWlGeW57MKdcz2UkWxtWV4o50SZO8sduB1R6JOFp8/edit#gid=393414465)"
     ]
    },
    {
     "cell_type": "code",
     "collapsed": false,
     "input": [
      "wood_dens = ut.gData('138FWlGeW57MKdcz2UkWxtWV4o50SZO8sduB1R6JOFp8', 1297253755)\n",
      "wavg_dens =sum(wood_dens.pct/100 * wood_dens.density_lbscuft)"
     ],
     "language": "python",
     "metadata": {},
     "outputs": [],
     "prompt_number": 17
    },
    {
     "cell_type": "markdown",
     "metadata": {},
     "source": [
      "### Annual unutilized management residuals\n",
      "- [x] Public lands non-commercial management residuals \n",
      "- [ ] Private land non-commercial management residuals\n",
      "- [x] Public lands logging residuals\n",
      "- [x] Private lands logging residuals"
     ]
    },
    {
     "cell_type": "code",
     "collapsed": false,
     "input": [
      "cat_codes = {'nf_ncmr': 'Unburned, non-commercial management residuals from National Forest lands',\n",
      "             'nf_lr': 'Logging residuals generated from timber sales on National Forest lands',\n",
      "             'opriv_lr': 'Logging residuals generated from timber sales on non-industrial private forest lands',\n",
      "             'fi_lr': 'Logging residuals generated from timber sales on industrial private lands',\n",
      "             'opub_lr': 'Logging residuals generated from timber sales on industrial private lands'}"
     ],
     "language": "python",
     "metadata": {},
     "outputs": [],
     "prompt_number": 60
    },
    {
     "cell_type": "code",
     "collapsed": false,
     "input": [
      "usfs_an_bdt['cuft']= usfs_an_bdt.bdt *wavg_dens\n",
      "resid_stats=pd.DataFrame((usfs_an_bdt.iloc[6:,2]/1000000).describe())\n",
      "resid_stats.columns = ['nf_ncmr']\n",
      "resid_stats['nf_lr']=tpoData[tpoData.ownership.str.contains('National Forest')]['loggingresidues'].describe()\n",
      "resid_stats['opriv_lr']=tpoData[tpoData.ownership.str.contains('Other Private')]['loggingresidues'].describe()\n",
      "resid_stats['fi_lr']=tpoData[tpoData.ownership.str.contains('Forest Industry')]['loggingresidues'].describe()\n",
      "resid_stats['opub_lr']=tpoData[tpoData.ownership.str.contains('Other Public')]['loggingresidues'].describe()\n",
      "resid_stats"
     ],
     "language": "python",
     "metadata": {},
     "outputs": [
      {
       "html": [
        "<div style=\"max-width:1500px;overflow:auto;\">\n",
        "<table border=\"1\" class=\"dataframe\">\n",
        "  <thead>\n",
        "    <tr style=\"text-align: right;\">\n",
        "      <th></th>\n",
        "      <th>nf_ncmr</th>\n",
        "      <th>nf_lr</th>\n",
        "      <th>opriv_lr</th>\n",
        "      <th>fi_lr</th>\n",
        "      <th>opub_lr</th>\n",
        "    </tr>\n",
        "  </thead>\n",
        "  <tbody>\n",
        "    <tr>\n",
        "      <th>count</th>\n",
        "      <td>11.000000</td>\n",
        "      <td>4.00000</td>\n",
        "      <td>4.000000</td>\n",
        "      <td>4.000000</td>\n",
        "      <td>4.000000</td>\n",
        "    </tr>\n",
        "    <tr>\n",
        "      <th>mean</th>\n",
        "      <td>12.019440</td>\n",
        "      <td>17.70000</td>\n",
        "      <td>28.950000</td>\n",
        "      <td>66.425000</td>\n",
        "      <td>2.400000</td>\n",
        "    </tr>\n",
        "    <tr>\n",
        "      <th>std</th>\n",
        "      <td>4.689480</td>\n",
        "      <td>5.07346</td>\n",
        "      <td>16.159311</td>\n",
        "      <td>6.076389</td>\n",
        "      <td>1.794436</td>\n",
        "    </tr>\n",
        "    <tr>\n",
        "      <th>min</th>\n",
        "      <td>2.374210</td>\n",
        "      <td>11.20000</td>\n",
        "      <td>11.200000</td>\n",
        "      <td>59.600000</td>\n",
        "      <td>0.300000</td>\n",
        "    </tr>\n",
        "    <tr>\n",
        "      <th>25%</th>\n",
        "      <td>8.924072</td>\n",
        "      <td>15.02500</td>\n",
        "      <td>19.525000</td>\n",
        "      <td>62.225000</td>\n",
        "      <td>1.275000</td>\n",
        "    </tr>\n",
        "    <tr>\n",
        "      <th>50%</th>\n",
        "      <td>13.355718</td>\n",
        "      <td>18.50000</td>\n",
        "      <td>27.750000</td>\n",
        "      <td>66.850000</td>\n",
        "      <td>2.500000</td>\n",
        "    </tr>\n",
        "    <tr>\n",
        "      <th>75%</th>\n",
        "      <td>14.534933</td>\n",
        "      <td>21.17500</td>\n",
        "      <td>37.175000</td>\n",
        "      <td>71.050000</td>\n",
        "      <td>3.625000</td>\n",
        "    </tr>\n",
        "    <tr>\n",
        "      <th>max</th>\n",
        "      <td>17.853204</td>\n",
        "      <td>22.60000</td>\n",
        "      <td>49.100000</td>\n",
        "      <td>72.400000</td>\n",
        "      <td>4.300000</td>\n",
        "    </tr>\n",
        "  </tbody>\n",
        "</table>\n",
        "</div>"
       ],
       "metadata": {},
       "output_type": "pyout",
       "prompt_number": 48,
       "text": [
        "         nf_ncmr     nf_lr   opriv_lr      fi_lr   opub_lr\n",
        "count  11.000000   4.00000   4.000000   4.000000  4.000000\n",
        "mean   12.019440  17.70000  28.950000  66.425000  2.400000\n",
        "std     4.689480   5.07346  16.159311   6.076389  1.794436\n",
        "min     2.374210  11.20000  11.200000  59.600000  0.300000\n",
        "25%     8.924072  15.02500  19.525000  62.225000  1.275000\n",
        "50%    13.355718  18.50000  27.750000  66.850000  2.500000\n",
        "75%    14.534933  21.17500  37.175000  71.050000  3.625000\n",
        "max    17.853204  22.60000  49.100000  72.400000  4.300000"
       ]
      }
     ],
     "prompt_number": 48
    },
    {
     "cell_type": "code",
     "collapsed": false,
     "input": [
      "print tabulate(resid_stats, headers = resid_stats.columns.tolist(), tablefmt ='pipe')"
     ],
     "language": "python",
     "metadata": {},
     "outputs": [
      {
       "output_type": "stream",
       "stream": "stdout",
       "text": [
        "|       |   nf_ncmr |    nf_lr |   opriv_lr |    fi_lr |   opub_lr |\n",
        "|:------|----------:|---------:|-----------:|---------:|----------:|\n",
        "| count |  11       |  4       |     4      |  4       |   4       |\n",
        "| mean  |  12.0194  | 17.7     |    28.95   | 66.425   |   2.4     |\n",
        "| std   |   4.68948 |  5.07346 |    16.1593 |  6.07639 |   1.79444 |\n",
        "| min   |   2.37421 | 11.2     |    11.2    | 59.6     |   0.3     |\n",
        "| 25%   |   8.92407 | 15.025   |    19.525  | 62.225   |   1.275   |\n",
        "| 50%   |  13.3557  | 18.5     |    27.75   | 66.85    |   2.5     |\n",
        "| 75%   |  14.5349  | 21.175   |    37.175  | 71.05    |   3.625   |\n",
        "| max   |  17.8532  | 22.6     |    49.1    | 72.4     |   4.3     |\n"
       ]
      }
     ],
     "prompt_number": 63
    },
    {
     "cell_type": "code",
     "collapsed": false,
     "input": [
      "ureg = UnitRegistry()\n",
      "ureg.define('cubic foot =  cubic_centimeter/ 3.53147e-5 = cubic_foot' )\n",
      "ureg.define('million cubic foot =  cubic_foot*1000000 = MMCF' )\n",
      "ureg.define('board foot sawlog = cubic_foot / 5.44 = BF_saw')\n",
      "ureg.define('board foot veneer = cubic_foot / 5.0 = BF_vo')\n",
      "ureg.define('board foot bioenergy = cubic_foot / 1.0 = BF_bio')\n",
      "ureg.define('bone-dry unit = cubic_foot * 96 = BDU')\n"
     ],
     "language": "python",
     "metadata": {},
     "outputs": [],
     "prompt_number": 9
    }
   ],
   "metadata": {}
  }
 ]
}