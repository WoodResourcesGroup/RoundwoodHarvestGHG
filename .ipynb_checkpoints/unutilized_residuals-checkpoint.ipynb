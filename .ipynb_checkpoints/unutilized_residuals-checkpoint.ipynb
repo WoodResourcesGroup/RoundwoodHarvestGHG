{
 "metadata": {
  "name": "",
  "signature": "sha256:de6bb21dc1dc074925d6fb9a02da540a6556447cd865c383dbe071b5c928d021"
 },
 "nbformat": 3,
 "nbformat_minor": 0,
 "worksheets": [
  {
   "cells": [
    {
     "cell_type": "code",
     "collapsed": false,
     "input": [
      "import utils as ut\n",
      "from pint import UnitRegistry\n",
      "import pandas as pd"
     ],
     "language": "python",
     "metadata": {},
     "outputs": [],
     "prompt_number": 21
    },
    {
     "cell_type": "markdown",
     "metadata": {},
     "source": [
      "Annual timber harvest by ownership"
     ]
    },
    {
     "cell_type": "code",
     "collapsed": false,
     "input": [
      "an_total_own = ut.gData('13UQtRfNBSJ81PXxbYSnB2LrjHePNcvhJhrsxRBjHpoY', 0, hrow=4)"
     ],
     "language": "python",
     "metadata": {},
     "outputs": [],
     "prompt_number": 14
    },
    {
     "cell_type": "code",
     "collapsed": false,
     "input": [
      "an_total_own.index=data['year']"
     ],
     "language": "python",
     "metadata": {},
     "outputs": [],
     "prompt_number": 38
    },
    {
     "cell_type": "markdown",
     "metadata": {},
     "source": [
      "Product percentages by year"
     ]
    },
    {
     "cell_type": "code",
     "collapsed": false,
     "input": [
      "pct_raw = ut.gData('138FWlGeW57MKdcz2UkWxtWV4o50SZO8sduB1R6JOFp8', 529610043)"
     ],
     "language": "python",
     "metadata": {},
     "outputs": [],
     "prompt_number": 65
    },
    {
     "cell_type": "code",
     "collapsed": false,
     "input": [
      "prod_bd_ann = pct_raw[pct_raw.producttype != 'Total']"
     ],
     "language": "python",
     "metadata": {},
     "outputs": [],
     "prompt_number": 68
    },
    {
     "cell_type": "code",
     "collapsed": false,
     "input": [
      "prod_bd_ann"
     ],
     "language": "python",
     "metadata": {},
     "outputs": [
      {
       "html": [
        "<div style=\"max-width:1500px;overflow:auto;\">\n",
        "<table border=\"1\" class=\"dataframe\">\n",
        "  <thead>\n",
        "    <tr style=\"text-align: right;\">\n",
        "      <th></th>\n",
        "      <th>producttype</th>\n",
        "      <th>1968</th>\n",
        "      <th>1972</th>\n",
        "      <th>1976</th>\n",
        "      <th>1982</th>\n",
        "      <th>1985</th>\n",
        "      <th>1988</th>\n",
        "      <th>1992</th>\n",
        "      <th>1994</th>\n",
        "      <th>2000</th>\n",
        "      <th>2006</th>\n",
        "      <th>2012</th>\n",
        "    </tr>\n",
        "  </thead>\n",
        "  <tbody>\n",
        "    <tr>\n",
        "      <th>0</th>\n",
        "      <td>Sawlogs</td>\n",
        "      <td>86</td>\n",
        "      <td>86.0</td>\n",
        "      <td>86.0</td>\n",
        "      <td>91.2</td>\n",
        "      <td>92.0</td>\n",
        "      <td>92.5</td>\n",
        "      <td>99.3</td>\n",
        "      <td>92.9</td>\n",
        "      <td>89.8</td>\n",
        "      <td>88.1</td>\n",
        "      <td>82.8</td>\n",
        "    </tr>\n",
        "    <tr>\n",
        "      <th>1</th>\n",
        "      <td>Veneer logs</td>\n",
        "      <td>10</td>\n",
        "      <td>12.0</td>\n",
        "      <td>11.5</td>\n",
        "      <td>6.1</td>\n",
        "      <td>5.0</td>\n",
        "      <td>4.7</td>\n",
        "      <td>NaN</td>\n",
        "      <td>5.2</td>\n",
        "      <td>7.4</td>\n",
        "      <td>8.0</td>\n",
        "      <td>8.4</td>\n",
        "    </tr>\n",
        "    <tr>\n",
        "      <th>2</th>\n",
        "      <td>Pulpwood</td>\n",
        "      <td>1</td>\n",
        "      <td>1.5</td>\n",
        "      <td>0.1</td>\n",
        "      <td>1.1</td>\n",
        "      <td>0.8</td>\n",
        "      <td>1.1</td>\n",
        "      <td>NaN</td>\n",
        "      <td>NaN</td>\n",
        "      <td>NaN</td>\n",
        "      <td>NaN</td>\n",
        "      <td>NaN</td>\n",
        "    </tr>\n",
        "    <tr>\n",
        "      <th>3</th>\n",
        "      <td>Otherd</td>\n",
        "      <td>3</td>\n",
        "      <td>0.5</td>\n",
        "      <td>2.4</td>\n",
        "      <td>1.6</td>\n",
        "      <td>2.2</td>\n",
        "      <td>1.7</td>\n",
        "      <td>0.7</td>\n",
        "      <td>1.9</td>\n",
        "      <td>0.4</td>\n",
        "      <td>NaN</td>\n",
        "      <td>0.6</td>\n",
        "    </tr>\n",
        "    <tr>\n",
        "      <th>4</th>\n",
        "      <td>Bioenergy</td>\n",
        "      <td>NaN</td>\n",
        "      <td>NaN</td>\n",
        "      <td>NaN</td>\n",
        "      <td>NaN</td>\n",
        "      <td>NaN</td>\n",
        "      <td>NaN</td>\n",
        "      <td>NaN</td>\n",
        "      <td>NaN</td>\n",
        "      <td>2.4</td>\n",
        "      <td>3.6</td>\n",
        "      <td>8.2</td>\n",
        "    </tr>\n",
        "  </tbody>\n",
        "</table>\n",
        "</div>"
       ],
       "metadata": {},
       "output_type": "pyout",
       "prompt_number": 69,
       "text": [
        "   producttype  1968  1972  1976  1982  1985  1988  1992  1994  2000  2006  \\\n",
        "0      Sawlogs    86  86.0  86.0  91.2  92.0  92.5  99.3  92.9  89.8  88.1   \n",
        "1  Veneer logs    10  12.0  11.5   6.1   5.0   4.7   NaN   5.2   7.4   8.0   \n",
        "2     Pulpwood     1   1.5   0.1   1.1   0.8   1.1   NaN   NaN   NaN   NaN   \n",
        "3       Otherd     3   0.5   2.4   1.6   2.2   1.7   0.7   1.9   0.4   NaN   \n",
        "4    Bioenergy   NaN   NaN   NaN   NaN   NaN   NaN   NaN   NaN   2.4   3.6   \n",
        "\n",
        "   2012  \n",
        "0  82.8  \n",
        "1   8.4  \n",
        "2   NaN  \n",
        "3   0.6  \n",
        "4   8.2  "
       ]
      }
     ],
     "prompt_number": 69
    },
    {
     "cell_type": "markdown",
     "metadata": {},
     "source": [
      "Define units"
     ]
    },
    {
     "cell_type": "code",
     "collapsed": false,
     "input": [
      "ureg = UnitRegistry()"
     ],
     "language": "python",
     "metadata": {},
     "outputs": [],
     "prompt_number": 4
    },
    {
     "cell_type": "code",
     "collapsed": false,
     "input": [
      "ureg.define('cubic foot =  cubic_centimeter/ 3.53147e-5 = cubic_foot' )"
     ],
     "language": "python",
     "metadata": {},
     "outputs": [],
     "prompt_number": 5
    },
    {
     "cell_type": "code",
     "collapsed": false,
     "input": [
      "ureg.define('million cubic foot =  cubic_foot/1000000 = MMCF' )"
     ],
     "language": "python",
     "metadata": {},
     "outputs": [],
     "prompt_number": 48
    },
    {
     "cell_type": "code",
     "collapsed": false,
     "input": [
      "ureg.define('board foot sawlog = cubic_foot / 5.44 = BF_saw')"
     ],
     "language": "python",
     "metadata": {},
     "outputs": [],
     "prompt_number": 6
    },
    {
     "cell_type": "code",
     "collapsed": false,
     "input": [
      "ureg.define('board foot veneer = cubic_foot / 5.0 = BF_vo')"
     ],
     "language": "python",
     "metadata": {},
     "outputs": [],
     "prompt_number": 7
    },
    {
     "cell_type": "code",
     "collapsed": false,
     "input": [
      "ureg.define('board foot bioenergy = cubic_foot / 1.0 = BF_bio')"
     ],
     "language": "python",
     "metadata": {},
     "outputs": [],
     "prompt_number": 8
    },
    {
     "cell_type": "code",
     "collapsed": false,
     "input": [
      "c_factors = {'Sawlogs' : ureg.BF_saw,\n",
      "             'Veneer logs' : ureg.BF_vo,\n",
      "             'Pulpwood' : ureg.BF_vo,\n",
      "             'Otherd' : ureg.BF_vo,\n",
      "             'Bioenergy' : ureg.BF_bio,\n",
      "             '\n",
      "             }"
     ],
     "language": "python",
     "metadata": {},
     "outputs": [],
     "prompt_number": 49
    },
    {
     "cell_type": "code",
     "collapsed": false,
     "input": [
      "def total_by_product(year, own, unit_factor=1e6):\n",
      "    bd = prod_bd_ann[['producttype','{0}'.format(year)]][0:5]\n",
      "    vol = an_total_own['{0}'.format(own)].loc[year]\n",
      "    bd['units'] = [c_factors[i] for i in bd.producttype]\n",
      "    bd['total_bf']= ((bd['{0}'.format(year)]/100)*vol)*unit_factor*bd.units\n",
      "    bd['total_MMCF']= [i.to(ureg.MMCF) for i in bd.total_bf]\n",
      "    return bd"
     ],
     "language": "python",
     "metadata": {},
     "outputs": [],
     "prompt_number": 100
    },
    {
     "cell_type": "code",
     "collapsed": true,
     "input": [
      "total_by_product(2012, 'private')"
     ],
     "language": "python",
     "metadata": {},
     "outputs": [
      {
       "html": [
        "<div style=\"max-width:1500px;overflow:auto;\">\n",
        "<table border=\"1\" class=\"dataframe\">\n",
        "  <thead>\n",
        "    <tr style=\"text-align: right;\">\n",
        "      <th></th>\n",
        "      <th>producttype</th>\n",
        "      <th>2012</th>\n",
        "      <th>units</th>\n",
        "      <th>total_bf</th>\n",
        "      <th>total_MMCF</th>\n",
        "    </tr>\n",
        "  </thead>\n",
        "  <tbody>\n",
        "    <tr>\n",
        "      <th>0</th>\n",
        "      <td>Sawlogs</td>\n",
        "      <td>82.8</td>\n",
        "      <td>1 board foot sawlog</td>\n",
        "      <td>985320000.0 board foot sawlog</td>\n",
        "      <td>1.81125e+14 million cubic foot</td>\n",
        "    </tr>\n",
        "    <tr>\n",
        "      <th>1</th>\n",
        "      <td>Veneer logs</td>\n",
        "      <td>8.4</td>\n",
        "      <td>1 board foot veneer</td>\n",
        "      <td>99960000.0 board foot veneer</td>\n",
        "      <td>1.9992e+13 million cubic foot</td>\n",
        "    </tr>\n",
        "    <tr>\n",
        "      <th>2</th>\n",
        "      <td>Pulpwood</td>\n",
        "      <td>NaN</td>\n",
        "      <td>1 board foot veneer</td>\n",
        "      <td>nan board foot veneer</td>\n",
        "      <td>nan million cubic foot</td>\n",
        "    </tr>\n",
        "    <tr>\n",
        "      <th>3</th>\n",
        "      <td>Otherd</td>\n",
        "      <td>0.6</td>\n",
        "      <td>1 board foot veneer</td>\n",
        "      <td>7140000.0 board foot veneer</td>\n",
        "      <td>1.428e+12 million cubic foot</td>\n",
        "    </tr>\n",
        "    <tr>\n",
        "      <th>4</th>\n",
        "      <td>Bioenergy</td>\n",
        "      <td>8.2</td>\n",
        "      <td>1 board foot bioenergy</td>\n",
        "      <td>97580000.0 board foot bioenergy</td>\n",
        "      <td>9.758e+13 million cubic foot</td>\n",
        "    </tr>\n",
        "  </tbody>\n",
        "</table>\n",
        "</div>"
       ],
       "metadata": {},
       "output_type": "pyout",
       "prompt_number": 103,
       "text": [
        "   producttype  2012                   units                         total_bf  \\\n",
        "0      Sawlogs  82.8     1 board foot sawlog    985320000.0 board foot sawlog   \n",
        "1  Veneer logs   8.4     1 board foot veneer     99960000.0 board foot veneer   \n",
        "2     Pulpwood   NaN     1 board foot veneer            nan board foot veneer   \n",
        "3       Otherd   0.6     1 board foot veneer      7140000.0 board foot veneer   \n",
        "4    Bioenergy   8.2  1 board foot bioenergy  97580000.0 board foot bioenergy   \n",
        "\n",
        "                       total_MMCF  \n",
        "0  1.81125e+14 million cubic foot  \n",
        "1   1.9992e+13 million cubic foot  \n",
        "2          nan million cubic foot  \n",
        "3    1.428e+12 million cubic foot  \n",
        "4    9.758e+13 million cubic foot  "
       ]
      }
     ],
     "prompt_number": 103
    },
    {
     "cell_type": "code",
     "collapsed": false,
     "input": [
      "prod_bd_ann['1968']*prod_bd_ann.units"
     ],
     "language": "python",
     "metadata": {},
     "outputs": [
      {
       "metadata": {},
       "output_type": "pyout",
       "prompt_number": 77,
       "text": [
        "0      86.0 board foot sawlog\n",
        "1      10.0 board foot veneer\n",
        "2       1.0 board foot veneer\n",
        "3       3.0 board foot veneer\n",
        "4    nan board foot bioenergy\n",
        "dtype: object"
       ]
      }
     ],
     "prompt_number": 77
    },
    {
     "cell_type": "code",
     "collapsed": false,
     "input": [],
     "language": "python",
     "metadata": {},
     "outputs": []
    }
   ],
   "metadata": {}
  }
 ]
}