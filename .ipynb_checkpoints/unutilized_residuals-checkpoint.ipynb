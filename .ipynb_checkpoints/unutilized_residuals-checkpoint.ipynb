{
 "metadata": {
  "name": "",
  "signature": "sha256:a8f27a1fc8486287d287862ce658f8ae6e0d8eef4289c728d92eefa5935392f7"
 },
 "nbformat": 3,
 "nbformat_minor": 0,
 "worksheets": [
  {
   "cells": [
    {
     "cell_type": "code",
     "collapsed": false,
     "input": [
      "import utils as ut\n",
      "from pint import UnitRegistry\n",
      "import pandas as pd\n",
      "from ggplot import *\n",
      "from tabulate import tabulate"
     ],
     "language": "python",
     "metadata": {},
     "outputs": [],
     "prompt_number": 18
    },
    {
     "cell_type": "code",
     "collapsed": false,
     "input": [
      "sqdb = ut.sqlitedb('fcat_biomass')"
     ],
     "language": "python",
     "metadata": {},
     "outputs": [],
     "prompt_number": 2
    },
    {
     "cell_type": "markdown",
     "metadata": {},
     "source": [
      "### Black Carbon from pile burning\n",
      "The  CARB criteria pollutant emissions inventory reports Particualte Matter (PM 2.5) emissions from anthropogenic buring of forest residuals. The follwing estimates elemental carbon (Black Carbon) based on empirically derived relationships between PM2.5 and EC from:\n",
      "\n",
      "1. Ward DE, Hardy CC. Organic and elemental profiles for smoke from prescribed fires. In: Watson JG, editor. International specialty conference of the Air and Waste Management Association [Internet]. San Francisco: Air and Waste Management Association; 1989. Available from: http://www.frames.gov/documents/smoke/serdp/ward_hardy_1989a.pdf"
     ]
    },
    {
     "cell_type": "code",
     "collapsed": false,
     "input": [
      "ward = ut.gData('13UQtRfNBSJ81PXxbYSnB2LrjHePNcvhJhrsxRBjHpoY', 475419971)"
     ],
     "language": "python",
     "metadata": {},
     "outputs": [],
     "prompt_number": 39
    },
    {
     "cell_type": "code",
     "collapsed": false,
     "input": [
      "ec_factors = ward[['source','ecton-1_h_pm','ecton-1_l_pm']].transpose().to_dict()"
     ],
     "language": "python",
     "metadata": {},
     "outputs": [],
     "prompt_number": 51
    },
    {
     "cell_type": "code",
     "collapsed": false,
     "input": [
      "ec_factors"
     ],
     "language": "python",
     "metadata": {},
     "outputs": [
      {
       "metadata": {},
       "output_type": "pyout",
       "prompt_number": 52,
       "text": [
        "{0: {'ecton-1_h_pm': 0.0064694999999999996,\n",
        "  'ecton-1_l_pm': 0.0043405,\n",
        "  'source': 'piles'},\n",
        " 1: {'ecton-1_h_pm': 0.1566833333,\n",
        "  'ecton-1_l_pm': 0.06065,\n",
        "  'source': 'prescribed natural fire'},\n",
        " 2: {'ecton-1_h_pm': 0.19838330710000002,\n",
        "  'ecton-1_l_pm': 0.07679149606,\n",
        "  'source': 'wildfire'}}"
       ]
      }
     ],
     "prompt_number": 52
    },
    {
     "cell_type": "markdown",
     "metadata": {},
     "source": [
      "###CARB Criteria Air Pollutant (CPE) emissions data 2015\n",
      "Particulate Matter, Carbon Monoxide, Nitrogen Oxide, Sulfur Dioxide, Lead, and Reactive Organic Gases"
     ]
    },
    {
     "cell_type": "code",
     "collapsed": false,
     "input": [
      "cpe_data = pd.read_csv('http://www.arb.ca.gov/app/emsinv/2013/emsbyeic.csv?F_YR=2015&F_DIV=0&F_SEASON=A&SP=2013&SPN=2013_Almanac&F_AREA=CA')\n",
      "cpe_data.columns = [i.lower() for i in cpe_data.columns]\n",
      "cpe_data.to_sql('cpe_2015', sqdb['cx'], if_exists = 'replace')"
     ],
     "language": "python",
     "metadata": {},
     "outputs": [],
     "prompt_number": 3
    },
    {
     "cell_type": "code",
     "collapsed": false,
     "input": [
      "cpe_2015 = pd.read_sql('''select year,\n",
      "                eicsoun,\n",
      "                pm2_5*365 \n",
      "            from cpe_2015 \n",
      "            where eicsoun in ('FOREST MANAGEMENT', 'WILDLAND FIRE USE (WFU)','ALL VEGETATION');''',\n",
      "            con = sqdb['cx'])\n"
     ],
     "language": "python",
     "metadata": {},
     "outputs": [],
     "prompt_number": 47
    },
    {
     "cell_type": "markdown",
     "metadata": {},
     "source": [
      "# TODO: Multiply pm emissions bleow by apropriate EC factor from above.."
     ]
    },
    {
     "cell_type": "code",
     "collapsed": false,
     "input": [
      "cpe_2015['t_bc'] = cpe_2015['pm2_5*365']*ec_factors[0]"
     ],
     "language": "python",
     "metadata": {},
     "outputs": [
      {
       "html": [
        "<div style=\"max-width:1500px;overflow:auto;\">\n",
        "<table border=\"1\" class=\"dataframe\">\n",
        "  <thead>\n",
        "    <tr style=\"text-align: right;\">\n",
        "      <th></th>\n",
        "      <th>year</th>\n",
        "      <th>eicsoun</th>\n",
        "      <th>pm2_5*365</th>\n",
        "    </tr>\n",
        "  </thead>\n",
        "  <tbody>\n",
        "    <tr>\n",
        "      <th>0</th>\n",
        "      <td>2015</td>\n",
        "      <td>ALL VEGETATION</td>\n",
        "      <td>137630.1485</td>\n",
        "    </tr>\n",
        "    <tr>\n",
        "      <th>1</th>\n",
        "      <td>2015</td>\n",
        "      <td>FOREST MANAGEMENT</td>\n",
        "      <td>5480.5115</td>\n",
        "    </tr>\n",
        "    <tr>\n",
        "      <th>2</th>\n",
        "      <td>2015</td>\n",
        "      <td>WILDLAND FIRE USE (WFU)</td>\n",
        "      <td>6802.4320</td>\n",
        "    </tr>\n",
        "  </tbody>\n",
        "</table>\n",
        "</div>"
       ],
       "metadata": {},
       "output_type": "pyout",
       "prompt_number": 53,
       "text": [
        "   year                  eicsoun    pm2_5*365\n",
        "0  2015           ALL VEGETATION  137630.1485\n",
        "1  2015        FOREST MANAGEMENT    5480.5115\n",
        "2  2015  WILDLAND FIRE USE (WFU)    6802.4320"
       ]
      }
     ],
     "prompt_number": 53
    },
    {
     "cell_type": "markdown",
     "metadata": {},
     "source": [
      "###Forested Lands and Wood Products Biodegradable Carbon Emissions & Sinks (MMTCO2)\n",
      "ARB (2007). Technical support document for Land Use, Land Use Change & Forestry - Biodegradable Carbon Emissions & Sinks. Table available as a pdf document at: http://www.arb.ca.gov/cc/inventory/archive/tables/net_co2_flux_2007-11-19.pdf"
     ]
    },
    {
     "cell_type": "code",
     "collapsed": false,
     "input": [
      "co2 = ut.gData('1GDdquzrCoq2cxVN2fbCpP4gwi2yrMnONNrWbfhZKZu4', 1636249481)\n",
      "co2.columns = co2.iloc[0]\n",
      "co2plot=pd.melt(co2.reindex(co2.index.drop(0)), id_vars = ['Year'])\n",
      "co2plot.columns = ['sc_cat','year','mmtco2e']\n",
      "co2plot.to_sql('arb_co2', sqdb['cx'], if_exists = 'replace')"
     ],
     "language": "python",
     "metadata": {},
     "outputs": [],
     "prompt_number": 13
    },
    {
     "cell_type": "code",
     "collapsed": false,
     "input": [
      "cdata = pd.read_sql('''select sc_cat, avg(mmtco2e) from arb_co2 where sc_cat in ('Forest and rangeland fires', 'Timber harvest slash')  group by sc_cat''', con = sqdb['cx'])"
     ],
     "language": "python",
     "metadata": {},
     "outputs": [],
     "prompt_number": 33
    },
    {
     "cell_type": "code",
     "collapsed": false,
     "input": [
      "cdata\n",
      "#Output GitHub Markdown using the following:\n",
      "#print tabulate(cdata, headers = ['Source Category','MMTCO2'],tablefmt=\"pipe\")"
     ],
     "language": "python",
     "metadata": {},
     "outputs": [
      {
       "html": [
        "<div style=\"max-width:1500px;overflow:auto;\">\n",
        "<table border=\"1\" class=\"dataframe\">\n",
        "  <thead>\n",
        "    <tr style=\"text-align: right;\">\n",
        "      <th></th>\n",
        "      <th>sc_cat</th>\n",
        "      <th>avg(mmtco2e)</th>\n",
        "    </tr>\n",
        "  </thead>\n",
        "  <tbody>\n",
        "    <tr>\n",
        "      <th>0</th>\n",
        "      <td>Forest and rangeland fires</td>\n",
        "      <td>2.019400</td>\n",
        "    </tr>\n",
        "    <tr>\n",
        "      <th>1</th>\n",
        "      <td>Timber harvest slash</td>\n",
        "      <td>0.155267</td>\n",
        "    </tr>\n",
        "  </tbody>\n",
        "</table>\n",
        "</div>"
       ],
       "metadata": {},
       "output_type": "pyout",
       "prompt_number": 36,
       "text": [
        "                       sc_cat  avg(mmtco2e)\n",
        "0  Forest and rangeland fires      2.019400\n",
        "1        Timber harvest slash      0.155267"
       ]
      }
     ],
     "prompt_number": 36
    },
    {
     "cell_type": "markdown",
     "metadata": {},
     "source": [
      "### Timber Products Output\n",
      "The TPO estimates logging redisues produced from commercial timber harvesting operations."
     ]
    },
    {
     "cell_type": "code",
     "collapsed": false,
     "input": [
      "tpoData = ut.gData('1GDdquzrCoq2cxVN2fbCpP4gwi2yrMnONNrWbfhZKZu4', 872275354, hrow=1)"
     ],
     "language": "python",
     "metadata": {},
     "outputs": [],
     "prompt_number": 3
    },
    {
     "cell_type": "code",
     "collapsed": false,
     "input": [
      "tpoData"
     ],
     "language": "python",
     "metadata": {},
     "outputs": [
      {
       "html": [
        "<div style=\"max-width:1500px;overflow:auto;\">\n",
        "<table border=\"1\" class=\"dataframe\">\n",
        "  <thead>\n",
        "    <tr style=\"text-align: right;\">\n",
        "      <th></th>\n",
        "      <th>ownership</th>\n",
        "      <th>roundwoodproducts</th>\n",
        "      <th>loggingresidues</th>\n",
        "      <th>year</th>\n",
        "    </tr>\n",
        "  </thead>\n",
        "  <tbody>\n",
        "    <tr>\n",
        "      <th>0</th>\n",
        "      <td>National Forest</td>\n",
        "      <td>72.4</td>\n",
        "      <td>20.7</td>\n",
        "      <td>2012</td>\n",
        "    </tr>\n",
        "    <tr>\n",
        "      <th>1</th>\n",
        "      <td>Other Public</td>\n",
        "      <td>16.2</td>\n",
        "      <td>3.4</td>\n",
        "      <td>2012</td>\n",
        "    </tr>\n",
        "    <tr>\n",
        "      <th>2</th>\n",
        "      <td>Forest Industry</td>\n",
        "      <td>328.9</td>\n",
        "      <td>72.4</td>\n",
        "      <td>2012</td>\n",
        "    </tr>\n",
        "    <tr>\n",
        "      <th>3</th>\n",
        "      <td>Other Private</td>\n",
        "      <td>53.0</td>\n",
        "      <td>11.2</td>\n",
        "      <td>2012</td>\n",
        "    </tr>\n",
        "    <tr>\n",
        "      <th>4</th>\n",
        "      <td>National Forest</td>\n",
        "      <td>52.8</td>\n",
        "      <td>16.3</td>\n",
        "      <td>2006</td>\n",
        "    </tr>\n",
        "    <tr>\n",
        "      <th>5</th>\n",
        "      <td>Other Public</td>\n",
        "      <td>1.1</td>\n",
        "      <td>0.3</td>\n",
        "      <td>2006</td>\n",
        "    </tr>\n",
        "    <tr>\n",
        "      <th>6</th>\n",
        "      <td>Forest Industry</td>\n",
        "      <td>274.3</td>\n",
        "      <td>59.6</td>\n",
        "      <td>2006</td>\n",
        "    </tr>\n",
        "    <tr>\n",
        "      <th>7</th>\n",
        "      <td>Other Private</td>\n",
        "      <td>139.2</td>\n",
        "      <td>33.2</td>\n",
        "      <td>2006</td>\n",
        "    </tr>\n",
        "    <tr>\n",
        "      <th>8</th>\n",
        "      <td>National Forest</td>\n",
        "      <td>90.8</td>\n",
        "      <td>22.6</td>\n",
        "      <td>2000</td>\n",
        "    </tr>\n",
        "    <tr>\n",
        "      <th>9</th>\n",
        "      <td>Other Public</td>\n",
        "      <td>5.2</td>\n",
        "      <td>1.6</td>\n",
        "      <td>2000</td>\n",
        "    </tr>\n",
        "    <tr>\n",
        "      <th>10</th>\n",
        "      <td>Forest Industry</td>\n",
        "      <td>372.5</td>\n",
        "      <td>70.6</td>\n",
        "      <td>2000</td>\n",
        "    </tr>\n",
        "    <tr>\n",
        "      <th>11</th>\n",
        "      <td>Other Private</td>\n",
        "      <td>159.4</td>\n",
        "      <td>49.1</td>\n",
        "      <td>2000</td>\n",
        "    </tr>\n",
        "    <tr>\n",
        "      <th>12</th>\n",
        "      <td>National Forest</td>\n",
        "      <td>132.1</td>\n",
        "      <td>11.2</td>\n",
        "      <td>1994</td>\n",
        "    </tr>\n",
        "    <tr>\n",
        "      <th>13</th>\n",
        "      <td>Other Public</td>\n",
        "      <td>24.7</td>\n",
        "      <td>4.3</td>\n",
        "      <td>1994</td>\n",
        "    </tr>\n",
        "    <tr>\n",
        "      <th>14</th>\n",
        "      <td>Forest Industry</td>\n",
        "      <td>396.1</td>\n",
        "      <td>63.1</td>\n",
        "      <td>1994</td>\n",
        "    </tr>\n",
        "    <tr>\n",
        "      <th>15</th>\n",
        "      <td>Other Private</td>\n",
        "      <td>174.7</td>\n",
        "      <td>22.3</td>\n",
        "      <td>1994</td>\n",
        "    </tr>\n",
        "  </tbody>\n",
        "</table>\n",
        "</div>"
       ],
       "metadata": {},
       "output_type": "pyout",
       "prompt_number": 4,
       "text": [
        "          ownership  roundwoodproducts  loggingresidues  year\n",
        "0   National Forest               72.4             20.7  2012\n",
        "1      Other Public               16.2              3.4  2012\n",
        "2   Forest Industry              328.9             72.4  2012\n",
        "3     Other Private               53.0             11.2  2012\n",
        "4   National Forest               52.8             16.3  2006\n",
        "5      Other Public                1.1              0.3  2006\n",
        "6   Forest Industry              274.3             59.6  2006\n",
        "7     Other Private              139.2             33.2  2006\n",
        "8   National Forest               90.8             22.6  2000\n",
        "9      Other Public                5.2              1.6  2000\n",
        "10  Forest Industry              372.5             70.6  2000\n",
        "11    Other Private              159.4             49.1  2000\n",
        "12  National Forest              132.1             11.2  1994\n",
        "13     Other Public               24.7              4.3  1994\n",
        "14  Forest Industry              396.1             63.1  1994\n",
        "15    Other Private              174.7             22.3  1994"
       ]
      }
     ],
     "prompt_number": 4
    },
    {
     "cell_type": "markdown",
     "metadata": {},
     "source": [
      "Define units"
     ]
    },
    {
     "cell_type": "code",
     "collapsed": false,
     "input": [
      "ureg = UnitRegistry()"
     ],
     "language": "python",
     "metadata": {},
     "outputs": [],
     "prompt_number": 9
    },
    {
     "cell_type": "code",
     "collapsed": false,
     "input": [
      "ureg.define('cubic foot =  cubic_centimeter/ 3.53147e-5 = cubic_foot' )"
     ],
     "language": "python",
     "metadata": {},
     "outputs": [],
     "prompt_number": 10
    },
    {
     "cell_type": "code",
     "collapsed": false,
     "input": [
      "ureg.define('million cubic foot =  cubic_foot*1000000 = MMCF' )"
     ],
     "language": "python",
     "metadata": {},
     "outputs": [],
     "prompt_number": 11
    },
    {
     "cell_type": "code",
     "collapsed": false,
     "input": [
      "ureg.define('board foot sawlog = cubic_foot / 5.44 = BF_saw')"
     ],
     "language": "python",
     "metadata": {},
     "outputs": [],
     "prompt_number": 12
    },
    {
     "cell_type": "code",
     "collapsed": false,
     "input": [
      "ureg.define('board foot veneer = cubic_foot / 5.0 = BF_vo')"
     ],
     "language": "python",
     "metadata": {},
     "outputs": [],
     "prompt_number": 13
    },
    {
     "cell_type": "code",
     "collapsed": false,
     "input": [
      "ureg.define('board foot bioenergy = cubic_foot / 1.0 = BF_bio')"
     ],
     "language": "python",
     "metadata": {},
     "outputs": [],
     "prompt_number": 14
    },
    {
     "cell_type": "code",
     "collapsed": false,
     "input": [
      "ureg.define('bone-dry unit = cubic_foot * 96 = BDU')"
     ],
     "language": "python",
     "metadata": {},
     "outputs": [],
     "prompt_number": 44
    }
   ],
   "metadata": {}
  }
 ]
}