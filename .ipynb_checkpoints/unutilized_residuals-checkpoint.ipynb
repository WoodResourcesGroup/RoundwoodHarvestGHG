{
 "metadata": {
  "name": "",
  "signature": "sha256:c81c5137799615be739fdcb2d94e4989c10a04601864f3108749dda23b959b15"
 },
 "nbformat": 3,
 "nbformat_minor": 0,
 "worksheets": [
  {
   "cells": [
    {
     "cell_type": "code",
     "collapsed": false,
     "input": [
      "import utils as ut\n",
      "from pint import UnitRegistry\n",
      "import pandas as pd\n",
      "import matplotlib.pyplot as plt\n",
      "plt.rcdefaults()\n",
      "import numpy as np\n",
      "import matplotlib.pyplot as plt"
     ],
     "language": "python",
     "metadata": {},
     "outputs": [],
     "prompt_number": 199
    },
    {
     "cell_type": "markdown",
     "metadata": {},
     "source": [
      "Annual timber harvest by ownership"
     ]
    },
    {
     "cell_type": "code",
     "collapsed": false,
     "input": [
      "an_total_own = ut.gData('13UQtRfNBSJ81PXxbYSnB2LrjHePNcvhJhrsxRBjHpoY', 0, hrow=4)"
     ],
     "language": "python",
     "metadata": {},
     "outputs": [],
     "prompt_number": 35
    },
    {
     "cell_type": "code",
     "collapsed": false,
     "input": [
      "an_total_own.index=an_total_own['year'].fillna(0)"
     ],
     "language": "python",
     "metadata": {},
     "outputs": [],
     "prompt_number": 66
    },
    {
     "cell_type": "markdown",
     "metadata": {},
     "source": [
      "Product percentages by year"
     ]
    },
    {
     "cell_type": "code",
     "collapsed": false,
     "input": [
      "pct_raw = ut.gData('138FWlGeW57MKdcz2UkWxtWV4o50SZO8sduB1R6JOFp8', 529610043)"
     ],
     "language": "python",
     "metadata": {},
     "outputs": [],
     "prompt_number": 67
    },
    {
     "cell_type": "code",
     "collapsed": false,
     "input": [
      "prod_bd_ann = pct_raw[pct_raw.producttype != 'Total'].fillna(0)"
     ],
     "language": "python",
     "metadata": {},
     "outputs": [],
     "prompt_number": 68
    },
    {
     "cell_type": "markdown",
     "metadata": {},
     "source": [
      "Product breakdown by year from PNW-GTR-908 (McIver, et al. Table 6)"
     ]
    },
    {
     "cell_type": "code",
     "collapsed": false,
     "input": [
      "prod_bd_ann"
     ],
     "language": "python",
     "metadata": {},
     "outputs": [
      {
       "html": [
        "<div style=\"max-width:1500px;overflow:auto;\">\n",
        "<table border=\"1\" class=\"dataframe\">\n",
        "  <thead>\n",
        "    <tr style=\"text-align: right;\">\n",
        "      <th></th>\n",
        "      <th>producttype</th>\n",
        "      <th>1968</th>\n",
        "      <th>1972</th>\n",
        "      <th>1976</th>\n",
        "      <th>1982</th>\n",
        "      <th>1985</th>\n",
        "      <th>1988</th>\n",
        "      <th>1992</th>\n",
        "      <th>1994</th>\n",
        "      <th>2000</th>\n",
        "      <th>2006</th>\n",
        "      <th>2012</th>\n",
        "    </tr>\n",
        "  </thead>\n",
        "  <tbody>\n",
        "    <tr>\n",
        "      <th>0</th>\n",
        "      <td>Sawlogs</td>\n",
        "      <td>86</td>\n",
        "      <td>86.0</td>\n",
        "      <td>86.0</td>\n",
        "      <td>91.2</td>\n",
        "      <td>92.0</td>\n",
        "      <td>92.5</td>\n",
        "      <td>99.3</td>\n",
        "      <td>92.9</td>\n",
        "      <td>89.8</td>\n",
        "      <td>88.1</td>\n",
        "      <td>82.8</td>\n",
        "    </tr>\n",
        "    <tr>\n",
        "      <th>1</th>\n",
        "      <td>Veneer logs</td>\n",
        "      <td>10</td>\n",
        "      <td>12.0</td>\n",
        "      <td>11.5</td>\n",
        "      <td>6.1</td>\n",
        "      <td>5.0</td>\n",
        "      <td>4.7</td>\n",
        "      <td>0.0</td>\n",
        "      <td>5.2</td>\n",
        "      <td>7.4</td>\n",
        "      <td>8.0</td>\n",
        "      <td>8.4</td>\n",
        "    </tr>\n",
        "    <tr>\n",
        "      <th>2</th>\n",
        "      <td>Pulpwood</td>\n",
        "      <td>1</td>\n",
        "      <td>1.5</td>\n",
        "      <td>0.1</td>\n",
        "      <td>1.1</td>\n",
        "      <td>0.8</td>\n",
        "      <td>1.1</td>\n",
        "      <td>0.0</td>\n",
        "      <td>0.0</td>\n",
        "      <td>0.0</td>\n",
        "      <td>0.0</td>\n",
        "      <td>0.0</td>\n",
        "    </tr>\n",
        "    <tr>\n",
        "      <th>3</th>\n",
        "      <td>Otherd</td>\n",
        "      <td>3</td>\n",
        "      <td>0.5</td>\n",
        "      <td>2.4</td>\n",
        "      <td>1.6</td>\n",
        "      <td>2.2</td>\n",
        "      <td>1.7</td>\n",
        "      <td>0.7</td>\n",
        "      <td>1.9</td>\n",
        "      <td>0.4</td>\n",
        "      <td>0.0</td>\n",
        "      <td>0.6</td>\n",
        "    </tr>\n",
        "    <tr>\n",
        "      <th>4</th>\n",
        "      <td>Bioenergy</td>\n",
        "      <td>0</td>\n",
        "      <td>0.0</td>\n",
        "      <td>0.0</td>\n",
        "      <td>0.0</td>\n",
        "      <td>0.0</td>\n",
        "      <td>0.0</td>\n",
        "      <td>0.0</td>\n",
        "      <td>0.0</td>\n",
        "      <td>2.4</td>\n",
        "      <td>3.6</td>\n",
        "      <td>8.2</td>\n",
        "    </tr>\n",
        "  </tbody>\n",
        "</table>\n",
        "</div>"
       ],
       "metadata": {},
       "output_type": "pyout",
       "prompt_number": 69,
       "text": [
        "   producttype  1968  1972  1976  1982  1985  1988  1992  1994  2000  2006  \\\n",
        "0      Sawlogs    86  86.0  86.0  91.2  92.0  92.5  99.3  92.9  89.8  88.1   \n",
        "1  Veneer logs    10  12.0  11.5   6.1   5.0   4.7   0.0   5.2   7.4   8.0   \n",
        "2     Pulpwood     1   1.5   0.1   1.1   0.8   1.1   0.0   0.0   0.0   0.0   \n",
        "3       Otherd     3   0.5   2.4   1.6   2.2   1.7   0.7   1.9   0.4   0.0   \n",
        "4    Bioenergy     0   0.0   0.0   0.0   0.0   0.0   0.0   0.0   2.4   3.6   \n",
        "\n",
        "   2012  \n",
        "0  82.8  \n",
        "1   8.4  \n",
        "2   0.0  \n",
        "3   0.6  \n",
        "4   8.2  "
       ]
      }
     ],
     "prompt_number": 69
    },
    {
     "cell_type": "markdown",
     "metadata": {},
     "source": [
      "Define units"
     ]
    },
    {
     "cell_type": "code",
     "collapsed": false,
     "input": [
      "ureg = UnitRegistry()"
     ],
     "language": "python",
     "metadata": {},
     "outputs": [],
     "prompt_number": 70
    },
    {
     "cell_type": "code",
     "collapsed": false,
     "input": [
      "ureg.define('cubic foot =  cubic_centimeter/ 3.53147e-5 = cubic_foot' )"
     ],
     "language": "python",
     "metadata": {},
     "outputs": [],
     "prompt_number": 71
    },
    {
     "cell_type": "code",
     "collapsed": false,
     "input": [
      "ureg.define('million cubic foot =  cubic_foot*1000000 = MMCF' )"
     ],
     "language": "python",
     "metadata": {},
     "outputs": [],
     "prompt_number": 72
    },
    {
     "cell_type": "code",
     "collapsed": false,
     "input": [
      "ureg.define('board foot sawlog = cubic_foot / 5.44 = BF_saw')"
     ],
     "language": "python",
     "metadata": {},
     "outputs": [],
     "prompt_number": 73
    },
    {
     "cell_type": "code",
     "collapsed": false,
     "input": [
      "ureg.define('board foot veneer = cubic_foot / 5.0 = BF_vo')"
     ],
     "language": "python",
     "metadata": {},
     "outputs": [],
     "prompt_number": 74
    },
    {
     "cell_type": "code",
     "collapsed": false,
     "input": [
      "ureg.define('board foot bioenergy = cubic_foot / 1.0 = BF_bio')"
     ],
     "language": "python",
     "metadata": {},
     "outputs": [],
     "prompt_number": 75
    },
    {
     "cell_type": "code",
     "collapsed": false,
     "input": [
      "c_factors = {'Sawlogs' : ureg.BF_saw,\n",
      "             'Veneer logs' : ureg.BF_vo,\n",
      "             'Pulpwood' : ureg.BF_vo,\n",
      "             'Otherd' : ureg.BF_vo,\n",
      "             'Bioenergy' : ureg.BF_bio\n",
      "             }"
     ],
     "language": "python",
     "metadata": {},
     "outputs": [],
     "prompt_number": 76
    },
    {
     "cell_type": "markdown",
     "metadata": {},
     "source": [
      "Estimate and confidence intervals for logging residue produced from growing stock removals reported by Morgan and Spoelma (2004), Table 6"
     ]
    },
    {
     "cell_type": "code",
     "collapsed": false,
     "input": [
      "def logging_residue(harv_vol):\n",
      "    es = 0.0615\n",
      "    lc = 0.05101\n",
      "    hc = 0.0730\n",
      "    l_ci, est, h_ci = [i*harv_vol for i in [lc, es, hc]]\n",
      "    return [l_ci, est, h_ci]"
     ],
     "language": "python",
     "metadata": {},
     "outputs": [],
     "prompt_number": 82
    },
    {
     "cell_type": "code",
     "collapsed": false,
     "input": [
      "def total_by_product(year, own, unit_factor=1e6):\n",
      "    bd = prod_bd_ann[['producttype','{0}'.format(year)]][0:5]\n",
      "    vol = an_total_own['{0}'.format(own)].loc[year]\n",
      "    bd['units'] = [c_factors[i] for i in bd.producttype]\n",
      "    bd['total_bf']= ((bd['{0}'.format(year)]/100)*vol)*unit_factor*bd.units\n",
      "    bd['total_MMCF']= [i.to(ureg.MMCF) for i in bd.total_bf]\n",
      "    bd['total_res']= [logging_residue(i)[1].to(ureg.MMCF) for i in bd.total_bf]\n",
      "    bd['total_res_lci']= [logging_residue(i)[0].to(ureg.MMCF) for i in bd.total_bf]\n",
      "    bd['total_res_hci']= [logging_residue(i)[2].to(ureg.MMCF) for i in bd.total_bf]\n",
      "    return bd"
     ],
     "language": "python",
     "metadata": {},
     "outputs": [],
     "prompt_number": 161
    },
    {
     "cell_type": "code",
     "collapsed": true,
     "input": [
      "df = total_by_product(2012, 'private')\n",
      "df['95ci'] = df.total_res_hci - df.total_res_lci\n",
      "df.index = df.producttype"
     ],
     "language": "python",
     "metadata": {},
     "outputs": [],
     "prompt_number": 162
    },
    {
     "cell_type": "markdown",
     "metadata": {},
     "source": [
      "Example: Plot of logging residuals by product type"
     ]
    },
    {
     "cell_type": "code",
     "collapsed": false,
     "input": [
      "plt.barh(np.arange(len(df.producttype)), [i.magnitude for i in df.total_res], xerr = [i.magnitude for i in df['95ci']], align= 'center', alpha = 0.4)\n",
      "plt.yticks(np.arange(len(df.producttype)), df.producttype)\n",
      "plt.xlabel('Logging residual volume (MMCF)')\n",
      "plt.title('Logging residuals by product type produced in California, 2012')"
     ],
     "language": "python",
     "metadata": {},
     "outputs": [
      {
       "metadata": {},
       "output_type": "pyout",
       "prompt_number": 203,
       "text": [
        "<matplotlib.text.Text at 0x7f72a6bed750>"
       ]
      },
      {
       "metadata": {},
       "output_type": "display_data",
       "png": "[encoded data removed]",
       "text": [
        "<matplotlib.figure.Figure at 0x7f72a6d27d50>"
       ]
      }
     ],
     "prompt_number": 203
    },
    {
     "cell_type": "code",
     "collapsed": false,
     "input": [
      "f=pd.DataFrame([i.magnitude for i in d])\n"
     ],
     "language": "python",
     "metadata": {},
     "outputs": [],
     "prompt_number": 104
    },
    {
     "cell_type": "code",
     "collapsed": false,
     "input": [],
     "language": "python",
     "metadata": {},
     "outputs": []
    }
   ],
   "metadata": {}
  }
 ]
}