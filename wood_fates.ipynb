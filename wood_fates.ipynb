{
 "metadata": {
  "name": "",
  "signature": "sha256:86a23f21b38096c7b5563c027c2916246a90739ac72a327b088b7404eae2bcda"
 },
 "nbformat": 3,
 "nbformat_minor": 0,
 "worksheets": [
  {
   "cells": [
    {
     "cell_type": "code",
     "collapsed": false,
     "input": [
      "import utils as ut\n",
      "from pint import UnitRegistry\n",
      "import pandas as pd\n",
      "import seaborn as sns\n",
      "from tabulate import tabulate\n",
      "from numpy import average as avg\n",
      "import numpy as np\n",
      "from matplotlib import pyplot as plt"
     ],
     "language": "python",
     "metadata": {},
     "outputs": [],
     "prompt_number": 42
    },
    {
     "cell_type": "code",
     "collapsed": false,
     "input": [
      "sqdb = ut.sqlitedb('fcat_biomass')"
     ],
     "language": "python",
     "metadata": {},
     "outputs": [],
     "prompt_number": 2
    },
    {
     "cell_type": "code",
     "collapsed": false,
     "input": [
      "wood_dens = ut.gData('138FWlGeW57MKdcz2UkWxtWV4o50SZO8sduB1R6JOFp8', 1297253755)"
     ],
     "language": "python",
     "metadata": {},
     "outputs": [],
     "prompt_number": 3
    },
    {
     "cell_type": "code",
     "collapsed": false,
     "input": [
      "sathre4 = ut.gData('13UQtRfNBSJ81PXxbYSnB2LrjHePNcvhJhrsxRBjHpoY',546564075, hrow =3)\n",
      "sathre4.to_sql('so4',sqdb['cx'], if_exists = 'replace')"
     ],
     "language": "python",
     "metadata": {},
     "outputs": [],
     "prompt_number": 4
    },
    {
     "cell_type": "markdown",
     "metadata": {},
     "source": [
      "## Wood products DF with and without logging slash utilization\n",
      "Using studies from Sathre and O'Connor in the US."
     ]
    },
    {
     "cell_type": "code",
     "collapsed": false,
     "input": [
      "HWu = pd.read_sql('''SELECT *\n",
      "                        FROM so4\n",
      "                        WHERE harvestslash = \"X\"\n",
      "                        AND processingresidues = \"X\" \n",
      "                        AND \"post-usewoodproduct\" = \"X\"\n",
      "                        AND stumps is null''', sqdb['cx'],index_col = 'index')\n",
      "HWo = pd.read_sql('''SELECT *\n",
      "                        FROM so4\n",
      "                        WHERE harvestslash is null\n",
      "                        AND processingresidues = \"X\" \n",
      "                        AND stumps is null\n",
      "                        AND \"post-usewoodproduct\" = \"X\"''', sqdb['cx'], index_col = 'index')\n"
     ],
     "language": "python",
     "metadata": {},
     "outputs": [],
     "prompt_number": 5
    },
    {
     "cell_type": "code",
     "collapsed": false,
     "input": [
      "#HWo\n",
      "print tabulate(HWo[['reference','df']], headers = ['index','reference','displacement factor'],tablefmt=\"pipe\")"
     ],
     "language": "python",
     "metadata": {},
     "outputs": [
      {
       "output_type": "stream",
       "stream": "stdout",
       "text": [
        "|   index | reference               |   displacement factor |\n",
        "|--------:|:------------------------|----------------------:|\n",
        "|       0 | Eriksson et al. (2007)  |                   1.7 |\n",
        "|       3 | Eriksson et al. (2007)  |                   2.2 |\n",
        "|      24 | Salazar and Meil (2009) |                   4.9 |\n",
        "|      34 | Werner et al. (2005)    |                   1.7 |\n"
       ]
      }
     ],
     "prompt_number": 57
    },
    {
     "cell_type": "code",
     "collapsed": false,
     "input": [
      "#HWu\n",
      "print tabulate(HWu[['reference','df']], headers = ['index','reference','displacement factor'],tablefmt=\"pipe\")"
     ],
     "language": "python",
     "metadata": {},
     "outputs": [
      {
       "output_type": "stream",
       "stream": "stdout",
       "text": [
        "|   index | reference                 |   displacement factor |\n",
        "|--------:|:--------------------------|----------------------:|\n",
        "|       1 | Eriksson et al. (2007)    |                   1.9 |\n",
        "|       4 | Eriksson et al. (2007)    |                   2.5 |\n",
        "|       6 | Gustavsson et al. (2006)  |                   4   |\n",
        "|       7 | Gustavsson et al. (2006)  |                   5.6 |\n",
        "|       8 | Gustavsson et al. (2006)  |                   2.2 |\n",
        "|       9 | Gustavsson et al. (2006)  |                   3.3 |\n",
        "|      22 | Pingoud and Perala (2000) |                   3.2 |\n"
       ]
      }
     ],
     "prompt_number": 59
    },
    {
     "cell_type": "code",
     "collapsed": false,
     "input": [
      "constants = {'me' : {'value':0.5,\n",
      "                     'desc': 'Mill Efficiency'},\n",
      "             'DFu' : {'value': np.average(HWu.df),\n",
      "                      'desc': 'Displacement factor with logging residual utilization',\n",
      "                      'source': '''\\cite{Sathre2010}'''},\n",
      "             'DFo' : {'value': np.average(HWo.df),\n",
      "                      'desc': 'Displacement factor without logging residual utilization'},\n",
      "             'wDens' : {'value': sum(wood_dens.pct/100 * wood_dens.density_lbscuft),\n",
      "                        'units' : 'lbs/cuft',\n",
      "                        'desc': 'average harvested wood density weighted by species harvested',\n",
      "                        'source': '\\cite{Mciver2012}'}\n",
      "             }"
     ],
     "language": "python",
     "metadata": {},
     "outputs": [],
     "prompt_number": 8
    },
    {
     "cell_type": "code",
     "collapsed": false,
     "input": [
      "constants['wDens']['value']"
     ],
     "language": "python",
     "metadata": {},
     "outputs": [
      {
       "metadata": {},
       "output_type": "pyout",
       "prompt_number": 61,
       "text": [
        "27.940920999860715"
       ]
      }
     ],
     "prompt_number": 61
    },
    {
     "cell_type": "markdown",
     "metadata": {},
     "source": [
      "### Timber Products Output\n",
      "The TPO estimates logging redisues produced from commercial timber harvesting operations."
     ]
    },
    {
     "cell_type": "code",
     "collapsed": false,
     "input": [
      "tpoData = ut.gData('1GDdquzrCoq2cxVN2fbCpP4gwi2yrMnONNrWbfhZKZu4', 872275354, hrow=1)\n",
      "tpoData.to_sql('tpo', sqdb['cx'], if_exists = 'replace')\n",
      "print tabulate(tpoData, headers = ['Ownership','Roundwood Products','Loggin Residues', 'Year'],tablefmt=\"pipe\")"
     ],
     "language": "python",
     "metadata": {},
     "outputs": [
      {
       "output_type": "stream",
       "stream": "stdout",
       "text": [
        "|    | Ownership       |   Roundwood Products |   Loggin Residues |   Year |\n",
        "|---:|:----------------|---------------------:|------------------:|-------:|\n",
        "|  0 | National Forest |                 72.4 |              20.7 |   2012 |\n",
        "|  1 | Other Public    |                 16.2 |               3.4 |   2012 |\n",
        "|  2 | Forest Industry |                328.9 |              72.4 |   2012 |\n",
        "|  3 | Other Private   |                 53   |              11.2 |   2012 |\n",
        "|  4 | National Forest |                 52.8 |              16.3 |   2006 |\n",
        "|  5 | Other Public    |                  1.1 |               0.3 |   2006 |\n",
        "|  6 | Forest Industry |                274.3 |              59.6 |   2006 |\n",
        "|  7 | Other Private   |                139.2 |              33.2 |   2006 |\n",
        "|  8 | National Forest |                 90.8 |              22.6 |   2000 |\n",
        "|  9 | Other Public    |                  5.2 |               1.6 |   2000 |\n",
        "| 10 | Forest Industry |                372.5 |              70.6 |   2000 |\n",
        "| 11 | Other Private   |                159.4 |              49.1 |   2000 |\n",
        "| 12 | National Forest |                132.1 |              11.2 |   1994 |\n",
        "| 13 | Other Public    |                 24.7 |               4.3 |   1994 |\n",
        "| 14 | Forest Industry |                396.1 |              63.1 |   1994 |\n",
        "| 15 | Other Private   |                174.7 |              22.3 |   1994 |\n"
       ]
      }
     ],
     "prompt_number": 68
    },
    {
     "cell_type": "markdown",
     "metadata": {},
     "source": [
      "### Bioenergy consumption\n",
      "To apply the apropriate DF for harvested wood we need to know what fraction of the loggin residues were utilized as bioenergy feedstock. McIver and Morgan [(Table 6)](https://docs.google.com/spreadsheets/d/138FWlGeW57MKdcz2UkWxtWV4o50SZO8sduB1R6JOFp8/pubhtml?gid=1952284551&single=true) reports bioenergy consumption from 2000 forward. For years previous, we use the average bioenergy consumption from 2000 -- 2012.\n"
     ]
    },
    {
     "cell_type": "code",
     "collapsed": false,
     "input": [
      "bioEnergy = ut.gData('138FWlGeW57MKdcz2UkWxtWV4o50SZO8sduB1R6JOFp8', 529610043)\n",
      "bioEnergy.set_index('producttype').transpose().to_sql('mciver_bio', sqdb['cx'], if_exists = 'replace')\n",
      "bio_pct = pd.read_sql('select \"index\" as year,\"Bioenergy\"/100 as biopct from mciver_bio where \"Bioenergy\" is not null', sqdb['cx'])\n",
      "bio_dict = bio_pct.set_index('year').to_dict('index')\n",
      "print tabulate(bio_pct, headers = ['year', 'bioenergy % of harvest'],tablefmt=\"pipe\")"
     ],
     "language": "python",
     "metadata": {},
     "outputs": [
      {
       "output_type": "stream",
       "stream": "stdout",
       "text": [
        "|    |   year |   bioenergy % of harvest |\n",
        "|---:|-------:|-------------------------:|\n",
        "|  0 |   2000 |                    0.024 |\n",
        "|  1 |   2006 |                    0.036 |\n",
        "|  2 |   2012 |                    0.082 |\n"
       ]
      }
     ],
     "prompt_number": 65
    },
    {
     "cell_type": "markdown",
     "metadata": {},
     "source": [
      "#### Calculating emissions reductions\n",
      "The follwoing functions calculate the displaced emissions resulting from wood harvested with and without logging residue utilization. They return estimates in metric tons of CO2 equivalents."
     ]
    },
    {
     "cell_type": "code",
     "collapsed": false,
     "input": [
      "def WPu (rw_harvest, lr, year, mill_efficiency = constants['me']['value'], wdens = constants['wDens']['value'], df = constants['DFu']['value']):\n",
      "    '''\n",
      "    Calculates the emissions reduction resulting from harvested wood with with utilization of loggin residuals for bioenergy\n",
      "    '''\n",
      "    # establish the aproporiate bioenergy consumption, if no data on bioenergy consumption exists, use average from 2000-2012\n",
      "    if year in bio_dict.keys():\n",
      "        bioe_pct = bio_dict[year]['biopct']\n",
      "    else:\n",
      "        bioe_pct = np.average(bio_pct.biopct)\n",
      "    #Calculate total volume used in bioenergy\n",
      "    bioevol = bioe_pct * rw_harvest\n",
      "    #Establish utilization ratio for bioenergy\n",
      "    lrUsed = bioevol/lr\n",
      "    #Calcuate roundwood harvest volume fromwhich loggin residues were utilized\n",
      "    HWu = lrUsed * rw_harvest\n",
      "    #Calculate volume of final wood product produced using mill efficiency. S&O use volume of wood product not sawlogs for DF\n",
      "    WPu = HWu * mill_efficiency * wdens * 1000000 / 2204.62 * df\n",
      "    #This is in MT\n",
      "    \n",
      "    return WPu\n",
      "    "
     ],
     "language": "python",
     "metadata": {},
     "outputs": [],
     "prompt_number": 21
    },
    {
     "cell_type": "code",
     "collapsed": false,
     "input": [
      "def WPo (rw_harvest, lr, year, mill_efficiency = constants['me']['value'], wdens = constants['wDens']['value'], df = constants['DFo']['value']):\n",
      "    '''\n",
      "    Calculates the emissions reduction resulting from harvested wood without utilization of logging residuals for bioenergy\n",
      "    '''\n",
      "    # establish the aproporiate bioenergy consumption lever for a given year, if no data on bioenergy consumption exists, use average from 2000-2012\n",
      "    if year in bio_dict.keys():\n",
      "        bioe_pct = bio_dict[year]['biopct']\n",
      "    else:\n",
      "        bioe_pct = np.average(bio_pct.biopct)\n",
      "    #Calculate total volume used in bioenergy\n",
      "    bioevol = bioe_pct * rw_harvest\n",
      "    #Establish utilization ratio for bioenergy\n",
      "    lrUsed = bioevol/lr\n",
      "    #Calcuate roundwood harvest volume fromwhich loggin residues were utilized\n",
      "    HWo = (1-lrUsed) * rw_harvest\n",
      "    #Calculate volume of final wood product produced using mill efficiency. S&O use volume of wood product not sawlogs for DF\n",
      "    WPo = HWo * mill_efficiency * wdens * 1000000 / 2204.62 * df\n",
      "    #This is in MT\n",
      "    \n",
      "    return WPo"
     ],
     "language": "python",
     "metadata": {},
     "outputs": [],
     "prompt_number": 22
    },
    {
     "cell_type": "markdown",
     "metadata": {},
     "source": [
      "#### Emissions reduction from harvested wood with LR utilized\n",
      "Emissions reductions resulting from harvested roundwood with logging residue utilized in bioenergy"
     ]
    },
    {
     "cell_type": "code",
     "collapsed": false,
     "input": [
      "erWPu = []\n",
      "for row in tpoData.index:\n",
      "    rw,lr,yr = tpoData.iloc[row][['roundwoodproducts','loggingresidues', 'year']].tolist()\n",
      "    erWPu.append(WPu(rw,lr,yr))\n",
      "tpoData['erWPu'] = erWPu"
     ],
     "language": "python",
     "metadata": {},
     "outputs": [],
     "prompt_number": 26
    },
    {
     "cell_type": "markdown",
     "metadata": {},
     "source": [
      "#### Emissions reduction from harvested wood without LR utilization\n",
      "Emissions reductions resulting from harvested roundwood **without** logging residue utilized in bioenergy. Though wood with LR utilization rate has a higher displacement factor, the majority of loggin residues wer not utilized."
     ]
    },
    {
     "cell_type": "code",
     "collapsed": false,
     "input": [
      "erWPo = []\n",
      "for row in tpoData.index:\n",
      "    rw,lr,yr = tpoData.iloc[row][['roundwoodproducts','loggingresidues', 'year']].tolist()\n",
      "    erWPo.append(WPu(rw,lr,yr))\n",
      "tpoData['erWPo'] = erWPo"
     ],
     "language": "python",
     "metadata": {},
     "outputs": [],
     "prompt_number": 28
    },
    {
     "cell_type": "markdown",
     "metadata": {},
     "source": [
      "#### Total emissions reduction from harvested wood products\n",
      "Sum of emissions reductions from harvested wood with and without LR utilization"
     ]
    },
    {
     "cell_type": "code",
     "collapsed": false,
     "input": [
      "tpoData['erTotal'] = tpoData.erWPo+tpoData.erWPu\n",
      "tpoData.to_sql('tpo_emreduc', sqdb['cx'], if_exists='replace')\n",
      "tpoData"
     ],
     "language": "python",
     "metadata": {},
     "outputs": [
      {
       "html": [
        "<div style=\"max-width:1500px;overflow:auto;\">\n",
        "<table border=\"1\" class=\"dataframe\">\n",
        "  <thead>\n",
        "    <tr style=\"text-align: right;\">\n",
        "      <th></th>\n",
        "      <th>ownership</th>\n",
        "      <th>roundwoodproducts</th>\n",
        "      <th>loggingresidues</th>\n",
        "      <th>year</th>\n",
        "      <th>erWPu</th>\n",
        "      <th>erWPo</th>\n",
        "      <th>erTotal</th>\n",
        "    </tr>\n",
        "  </thead>\n",
        "  <tbody>\n",
        "    <tr>\n",
        "      <th>0</th>\n",
        "      <td>National Forest</td>\n",
        "      <td>72.4</td>\n",
        "      <td>20.7</td>\n",
        "      <td>2012</td>\n",
        "      <td>246308.087772</td>\n",
        "      <td>246308.087772</td>\n",
        "      <td>492616.175543</td>\n",
        "    </tr>\n",
        "    <tr>\n",
        "      <th>1</th>\n",
        "      <td>Other Public</td>\n",
        "      <td>16.2</td>\n",
        "      <td>3.4</td>\n",
        "      <td>2012</td>\n",
        "      <td>75079.781089</td>\n",
        "      <td>75079.781089</td>\n",
        "      <td>150159.562177</td>\n",
        "    </tr>\n",
        "    <tr>\n",
        "      <th>2</th>\n",
        "      <td>Forest Industry</td>\n",
        "      <td>328.9</td>\n",
        "      <td>72.4</td>\n",
        "      <td>2012</td>\n",
        "      <td>1453319.384996</td>\n",
        "      <td>1453319.384996</td>\n",
        "      <td>2906638.769991</td>\n",
        "    </tr>\n",
        "    <tr>\n",
        "      <th>3</th>\n",
        "      <td>Other Private</td>\n",
        "      <td>53.0</td>\n",
        "      <td>11.2</td>\n",
        "      <td>2012</td>\n",
        "      <td>243952.684853</td>\n",
        "      <td>243952.684853</td>\n",
        "      <td>487905.369707</td>\n",
        "    </tr>\n",
        "    <tr>\n",
        "      <th>4</th>\n",
        "      <td>National Forest</td>\n",
        "      <td>52.8</td>\n",
        "      <td>16.3</td>\n",
        "      <td>2006</td>\n",
        "      <td>166361.231383</td>\n",
        "      <td>166361.231383</td>\n",
        "      <td>332722.462765</td>\n",
        "    </tr>\n",
        "    <tr>\n",
        "      <th>5</th>\n",
        "      <td>Other Public</td>\n",
        "      <td>1.1</td>\n",
        "      <td>0.3</td>\n",
        "      <td>2006</td>\n",
        "      <td>3923.159826</td>\n",
        "      <td>3923.159826</td>\n",
        "      <td>7846.319651</td>\n",
        "    </tr>\n",
        "    <tr>\n",
        "      <th>6</th>\n",
        "      <td>Forest Industry</td>\n",
        "      <td>274.3</td>\n",
        "      <td>59.6</td>\n",
        "      <td>2006</td>\n",
        "      <td>1227940.266939</td>\n",
        "      <td>1227940.266939</td>\n",
        "      <td>2455880.533878</td>\n",
        "    </tr>\n",
        "    <tr>\n",
        "      <th>7</th>\n",
        "      <td>Other Private</td>\n",
        "      <td>139.2</td>\n",
        "      <td>33.2</td>\n",
        "      <td>2006</td>\n",
        "      <td>567691.344260</td>\n",
        "      <td>567691.344260</td>\n",
        "      <td>1135382.688520</td>\n",
        "    </tr>\n",
        "    <tr>\n",
        "      <th>8</th>\n",
        "      <td>National Forest</td>\n",
        "      <td>90.8</td>\n",
        "      <td>22.6</td>\n",
        "      <td>2000</td>\n",
        "      <td>354842.102232</td>\n",
        "      <td>354842.102232</td>\n",
        "      <td>709684.204465</td>\n",
        "    </tr>\n",
        "    <tr>\n",
        "      <th>9</th>\n",
        "      <td>Other Public</td>\n",
        "      <td>5.2</td>\n",
        "      <td>1.6</td>\n",
        "      <td>2000</td>\n",
        "      <td>16438.363898</td>\n",
        "      <td>16438.363898</td>\n",
        "      <td>32876.727796</td>\n",
        "    </tr>\n",
        "    <tr>\n",
        "      <th>10</th>\n",
        "      <td>Forest Industry</td>\n",
        "      <td>372.5</td>\n",
        "      <td>70.6</td>\n",
        "      <td>2000</td>\n",
        "      <td>1911699.993797</td>\n",
        "      <td>1911699.993797</td>\n",
        "      <td>3823399.987595</td>\n",
        "    </tr>\n",
        "    <tr>\n",
        "      <th>11</th>\n",
        "      <td>Other Private</td>\n",
        "      <td>159.4</td>\n",
        "      <td>49.1</td>\n",
        "      <td>2000</td>\n",
        "      <td>503346.470465</td>\n",
        "      <td>503346.470465</td>\n",
        "      <td>1006692.940930</td>\n",
        "    </tr>\n",
        "    <tr>\n",
        "      <th>12</th>\n",
        "      <td>National Forest</td>\n",
        "      <td>132.1</td>\n",
        "      <td>11.2</td>\n",
        "      <td>1994</td>\n",
        "      <td>1515512.414130</td>\n",
        "      <td>1515512.414130</td>\n",
        "      <td>3031024.828260</td>\n",
        "    </tr>\n",
        "    <tr>\n",
        "      <th>13</th>\n",
        "      <td>Other Public</td>\n",
        "      <td>24.7</td>\n",
        "      <td>4.3</td>\n",
        "      <td>1994</td>\n",
        "      <td>138005.799235</td>\n",
        "      <td>138005.799235</td>\n",
        "      <td>276011.598471</td>\n",
        "    </tr>\n",
        "    <tr>\n",
        "      <th>14</th>\n",
        "      <td>Forest Industry</td>\n",
        "      <td>396.1</td>\n",
        "      <td>63.1</td>\n",
        "      <td>1994</td>\n",
        "      <td>2418534.078346</td>\n",
        "      <td>2418534.078346</td>\n",
        "      <td>4837068.156693</td>\n",
        "    </tr>\n",
        "    <tr>\n",
        "      <th>15</th>\n",
        "      <td>Other Private</td>\n",
        "      <td>174.7</td>\n",
        "      <td>22.3</td>\n",
        "      <td>1994</td>\n",
        "      <td>1331229.192068</td>\n",
        "      <td>1331229.192068</td>\n",
        "      <td>2662458.384137</td>\n",
        "    </tr>\n",
        "  </tbody>\n",
        "</table>\n",
        "</div>"
       ],
       "metadata": {},
       "output_type": "pyout",
       "prompt_number": 47,
       "text": [
        "          ownership  roundwoodproducts  loggingresidues  year           erWPu  \\\n",
        "0   National Forest               72.4             20.7  2012   246308.087772   \n",
        "1      Other Public               16.2              3.4  2012    75079.781089   \n",
        "2   Forest Industry              328.9             72.4  2012  1453319.384996   \n",
        "3     Other Private               53.0             11.2  2012   243952.684853   \n",
        "4   National Forest               52.8             16.3  2006   166361.231383   \n",
        "5      Other Public                1.1              0.3  2006     3923.159826   \n",
        "6   Forest Industry              274.3             59.6  2006  1227940.266939   \n",
        "7     Other Private              139.2             33.2  2006   567691.344260   \n",
        "8   National Forest               90.8             22.6  2000   354842.102232   \n",
        "9      Other Public                5.2              1.6  2000    16438.363898   \n",
        "10  Forest Industry              372.5             70.6  2000  1911699.993797   \n",
        "11    Other Private              159.4             49.1  2000   503346.470465   \n",
        "12  National Forest              132.1             11.2  1994  1515512.414130   \n",
        "13     Other Public               24.7              4.3  1994   138005.799235   \n",
        "14  Forest Industry              396.1             63.1  1994  2418534.078346   \n",
        "15    Other Private              174.7             22.3  1994  1331229.192068   \n",
        "\n",
        "             erWPo         erTotal  \n",
        "0    246308.087772   492616.175543  \n",
        "1     75079.781089   150159.562177  \n",
        "2   1453319.384996  2906638.769991  \n",
        "3    243952.684853   487905.369707  \n",
        "4    166361.231383   332722.462765  \n",
        "5      3923.159826     7846.319651  \n",
        "6   1227940.266939  2455880.533878  \n",
        "7    567691.344260  1135382.688520  \n",
        "8    354842.102232   709684.204465  \n",
        "9     16438.363898    32876.727796  \n",
        "10  1911699.993797  3823399.987595  \n",
        "11   503346.470465  1006692.940930  \n",
        "12  1515512.414130  3031024.828260  \n",
        "13   138005.799235   276011.598471  \n",
        "14  2418534.078346  4837068.156693  \n",
        "15  1331229.192068  2662458.384137  "
       ]
      }
     ],
     "prompt_number": 47
    },
    {
     "cell_type": "code",
     "collapsed": false,
     "input": [
      "sns.set_style(\"whitegrid\")\n",
      "fig, ax = plt.subplots()\n",
      "ax = sns.barplot(x ='year', y='erTotal', hue=\"ownership\", data=tpoData.sort_values('year'))\n",
      "ax.set_ylabel('Emissions reduction (MT CO2e)')\n",
      "ax.set_title('Emissions reductions resulting from roundwood harvest in CA')"
     ],
     "language": "python",
     "metadata": {},
     "outputs": [
      {
       "metadata": {},
       "output_type": "pyout",
       "prompt_number": 44,
       "text": [
        "<matplotlib.text.Text at 0x7f4a74a56390>"
       ]
      },
      {
       "metadata": {},
       "output_type": "display_data",
       "png": "[encoded data removed]",
       "text": [
        "<matplotlib.figure.Figure at 0x7f4a749a1410>"
       ]
      }
     ],
     "prompt_number": 44
    },
    {
     "cell_type": "code",
     "collapsed": false,
     "input": [
      "[fig.savefig('graphics/harv_em_reductions.{}'.format(i)) for i in ['pdf','png']]"
     ],
     "language": "python",
     "metadata": {},
     "outputs": [
      {
       "metadata": {},
       "output_type": "pyout",
       "prompt_number": 46,
       "text": [
        "[None, None]"
       ]
      }
     ],
     "prompt_number": 46
    },
    {
     "cell_type": "code",
     "collapsed": false,
     "input": [
      "pd.read_sql('select sum(\"erTotal\") from tpo_emreduc where year = \"2012\"', sqdb['cx'])"
     ],
     "language": "python",
     "metadata": {},
     "outputs": [
      {
       "html": [
        "<div style=\"max-width:1500px;overflow:auto;\">\n",
        "<table border=\"1\" class=\"dataframe\">\n",
        "  <thead>\n",
        "    <tr style=\"text-align: right;\">\n",
        "      <th></th>\n",
        "      <th>sum(\"erTotal\")</th>\n",
        "    </tr>\n",
        "  </thead>\n",
        "  <tbody>\n",
        "    <tr>\n",
        "      <th>0</th>\n",
        "      <td>4037319.877418</td>\n",
        "    </tr>\n",
        "  </tbody>\n",
        "</table>\n",
        "</div>"
       ],
       "metadata": {},
       "output_type": "pyout",
       "prompt_number": 51,
       "text": [
        "   sum(\"erTotal\")\n",
        "0  4037319.877418"
       ]
      }
     ],
     "prompt_number": 51
    },
    {
     "cell_type": "markdown",
     "metadata": {},
     "source": [
      "### Biomass residuals from non-commercial management activities\n",
      "Data from TPO does not account for forest management activities that do not result in commercial products (timber sales, biomass sales). To estimate the amount of residual material produced from non commercial management activities we use data from the US Forest Service (FACTS) and from CalFires timber harvest plan data. \n",
      "\n",
      "#### Forest Service ACtivity Tracking System (FACTS)\n",
      "Data from TPO does not account for forest management activities that do not result in commercial products (timber sales, biomass sales). We use a range of 10-35 BDT/acre to convert acres reported in FACTS to volume."
     ]
    },
    {
     "cell_type": "code",
     "collapsed": false,
     "input": [
      "pd.read_excel('lf/FACTS_Tabular_092115.xlsx', sheetname = 'CategoryCrosswalk').to_sql('facts_cat', sqdb['cx'], if_exists = 'replace')\n",
      "pd.read_csv('pd/facts_notimber.csv').to_sql('facts_notimber', sqdb['cx'], if_exists='replace')"
     ],
     "language": "python",
     "metadata": {},
     "outputs": [],
     "prompt_number": 7
    },
    {
     "cell_type": "markdown",
     "metadata": {},
     "source": [
      "#### Querying FACTS\n",
      "The USFS [reports](http://data.fs.usda.gov/geodata/edw/datasets.php?dsetParent=Activities) Hazardous Fuels Treatment (HFT) activities as well as Timber Sales (TS) derived from the FACTS database. We use these two datasets to estimate the number of acres treated that did not produce commercial material (sawlogs or biomass) and where burning was not used. The first step is to elimina all treatments in the HFT dataset that included timber sales. We accomplish this by eliminating all rows in the HFT dataset that have identical `FACTS_ID` fields in the TS dataset. We further filter the HFT dataset by removing any planned but not executed treatements (`nbr_units1 >0` below -- `nbr_units1` references `NBR_UNITS_ACCOMPLISHED` in the USFS dataset, see metadata for HFT [here](http://data.fs.usda.gov/geodata/edw/edw_resources/meta/S_USA.Activity_HazFuelTrt_PL.xml)), and use text matching in the 'ACTIVITY' and 'METHOD' fields to remove any rows that contain reference to 'burning' or 'fire'. Finally, we remove all rows that that reference 'Biomass' in the method category as it is assumed that this means material was removed for bioenergy."
     ]
    },
    {
     "cell_type": "code",
     "collapsed": false,
     "input": [
      "usfs_acres = pd.read_sql('''select\n",
      "                                sum(nbr_units1) acres,\n",
      "                                method,\n",
      "                                strftime('%Y',date_compl) year,\n",
      "                                cat.\"ACTIVITY\" activity,\n",
      "                                cat.\"TENTATIVE_CATEGORY\" r5_cat\n",
      "                            from facts_notimber n \n",
      "                                join facts_cat cat\n",
      "                                    on (n.activity = cat.\"ACTIVITY\") \n",
      "                            where date_compl is not null\n",
      "                                and nbr_units1 > 0\n",
      "                                and cat.\"TENTATIVE_CATEGORY\" != 'Burning'\n",
      "                                and cat.\"ACTIVITY\" not like '%ire%'\n",
      "                                and method not like '%Burn%'\n",
      "                                and method != 'Biomass'\n",
      "                            group by cat.\"ACTIVITY\",\n",
      "                                year,\n",
      "                                method,\n",
      "                                cat.\"TENTATIVE_CATEGORY\"\n",
      "                            order by year;''', con = sqdb['cx'])"
     ],
     "language": "python",
     "metadata": {},
     "outputs": [],
     "prompt_number": 8
    },
    {
     "cell_type": "markdown",
     "metadata": {},
     "source": [
      "#### Converting acres to cubic feet\n",
      "FACTS reports in acres. To estimate the production of biomass from acres treated we use a range of 10-35 BDT/acre. We assume that actual biomass residuals per acre are normally distributed with a mean of 22.5 and a standard deviation of (35-10)/4 = 6.25 "
     ]
    },
    {
     "cell_type": "code",
     "collapsed": false,
     "input": [
      "def sumBDT(ac, maxbdt = 35, minbdt = 10):\n",
      "    av = (maxbdt + minbdt)/2\n",
      "    stdev = (float(maxbdt) - float(minbdt))/4 \n",
      "    d_frac = (ac-np.floor(ac))*np.random.normal(av, stdev, 1).clip(min=0)[0]\n",
      "    t_bdt = np.sum(np.random.normal(av,stdev,np.floor(ac)).clip(min=0))\n",
      "    return d_frac+t_bdt"
     ],
     "language": "python",
     "metadata": {},
     "outputs": [],
     "prompt_number": 9
    },
    {
     "cell_type": "code",
     "collapsed": false,
     "input": [
      "usfs_acres['bdt'] = usfs_acres['acres'].apply(sumBDT)\n",
      "usfs_an_bdt = usfs_acres.groupby(['year']).sum()"
     ],
     "language": "python",
     "metadata": {},
     "outputs": [],
     "prompt_number": 10
    },
    {
     "cell_type": "markdown",
     "metadata": {},
     "source": [
      "#### Weighted average wood density\n",
      "Average wood density weighted by harvested species percent. Derived from McIver and Morgan,  [Table 4](https://docs.google.com/spreadsheets/d/138FWlGeW57MKdcz2UkWxtWV4o50SZO8sduB1R6JOFp8/edit#gid=393414465)"
     ]
    },
    {
     "cell_type": "code",
     "collapsed": false,
     "input": [
      "wood_dens = ut.gData('138FWlGeW57MKdcz2UkWxtWV4o50SZO8sduB1R6JOFp8', 1297253755)\n",
      "wavg_dens =sum(wood_dens.pct/100 * wood_dens.density_lbscuft)"
     ],
     "language": "python",
     "metadata": {},
     "outputs": [],
     "prompt_number": 11
    },
    {
     "cell_type": "markdown",
     "metadata": {},
     "source": [
      "### Annual unutilized management residuals\n",
      "- [x] Public lands non-commercial management residuals \n",
      "- [ ] Private land non-commercial management residuals\n",
      "- [x] Public lands logging residuals\n",
      "- [x] Private lands logging residuals"
     ]
    },
    {
     "cell_type": "code",
     "collapsed": false,
     "input": [
      "cat_codes = {'nf_ncmr': 'Unburned, non-commercial management residuals from National Forest lands',\n",
      "             'nf_lr': 'Logging residuals generated from timber sales on National Forest lands',\n",
      "             'opriv_lr': 'Logging residuals generated from timber sales on non-industrial private forest lands',\n",
      "             'fi_lr': 'Logging residuals generated from timber sales on industrial private lands',\n",
      "             'opub_lr': 'Logging residuals generated from timber sales on industrial private lands'}"
     ],
     "language": "python",
     "metadata": {},
     "outputs": [],
     "prompt_number": 12
    },
    {
     "cell_type": "code",
     "collapsed": false,
     "input": [
      "usfs_an_bdt['cuft']= usfs_an_bdt.bdt *wavg_dens\n",
      "resid_stats=pd.DataFrame((usfs_an_bdt.iloc[6:,2]/1000000).describe())\n",
      "resid_stats.columns = ['nf_ncmr']\n",
      "resid_stats['nf_lr']=tpoData[tpoData.ownership.str.contains('National Forest')]['loggingresidues'].describe()\n",
      "resid_stats['opriv_lr']=tpoData[tpoData.ownership.str.contains('Other Private')]['loggingresidues'].describe()\n",
      "resid_stats['fi_lr']=tpoData[tpoData.ownership.str.contains('Forest Industry')]['loggingresidues'].describe()\n",
      "resid_stats['opub_lr']=tpoData[tpoData.ownership.str.contains('Other Public')]['loggingresidues'].describe()\n",
      "resid_stats"
     ],
     "language": "python",
     "metadata": {},
     "outputs": [
      {
       "html": [
        "<div style=\"max-width:1500px;overflow:auto;\">\n",
        "<table border=\"1\" class=\"dataframe\">\n",
        "  <thead>\n",
        "    <tr style=\"text-align: right;\">\n",
        "      <th></th>\n",
        "      <th>nf_ncmr</th>\n",
        "      <th>nf_lr</th>\n",
        "      <th>opriv_lr</th>\n",
        "      <th>fi_lr</th>\n",
        "      <th>opub_lr</th>\n",
        "    </tr>\n",
        "  </thead>\n",
        "  <tbody>\n",
        "    <tr>\n",
        "      <th>count</th>\n",
        "      <td>11.000000</td>\n",
        "      <td>4.00000</td>\n",
        "      <td>4.000000</td>\n",
        "      <td>4.000000</td>\n",
        "      <td>4.000000</td>\n",
        "    </tr>\n",
        "    <tr>\n",
        "      <th>mean</th>\n",
        "      <td>12.013924</td>\n",
        "      <td>17.70000</td>\n",
        "      <td>28.950000</td>\n",
        "      <td>66.425000</td>\n",
        "      <td>2.400000</td>\n",
        "    </tr>\n",
        "    <tr>\n",
        "      <th>std</th>\n",
        "      <td>4.704953</td>\n",
        "      <td>5.07346</td>\n",
        "      <td>16.159311</td>\n",
        "      <td>6.076389</td>\n",
        "      <td>1.794436</td>\n",
        "    </tr>\n",
        "    <tr>\n",
        "      <th>min</th>\n",
        "      <td>2.351977</td>\n",
        "      <td>11.20000</td>\n",
        "      <td>11.200000</td>\n",
        "      <td>59.600000</td>\n",
        "      <td>0.300000</td>\n",
        "    </tr>\n",
        "    <tr>\n",
        "      <th>25%</th>\n",
        "      <td>8.878957</td>\n",
        "      <td>15.02500</td>\n",
        "      <td>19.525000</td>\n",
        "      <td>62.225000</td>\n",
        "      <td>1.275000</td>\n",
        "    </tr>\n",
        "    <tr>\n",
        "      <th>50%</th>\n",
        "      <td>13.416204</td>\n",
        "      <td>18.50000</td>\n",
        "      <td>27.750000</td>\n",
        "      <td>66.850000</td>\n",
        "      <td>2.500000</td>\n",
        "    </tr>\n",
        "    <tr>\n",
        "      <th>75%</th>\n",
        "      <td>14.495551</td>\n",
        "      <td>21.17500</td>\n",
        "      <td>37.175000</td>\n",
        "      <td>71.050000</td>\n",
        "      <td>3.625000</td>\n",
        "    </tr>\n",
        "    <tr>\n",
        "      <th>max</th>\n",
        "      <td>17.854658</td>\n",
        "      <td>22.60000</td>\n",
        "      <td>49.100000</td>\n",
        "      <td>72.400000</td>\n",
        "      <td>4.300000</td>\n",
        "    </tr>\n",
        "  </tbody>\n",
        "</table>\n",
        "</div>"
       ],
       "metadata": {},
       "output_type": "pyout",
       "prompt_number": 13,
       "text": [
        "         nf_ncmr     nf_lr   opriv_lr      fi_lr   opub_lr\n",
        "count  11.000000   4.00000   4.000000   4.000000  4.000000\n",
        "mean   12.013924  17.70000  28.950000  66.425000  2.400000\n",
        "std     4.704953   5.07346  16.159311   6.076389  1.794436\n",
        "min     2.351977  11.20000  11.200000  59.600000  0.300000\n",
        "25%     8.878957  15.02500  19.525000  62.225000  1.275000\n",
        "50%    13.416204  18.50000  27.750000  66.850000  2.500000\n",
        "75%    14.495551  21.17500  37.175000  71.050000  3.625000\n",
        "max    17.854658  22.60000  49.100000  72.400000  4.300000"
       ]
      }
     ],
     "prompt_number": 13
    },
    {
     "cell_type": "code",
     "collapsed": false,
     "input": [
      "print tabulate(resid_stats, headers = resid_stats.columns.tolist(), tablefmt ='pipe')"
     ],
     "language": "python",
     "metadata": {},
     "outputs": [
      {
       "output_type": "stream",
       "stream": "stdout",
       "text": [
        "|       |   nf_ncmr |    nf_lr |   opriv_lr |    fi_lr |   opub_lr |\n",
        "|:------|----------:|---------:|-----------:|---------:|----------:|\n",
        "| count |  11       |  4       |     4      |  4       |   4       |\n",
        "| mean  |  12.0194  | 17.7     |    28.95   | 66.425   |   2.4     |\n",
        "| std   |   4.68948 |  5.07346 |    16.1593 |  6.07639 |   1.79444 |\n",
        "| min   |   2.37421 | 11.2     |    11.2    | 59.6     |   0.3     |\n",
        "| 25%   |   8.92407 | 15.025   |    19.525  | 62.225   |   1.275   |\n",
        "| 50%   |  13.3557  | 18.5     |    27.75   | 66.85    |   2.5     |\n",
        "| 75%   |  14.5349  | 21.175   |    37.175  | 71.05    |   3.625   |\n",
        "| max   |  17.8532  | 22.6     |    49.1    | 72.4     |   4.3     |\n"
       ]
      }
     ],
     "prompt_number": 63
    },
    {
     "cell_type": "markdown",
     "metadata": {},
     "source": [
      "#### Estimating combined GHG and SLCP emissions from unutilized residues\n",
      "Only a fraction of the"
     ]
    },
    {
     "cell_type": "code",
     "collapsed": false,
     "input": [
      "ureg = UnitRegistry()\n",
      "ureg.define('cubic foot =  cubic_centimeter/ 3.53147e-5 = cubic_foot' )\n",
      "ureg.define('million cubic foot =  cubic_foot*1000000 = MMCF' )\n",
      "ureg.define('board foot sawlog = cubic_foot / 5.44 = BF_saw')\n",
      "ureg.define('board foot veneer = cubic_foot / 5.0 = BF_vo')\n",
      "ureg.define('board foot bioenergy = cubic_foot / 1.0 = BF_bio')\n",
      "ureg.define('bone-dry unit = cubic_foot * 96 = BDU')\n"
     ],
     "language": "python",
     "metadata": {},
     "outputs": [],
     "prompt_number": 9
    }
   ],
   "metadata": {}
  }
 ]
}