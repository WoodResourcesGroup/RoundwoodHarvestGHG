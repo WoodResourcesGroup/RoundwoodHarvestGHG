{
 "metadata": {
  "name": "",
  "signature": "sha256:3e20488e85846887ffa66a2929795de018529a9bb69d25170c023adac2a1799f"
 },
 "nbformat": 3,
 "nbformat_minor": 0,
 "worksheets": []
}