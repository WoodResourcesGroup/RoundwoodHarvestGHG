{
 "cells": [
  {
   "cell_type": "code",
   "execution_count": 1,
   "metadata": {
    "collapsed": false
   },
   "outputs": [
    {
     "name": "stderr",
     "output_type": "stream",
     "text": [
      "/Users/pete/src/fcat_biomass/lib/python2.7/site-packages/matplotlib/__init__.py:872: UserWarning: axes.color_cycle is deprecated and replaced with axes.prop_cycle; please use the latter.\n",
      "  warnings.warn(self.msg_depr % (key, alt_key))\n"
     ]
    }
   ],
   "source": [
    "import utils as ut\n",
    "from pint import UnitRegistry\n",
    "import pandas as pd\n",
    "from ggplot import *\n",
    "import seaborn as sns\n",
    "from tabulate import tabulate\n",
    "from numpy import average as avg\n",
    "import numpy as np"
   ]
  },
  {
   "cell_type": "markdown",
   "metadata": {},
   "source": [
    "## Some usefull functions and housekeeping\n",
    "Initalize a `sqlite` database"
   ]
  },
  {
   "cell_type": "code",
   "execution_count": 2,
   "metadata": {
    "collapsed": false
   },
   "outputs": [],
   "source": [
    "sqdb = ut.sqlitedb('fcat_biomass')"
   ]
  },
  {
   "cell_type": "markdown",
   "metadata": {},
   "source": [
    "### Functions for"
   ]
  },
  {
   "cell_type": "code",
   "execution_count": 3,
   "metadata": {
    "collapsed": false
   },
   "outputs": [],
   "source": [
    "def distFromRange(total, maxr = 32, minr = 2):\n",
    "    av = (maxr + minr)/2\n",
    "    stdev = (float(maxr) - float(minr))/4 \n",
    "    d_frac = (total-np.floor(total))*np.random.normal(av, stdev, 1).clip(min=0)[0]\n",
    "    t_bdt = np.random.normal(av,stdev,np.floor(total)).clip(min=0)\n",
    "    return np.append(t_bdt, d_frac)"
   ]
  },
  {
   "cell_type": "code",
   "execution_count": 4,
   "metadata": {
    "collapsed": false
   },
   "outputs": [],
   "source": [
    "def sumFromDist(total, maxr = 0.32, minr = 0.02):\n",
    "    av = (maxr + minr)/2\n",
    "    stdev = (float(maxr) - float(minr))/4 \n",
    "    d_frac = (total-np.floor(total))*np.random.normal(av, stdev, 1).clip(min=0)[0]\n",
    "    t_bdt = np.sum(np.random.normal(av,stdev,np.floor(total)).clip(min=0))\n",
    "    return (d_frac+t_bdt)"
   ]
  },
  {
   "cell_type": "markdown",
   "metadata": {},
   "source": [
    "### Black Carbon from pile burning\n",
    "The  CARB criteria pollutant emissions inventory reports Particualte Matter (PM 2.5) emissions from anthropogenic buring of forest residuals. The following estimates elemental carbon (Black Carbon) based on empirically derived relationships between PM2.5 and EC from.\n",
    "\n",
    "1. Ward DE, Hardy CC. Organic and elemental profiles for smoke from prescribed fires. In: Watson JG, editor. International specialty conference of the Air and Waste Management Association [Internet]. San Francisco: Air and Waste Management Association; 1989. Available from: http://www.frames.gov/documents/smoke/serdp/ward_hardy_1989a.pdf"
   ]
  },
  {
   "cell_type": "code",
   "execution_count": 5,
   "metadata": {
    "collapsed": false
   },
   "outputs": [
    {
     "data": {
      "text/html": [
       "<div style=\"max-width:1500px;overflow:auto;\">\n",
       "<table border=\"1\" class=\"dataframe\">\n",
       "  <thead>\n",
       "    <tr style=\"text-align: right;\">\n",
       "      <th></th>\n",
       "      <th>arblink</th>\n",
       "      <th>ec_f_cv</th>\n",
       "      <th>ec_f_est</th>\n",
       "      <th>ec_s_cv</th>\n",
       "      <th>ec_s_est</th>\n",
       "      <th>ecton-1_h_pm</th>\n",
       "      <th>ecton-1_l_pm</th>\n",
       "      <th>pct_f</th>\n",
       "      <th>pct_sm</th>\n",
       "      <th>source</th>\n",
       "      <th>tc_f_cv</th>\n",
       "      <th>tc_f_est</th>\n",
       "      <th>tc_s_cv</th>\n",
       "      <th>tc_s_est</th>\n",
       "    </tr>\n",
       "  </thead>\n",
       "  <tbody>\n",
       "    <tr>\n",
       "      <th>Pile Burn</th>\n",
       "      <td>FOREST MANAGEMENT</td>\n",
       "      <td>0.45</td>\n",
       "      <td>0.082</td>\n",
       "      <td>0.49</td>\n",
       "      <td>0.029</td>\n",
       "      <td>0.0078985</td>\n",
       "      <td>0.0047115</td>\n",
       "      <td>0.9</td>\n",
       "      <td>0.1</td>\n",
       "      <td>Pile Burn</td>\n",
       "      <td>0.09</td>\n",
       "      <td>0.572</td>\n",
       "      <td>0.01</td>\n",
       "      <td>0.56</td>\n",
       "    </tr>\n",
       "    <tr>\n",
       "      <th>Prescribed</th>\n",
       "      <td>WILDLAND FIRE USE (WFU)</td>\n",
       "      <td>0.5833</td>\n",
       "      <td>0.1267</td>\n",
       "      <td>0.29</td>\n",
       "      <td>0.034</td>\n",
       "      <td>0.150954</td>\n",
       "      <td>0.0517122</td>\n",
       "      <td>0.5</td>\n",
       "      <td>0.5</td>\n",
       "      <td>Prescribed</td>\n",
       "      <td>0.0733</td>\n",
       "      <td>0.6327</td>\n",
       "      <td>0.08</td>\n",
       "      <td>0.616</td>\n",
       "    </tr>\n",
       "    <tr>\n",
       "      <th>Wildfire</th>\n",
       "      <td>ALL VEGETATION</td>\n",
       "      <td>0.4467</td>\n",
       "      <td>0.0962</td>\n",
       "      <td>0.338</td>\n",
       "      <td>0.0367</td>\n",
       "      <td>0.185961</td>\n",
       "      <td>0.0637042</td>\n",
       "      <td>0.3</td>\n",
       "      <td>0.7</td>\n",
       "      <td>Wildfire</td>\n",
       "      <td>0.0867</td>\n",
       "      <td>0.6102</td>\n",
       "      <td>0.06</td>\n",
       "      <td>0.623</td>\n",
       "    </tr>\n",
       "  </tbody>\n",
       "</table>\n",
       "</div>"
      ],
      "text/plain": [
       "                            arblink ec_f_cv ec_f_est ec_s_cv ec_s_est  \\\n",
       "Pile Burn         FOREST MANAGEMENT    0.45    0.082    0.49    0.029   \n",
       "Prescribed  WILDLAND FIRE USE (WFU)  0.5833   0.1267    0.29    0.034   \n",
       "Wildfire             ALL VEGETATION  0.4467   0.0962   0.338   0.0367   \n",
       "\n",
       "           ecton-1_h_pm ecton-1_l_pm pct_f pct_sm      source tc_f_cv  \\\n",
       "Pile Burn     0.0078985    0.0047115   0.9    0.1   Pile Burn    0.09   \n",
       "Prescribed     0.150954    0.0517122   0.5    0.5  Prescribed  0.0733   \n",
       "Wildfire       0.185961    0.0637042   0.3    0.7    Wildfire  0.0867   \n",
       "\n",
       "           tc_f_est tc_s_cv tc_s_est  \n",
       "Pile Burn     0.572    0.01     0.56  \n",
       "Prescribed   0.6327    0.08    0.616  \n",
       "Wildfire     0.6102    0.06    0.623  "
      ]
     },
     "execution_count": 5,
     "metadata": {},
     "output_type": "execute_result"
    }
   ],
   "source": [
    "ward = ut.gData('13UQtRfNBSJ81PXxbYSnB2LrjHePNcvhJhrsxRBjHpoY', 475419971)\n",
    "#Units are ratio of EC to PM produced \n",
    "wardDF = ward[['source','pct_sm','pct_f','tc_f_est','tc_f_cv','tc_s_est','tc_s_cv','ec_f_est','ec_f_cv', 'ec_s_est','ec_s_cv','ecton-1_h_pm','ecton-1_l_pm']].transpose()\n",
    "wardDF.columns = wardDF.iloc[0]\n",
    "eFact = wardDF.to_dict()\n",
    "d = dict(zip([eFact[i]['source'] for i in eFact.keys()],['ALL VEGETATION','WILDLAND FIRE USE (WFU)','FOREST MANAGEMENT']))\n",
    "for k in eFact.keys():\n",
    "    eFact[k]['arblink'] = d[k]\n",
    "pd.DataFrame.from_dict(eFact).transpose().to_sql('bc_pm_ratio', sqdb['cx'], if_exists= 'replace')\n",
    "#print tabulate(pd.DataFrame.from_dict(eFact).transpose(), headers = ['CARB CPE Cat.','BC/t PM 2.5 (high)','BC/t PM 2.5 (low)', 'Source'], tablefmt=\"pipe\")\n",
    "pd.DataFrame.from_dict(eFact).transpose()"
   ]
  },
  {
   "cell_type": "code",
   "execution_count": 6,
   "metadata": {
    "collapsed": false
   },
   "outputs": [
    {
     "data": {
      "text/html": [
       "<div style=\"max-width:1500px;overflow:auto;\">\n",
       "<table border=\"1\" class=\"dataframe\">\n",
       "  <thead>\n",
       "    <tr style=\"text-align: right;\">\n",
       "      <th></th>\n",
       "      <th>Pile Burn</th>\n",
       "      <th>Prescribed</th>\n",
       "      <th>Wildfire</th>\n",
       "    </tr>\n",
       "  </thead>\n",
       "  <tbody>\n",
       "    <tr>\n",
       "      <th>arblink</th>\n",
       "      <td>FOREST MANAGEMENT</td>\n",
       "      <td>WILDLAND FIRE USE (WFU)</td>\n",
       "      <td>ALL VEGETATION</td>\n",
       "    </tr>\n",
       "    <tr>\n",
       "      <th>ec_f_cv</th>\n",
       "      <td>0.45</td>\n",
       "      <td>0.5833</td>\n",
       "      <td>0.4467</td>\n",
       "    </tr>\n",
       "    <tr>\n",
       "      <th>ec_f_est</th>\n",
       "      <td>0.082</td>\n",
       "      <td>0.1267</td>\n",
       "      <td>0.0962</td>\n",
       "    </tr>\n",
       "    <tr>\n",
       "      <th>ec_s_cv</th>\n",
       "      <td>0.49</td>\n",
       "      <td>0.29</td>\n",
       "      <td>0.338</td>\n",
       "    </tr>\n",
       "    <tr>\n",
       "      <th>ec_s_est</th>\n",
       "      <td>0.029</td>\n",
       "      <td>0.034</td>\n",
       "      <td>0.0367</td>\n",
       "    </tr>\n",
       "    <tr>\n",
       "      <th>ecton-1_h_pm</th>\n",
       "      <td>0.0078985</td>\n",
       "      <td>0.150954</td>\n",
       "      <td>0.185961</td>\n",
       "    </tr>\n",
       "    <tr>\n",
       "      <th>ecton-1_l_pm</th>\n",
       "      <td>0.0047115</td>\n",
       "      <td>0.0517122</td>\n",
       "      <td>0.0637042</td>\n",
       "    </tr>\n",
       "    <tr>\n",
       "      <th>pct_f</th>\n",
       "      <td>0.9</td>\n",
       "      <td>0.5</td>\n",
       "      <td>0.3</td>\n",
       "    </tr>\n",
       "    <tr>\n",
       "      <th>pct_sm</th>\n",
       "      <td>0.1</td>\n",
       "      <td>0.5</td>\n",
       "      <td>0.7</td>\n",
       "    </tr>\n",
       "    <tr>\n",
       "      <th>source</th>\n",
       "      <td>Pile Burn</td>\n",
       "      <td>Prescribed</td>\n",
       "      <td>Wildfire</td>\n",
       "    </tr>\n",
       "    <tr>\n",
       "      <th>tc_f_cv</th>\n",
       "      <td>0.09</td>\n",
       "      <td>0.0733</td>\n",
       "      <td>0.0867</td>\n",
       "    </tr>\n",
       "    <tr>\n",
       "      <th>tc_f_est</th>\n",
       "      <td>0.572</td>\n",
       "      <td>0.6327</td>\n",
       "      <td>0.6102</td>\n",
       "    </tr>\n",
       "    <tr>\n",
       "      <th>tc_s_cv</th>\n",
       "      <td>0.01</td>\n",
       "      <td>0.08</td>\n",
       "      <td>0.06</td>\n",
       "    </tr>\n",
       "    <tr>\n",
       "      <th>tc_s_est</th>\n",
       "      <td>0.56</td>\n",
       "      <td>0.616</td>\n",
       "      <td>0.623</td>\n",
       "    </tr>\n",
       "  </tbody>\n",
       "</table>\n",
       "</div>"
      ],
      "text/plain": [
       "                      Pile Burn               Prescribed        Wildfire\n",
       "arblink       FOREST MANAGEMENT  WILDLAND FIRE USE (WFU)  ALL VEGETATION\n",
       "ec_f_cv                    0.45                   0.5833          0.4467\n",
       "ec_f_est                  0.082                   0.1267          0.0962\n",
       "ec_s_cv                    0.49                     0.29           0.338\n",
       "ec_s_est                  0.029                    0.034          0.0367\n",
       "ecton-1_h_pm          0.0078985                 0.150954        0.185961\n",
       "ecton-1_l_pm          0.0047115                0.0517122       0.0637042\n",
       "pct_f                       0.9                      0.5             0.3\n",
       "pct_sm                      0.1                      0.5             0.7\n",
       "source                Pile Burn               Prescribed        Wildfire\n",
       "tc_f_cv                    0.09                   0.0733          0.0867\n",
       "tc_f_est                  0.572                   0.6327          0.6102\n",
       "tc_s_cv                    0.01                     0.08            0.06\n",
       "tc_s_est                   0.56                    0.616           0.623"
      ]
     },
     "execution_count": 6,
     "metadata": {},
     "output_type": "execute_result"
    }
   ],
   "source": [
    "pd.DataFrame.from_dict(eFact)"
   ]
  },
  {
   "cell_type": "code",
   "execution_count": 7,
   "metadata": {
    "collapsed": false
   },
   "outputs": [
    {
     "data": {
      "text/html": [
       "<div style=\"max-width:1500px;overflow:auto;\">\n",
       "<table border=\"1\" class=\"dataframe\">\n",
       "  <thead>\n",
       "    <tr style=\"text-align: right;\">\n",
       "      <th></th>\n",
       "      <th>source</th>\n",
       "      <th>mg</th>\n",
       "      <th>pct_sm</th>\n",
       "      <th>pct_f</th>\n",
       "      <th>pm2.5_sm</th>\n",
       "      <th>pm2.5_f</th>\n",
       "      <th>tc_f_est</th>\n",
       "      <th>tc_f_cv</th>\n",
       "      <th>tc_s_est</th>\n",
       "      <th>tc_s_cv</th>\n",
       "      <th>...</th>\n",
       "      <th>ec_sm_l(kg)</th>\n",
       "      <th>ec_sm_h</th>\n",
       "      <th>ec_f_l</th>\n",
       "      <th>ec_f_h</th>\n",
       "      <th>sumec_l</th>\n",
       "      <th>sumec_h</th>\n",
       "      <th>ecton-1_l_biomass</th>\n",
       "      <th>ecton-1_h_biomass</th>\n",
       "      <th>ecton-1_l_pm</th>\n",
       "      <th>ecton-1_h_pm</th>\n",
       "    </tr>\n",
       "  </thead>\n",
       "  <tbody>\n",
       "    <tr>\n",
       "      <th>0</th>\n",
       "      <td>Pile Burn</td>\n",
       "      <td>10</td>\n",
       "      <td>0.1</td>\n",
       "      <td>0.9</td>\n",
       "      <td>4</td>\n",
       "      <td>36.0</td>\n",
       "      <td>0.5720</td>\n",
       "      <td>0.0900</td>\n",
       "      <td>0.560</td>\n",
       "      <td>0.01</td>\n",
       "      <td>...</td>\n",
       "      <td>0.0592</td>\n",
       "      <td>0.1728</td>\n",
       "      <td>0.1293</td>\n",
       "      <td>0.1431</td>\n",
       "      <td>0.1885</td>\n",
       "      <td>0.3159</td>\n",
       "      <td>0.0188</td>\n",
       "      <td>0.0316</td>\n",
       "      <td>0.004712</td>\n",
       "      <td>0.007898</td>\n",
       "    </tr>\n",
       "    <tr>\n",
       "      <th>1</th>\n",
       "      <td>Prescribed</td>\n",
       "      <td>10</td>\n",
       "      <td>0.5</td>\n",
       "      <td>0.5</td>\n",
       "      <td>70</td>\n",
       "      <td>35.0</td>\n",
       "      <td>0.6327</td>\n",
       "      <td>0.0733</td>\n",
       "      <td>0.616</td>\n",
       "      <td>0.08</td>\n",
       "      <td>...</td>\n",
       "      <td>1.7061</td>\n",
       "      <td>3.0539</td>\n",
       "      <td>3.7237</td>\n",
       "      <td>12.7964</td>\n",
       "      <td>5.4298</td>\n",
       "      <td>15.8502</td>\n",
       "      <td>0.5430</td>\n",
       "      <td>1.5850</td>\n",
       "      <td>0.051712</td>\n",
       "      <td>0.150954</td>\n",
       "    </tr>\n",
       "    <tr>\n",
       "      <th>2</th>\n",
       "      <td>Wildfire</td>\n",
       "      <td>10</td>\n",
       "      <td>0.7</td>\n",
       "      <td>0.3</td>\n",
       "      <td>96</td>\n",
       "      <td>20.9</td>\n",
       "      <td>0.6102</td>\n",
       "      <td>0.0867</td>\n",
       "      <td>0.623</td>\n",
       "      <td>0.06</td>\n",
       "      <td>...</td>\n",
       "      <td>2.3407</td>\n",
       "      <td>4.1896</td>\n",
       "      <td>5.1085</td>\n",
       "      <td>17.5554</td>\n",
       "      <td>7.4491</td>\n",
       "      <td>21.7450</td>\n",
       "      <td>0.7449</td>\n",
       "      <td>2.1745</td>\n",
       "      <td>0.063704</td>\n",
       "      <td>0.185961</td>\n",
       "    </tr>\n",
       "  </tbody>\n",
       "</table>\n",
       "<p>3 rows × 24 columns</p>\n",
       "</div>"
      ],
      "text/plain": [
       "       source  mg  pct_sm  pct_f  pm2.5_sm  pm2.5_f  tc_f_est  tc_f_cv  \\\n",
       "0   Pile Burn  10     0.1    0.9         4     36.0    0.5720   0.0900   \n",
       "1  Prescribed  10     0.5    0.5        70     35.0    0.6327   0.0733   \n",
       "2    Wildfire  10     0.7    0.3        96     20.9    0.6102   0.0867   \n",
       "\n",
       "   tc_s_est  tc_s_cv      ...       ec_sm_l(kg)  ec_sm_h  ec_f_l   ec_f_h  \\\n",
       "0     0.560     0.01      ...            0.0592   0.1728  0.1293   0.1431   \n",
       "1     0.616     0.08      ...            1.7061   3.0539  3.7237  12.7964   \n",
       "2     0.623     0.06      ...            2.3407   4.1896  5.1085  17.5554   \n",
       "\n",
       "   sumec_l  sumec_h  ecton-1_l_biomass  ecton-1_h_biomass  ecton-1_l_pm  \\\n",
       "0   0.1885   0.3159             0.0188             0.0316      0.004712   \n",
       "1   5.4298  15.8502             0.5430             1.5850      0.051712   \n",
       "2   7.4491  21.7450             0.7449             2.1745      0.063704   \n",
       "\n",
       "   ecton-1_h_pm  \n",
       "0      0.007898  \n",
       "1      0.150954  \n",
       "2      0.185961  \n",
       "\n",
       "[3 rows x 24 columns]"
      ]
     },
     "execution_count": 7,
     "metadata": {},
     "output_type": "execute_result"
    }
   ],
   "source": [
    "ward"
   ]
  },
  {
   "cell_type": "code",
   "execution_count": 8,
   "metadata": {
    "collapsed": false
   },
   "outputs": [
    {
     "name": "stderr",
     "output_type": "stream",
     "text": [
      "-c:2: UserWarning: The spaces in these column names will not be changed. In pandas versions < 0.14, spaces were converted to underscores.\n"
     ]
    }
   ],
   "source": [
    "ec_rat_table = pd.DataFrame([ward.source, ward.tc_f_est*ward.ec_f_est, ward.tc_f_cv, ward.ec_f_cv,ward.tc_s_est*ward.ec_s_est, ward.tc_s_cv, ward.ec_s_cv]).transpose()\n",
    "ec_rat_table.to_sql('ec_ratios', sqdb['cx'], if_exists = 'replace')"
   ]
  },
  {
   "cell_type": "code",
   "execution_count": 9,
   "metadata": {
    "collapsed": false
   },
   "outputs": [
    {
     "data": {
      "text/html": [
       "<div style=\"max-width:1500px;overflow:auto;\">\n",
       "<table border=\"1\" class=\"dataframe\">\n",
       "  <thead>\n",
       "    <tr style=\"text-align: right;\">\n",
       "      <th></th>\n",
       "      <th>source</th>\n",
       "      <th>Unnamed 0</th>\n",
       "      <th>tc_f_cv</th>\n",
       "      <th>ec_f_cv</th>\n",
       "      <th>Unnamed 1</th>\n",
       "      <th>tc_s_cv</th>\n",
       "      <th>ec_s_cv</th>\n",
       "    </tr>\n",
       "  </thead>\n",
       "  <tbody>\n",
       "    <tr>\n",
       "      <th>0</th>\n",
       "      <td>Pile Burn</td>\n",
       "      <td>0.046904</td>\n",
       "      <td>0.09</td>\n",
       "      <td>0.45</td>\n",
       "      <td>0.01624</td>\n",
       "      <td>0.01</td>\n",
       "      <td>0.49</td>\n",
       "    </tr>\n",
       "    <tr>\n",
       "      <th>1</th>\n",
       "      <td>Prescribed</td>\n",
       "      <td>0.0801631</td>\n",
       "      <td>0.0733</td>\n",
       "      <td>0.5833</td>\n",
       "      <td>0.020944</td>\n",
       "      <td>0.08</td>\n",
       "      <td>0.29</td>\n",
       "    </tr>\n",
       "    <tr>\n",
       "      <th>2</th>\n",
       "      <td>Wildfire</td>\n",
       "      <td>0.0587012</td>\n",
       "      <td>0.0867</td>\n",
       "      <td>0.4467</td>\n",
       "      <td>0.0228641</td>\n",
       "      <td>0.06</td>\n",
       "      <td>0.338</td>\n",
       "    </tr>\n",
       "  </tbody>\n",
       "</table>\n",
       "</div>"
      ],
      "text/plain": [
       "       source  Unnamed 0 tc_f_cv ec_f_cv  Unnamed 1 tc_s_cv ec_s_cv\n",
       "0   Pile Burn   0.046904    0.09    0.45    0.01624    0.01    0.49\n",
       "1  Prescribed  0.0801631  0.0733  0.5833   0.020944    0.08    0.29\n",
       "2    Wildfire  0.0587012  0.0867  0.4467  0.0228641    0.06   0.338"
      ]
     },
     "execution_count": 9,
     "metadata": {},
     "output_type": "execute_result"
    }
   ],
   "source": [
    "ec_rat_table"
   ]
  },
  {
   "cell_type": "code",
   "execution_count": 10,
   "metadata": {
    "collapsed": false
   },
   "outputs": [
    {
     "name": "stdout",
     "output_type": "stream",
     "text": [
      "|    | Source     |   BC/t PM 2.5 (F, est.) |   TC/t PM 2.5 (F, CV) |   BC/t TC (F, CV) |   BC/t PM 2.5 (S, est.) |   TC/t PM 2.5 (S, CV) |   BC/t TC (S, CV) |\n",
      "|---:|:-----------|------------------------:|----------------------:|------------------:|------------------------:|----------------------:|------------------:|\n",
      "|  0 | Pile Burn  |               0.046904  |                0.09   |            0.45   |               0.01624   |                  0.01 |             0.49  |\n",
      "|  1 | Prescribed |               0.0801631 |                0.0733 |            0.5833 |               0.020944  |                  0.08 |             0.29  |\n",
      "|  2 | Wildfire   |               0.0587012 |                0.0867 |            0.4467 |               0.0228641 |                  0.06 |             0.338 |\n"
     ]
    }
   ],
   "source": [
    "print tabulate(ec_rat_table, headers = ['Source',\n",
    "                                        'BC/t PM 2.5 (F, est.)',\n",
    "                                        'TC/t PM 2.5 (F, CV)',\n",
    "                                        'BC/t TC (F, CV)',\n",
    "                                        'BC/t PM 2.5 (S, est.)',\n",
    "                                        'TC/t PM 2.5 (S, CV)',\n",
    "                                        'BC/t TC (S, CV)'], tablefmt=\"pipe\")"
   ]
  },
  {
   "cell_type": "code",
   "execution_count": 11,
   "metadata": {
    "collapsed": false
   },
   "outputs": [],
   "source": [
    "ecPct = ward[['ec_f_est', 'pct_f','pct_sm','tc_f_est','tc_f_cv','tc_s_est','tc_s_cv','ec_f_cv','ec_s_est', 'ec_s_cv']].set_index(ward.source).to_dict('index')"
   ]
  },
  {
   "cell_type": "markdown",
   "metadata": {},
   "source": [
    "### Black Carbon Global Warming Potential\n",
    "[Several estimates](https://docs.google.com/spreadsheets/d/13UQtRfNBSJ81PXxbYSnB2LrjHePNcvhJhrsxRBjHpoY/edit#gid=195715938) exist for the GWP of Black Carbon. We use GWP20 estimates for black carbon from the CARB Short-Lived Climate Pollutant Strategy and from Fuglestvedt et. al 2000.\n",
    "\n",
    "#### References\n",
    "1. California Air Resources Board. [Short Lived Climate Pollutant Reduction Strategy](https://docs.google.com/uc?id=0B9-9Vlx0SkkFWmxxQ2xtSkNxSlU&export=download). Sacramento, CA; 2015. \n",
    "2. Fuglestvedt JS, Berntsen TK, Godal O, Skodvin T. Climate implications of GWP-based reductions in greenhouse gas emissions. Geophys Res Lett [Internet]. 2000 Feb 1 [cited 2015 Sep 5];27(3):409–12. Available from: http://doi.wiley.com/10.1029/1999GL010939"
   ]
  },
  {
   "cell_type": "code",
   "execution_count": 12,
   "metadata": {
    "collapsed": false
   },
   "outputs": [],
   "source": [
    "bc_gwp = ut.gData('13UQtRfNBSJ81PXxbYSnB2LrjHePNcvhJhrsxRBjHpoY', 195715938)\n",
    "bc_gwp.to_sql('bc_gwp', sqdb['cx'], if_exists = 'replace')\n",
    "#print tabulate(bc_gwp.drop('est_id', 1), headers = [i for i in bc_gwp.drop('est_id', 1).columns],tablefmt=\"pipe\")\n",
    "bc_gwp = bc_gwp.set_index(bc_gwp.est_id).drop('est_id',1)"
   ]
  },
  {
   "cell_type": "code",
   "execution_count": 13,
   "metadata": {
    "collapsed": false
   },
   "outputs": [
    {
     "data": {
      "text/html": [
       "<div style=\"max-width:1500px;overflow:auto;\">\n",
       "<table border=\"1\" class=\"dataframe\">\n",
       "  <thead>\n",
       "    <tr style=\"text-align: right;\">\n",
       "      <th></th>\n",
       "      <th>gwp_20</th>\n",
       "      <th>gwp_20_std</th>\n",
       "      <th>gwp_100</th>\n",
       "      <th>gwp_100_std</th>\n",
       "      <th>gwp_500</th>\n",
       "      <th>gwp_500_std</th>\n",
       "      <th>source</th>\n",
       "    </tr>\n",
       "    <tr>\n",
       "      <th>est_id</th>\n",
       "      <th></th>\n",
       "      <th></th>\n",
       "      <th></th>\n",
       "      <th></th>\n",
       "      <th></th>\n",
       "      <th></th>\n",
       "      <th></th>\n",
       "    </tr>\n",
       "  </thead>\n",
       "  <tbody>\n",
       "    <tr>\n",
       "      <th>fug_meta</th>\n",
       "      <td>2200</td>\n",
       "      <td>888.82</td>\n",
       "      <td>633.33</td>\n",
       "      <td>255.41</td>\n",
       "      <td>193.33</td>\n",
       "      <td>77.67</td>\n",
       "      <td>Fuglestvedt2010</td>\n",
       "    </tr>\n",
       "    <tr>\n",
       "      <th>carb_slcp</th>\n",
       "      <td>3200</td>\n",
       "      <td>NaN</td>\n",
       "      <td>900.00</td>\n",
       "      <td>NaN</td>\n",
       "      <td>NaN</td>\n",
       "      <td>NaN</td>\n",
       "      <td>CaliforniaAirResourcesBoard2015</td>\n",
       "    </tr>\n",
       "  </tbody>\n",
       "</table>\n",
       "</div>"
      ],
      "text/plain": [
       "           gwp_20  gwp_20_std  gwp_100  gwp_100_std  gwp_500  gwp_500_std  \\\n",
       "est_id                                                                      \n",
       "fug_meta     2200      888.82   633.33       255.41   193.33        77.67   \n",
       "carb_slcp    3200         NaN   900.00          NaN      NaN          NaN   \n",
       "\n",
       "                                    source  \n",
       "est_id                                      \n",
       "fug_meta                   Fuglestvedt2010  \n",
       "carb_slcp  CaliforniaAirResourcesBoard2015  "
      ]
     },
     "execution_count": 13,
     "metadata": {},
     "output_type": "execute_result"
    }
   ],
   "source": [
    "bc_gwp"
   ]
  },
  {
   "cell_type": "markdown",
   "metadata": {},
   "source": [
    "### CARB Criteria Air Pollutant (CAP) emissions data 2015\n",
    "Particulate Matter, Carbon Monoxide, Nitrogen Oxide, Sulfur Dioxide, Lead, and Reactive Organic Gases"
   ]
  },
  {
   "cell_type": "code",
   "execution_count": 5,
   "metadata": {
    "collapsed": false
   },
   "outputs": [],
   "source": [
    "cpe_data = pd.read_csv('http://www.arb.ca.gov/app/emsinv/2013/emsbyeic.csv?F_YR=2015&F_DIV=0&F_SEASON=A&SP=2013&SPN=2013_Almanac&F_AREA=CA')\n",
    "cpe_data.columns = [i.lower() for i in cpe_data.columns]\n",
    "cpe_data.to_sql('cpe_2015', sqdb['cx'], if_exists = 'replace')\n",
    "cpe_2015 = pd.read_sql('''SELECT\n",
    "                                eicsoun,\n",
    "                                pm.source type,\n",
    "                                pm2_5 pm25_tpd,\n",
    "                                pm2_5*365*\"ecton-1_h_pm\" as t_ec_high,\n",
    "                                pm2_5*365*\"ecton-1_l_pm\" as t_ec_low,\n",
    "                                pm2_5*365*\"ecton-1_h_pm\"*gwp_20 as co2e_high,\n",
    "                                pm2_5*365*\"ecton-1_l_pm\"*gwp_20 as co2e_low,\n",
    "                                pm2_5*365*\"ecton-1_l_pm\"*(gwp_20-gwp_20_std) as co2e20_low_m1std,\n",
    "                                pm2_5*365*\"ecton-1_l_pm\"*(gwp_20+gwp_20_std) as co2e20_low_p1std,\n",
    "                                pm2_5*365*\"ecton-1_h_pm\"*(gwp_20-gwp_20_std) as co2e20_hi_m1std,\n",
    "                                pm2_5*365*\"ecton-1_h_pm\"*(gwp_20+gwp_20_std) as co2e20_hi_p1std,\n",
    "                                pm2_5*365*\"ecton-1_l_pm\"*(gwp_100-gwp_100_std) as co2e100_low_m1std,\n",
    "                                pm2_5*365*\"ecton-1_l_pm\"*(gwp_100+gwp_100_std) as co2e100_low_p1std,\n",
    "                                pm2_5*365*\"ecton-1_h_pm\"*(gwp_100-gwp_100_std) as co2e100_hi_m1std,\n",
    "                                pm2_5*365*\"ecton-1_h_pm\"*(gwp_100+gwp_100_std) as co2e100_hi_p1std,\n",
    "                                gwp.source\n",
    "                            FROM cpe_2015\n",
    "                            JOIN bc_pm_ratio pm  on  (arblink = eicsoun)\n",
    "                            CROSS JOIN bc_gwp gwp \n",
    "                            WHERE eicsoun in ('FOREST MANAGEMENT','WILDLAND FIRE USE (WFU)','ALL VEGETATION')''',\n",
    "            con = sqdb['cx'])\n",
    "\n",
    "foo = pd.melt(cpe_2015.drop('eicsoun',1), id_vars = ['type', 'source'])\n",
    "bar = foo[foo['variable'].str.contains(\"co2e\")].dropna()\n",
    "bar['type'] = bar.type.astype('category')\n",
    "bar.value = bar.value"
   ]
  },
  {
   "cell_type": "code",
   "execution_count": 7,
   "metadata": {
    "collapsed": false
   },
   "outputs": [
    {
     "data": {
      "text/html": [
       "<div>\n",
       "<table border=\"1\" class=\"dataframe\">\n",
       "  <thead>\n",
       "    <tr style=\"text-align: right;\">\n",
       "      <th></th>\n",
       "      <th>type</th>\n",
       "      <th>source</th>\n",
       "      <th>variable</th>\n",
       "      <th>value</th>\n",
       "    </tr>\n",
       "  </thead>\n",
       "  <tbody>\n",
       "    <tr>\n",
       "      <th>18</th>\n",
       "      <td>Wildfire</td>\n",
       "      <td>Fuglestvedt2010</td>\n",
       "      <td>co2e_high</td>\n",
       "      <td>56306313.753166</td>\n",
       "    </tr>\n",
       "    <tr>\n",
       "      <th>19</th>\n",
       "      <td>Wildfire</td>\n",
       "      <td>CaliforniaAirResourcesBoard2015</td>\n",
       "      <td>co2e_high</td>\n",
       "      <td>81900092.731877</td>\n",
       "    </tr>\n",
       "    <tr>\n",
       "      <th>20</th>\n",
       "      <td>Pile Burn</td>\n",
       "      <td>Fuglestvedt2010</td>\n",
       "      <td>co2e_high</td>\n",
       "      <td>95233.204182</td>\n",
       "    </tr>\n",
       "    <tr>\n",
       "      <th>21</th>\n",
       "      <td>Pile Burn</td>\n",
       "      <td>CaliforniaAirResourcesBoard2015</td>\n",
       "      <td>co2e_high</td>\n",
       "      <td>138521.024265</td>\n",
       "    </tr>\n",
       "    <tr>\n",
       "      <th>22</th>\n",
       "      <td>Prescribed</td>\n",
       "      <td>Fuglestvedt2010</td>\n",
       "      <td>co2e_high</td>\n",
       "      <td>2259086.154883</td>\n",
       "    </tr>\n",
       "    <tr>\n",
       "      <th>23</th>\n",
       "      <td>Prescribed</td>\n",
       "      <td>CaliforniaAirResourcesBoard2015</td>\n",
       "      <td>co2e_high</td>\n",
       "      <td>3285943.498012</td>\n",
       "    </tr>\n",
       "    <tr>\n",
       "      <th>24</th>\n",
       "      <td>Wildfire</td>\n",
       "      <td>Fuglestvedt2010</td>\n",
       "      <td>co2e_low</td>\n",
       "      <td>19288763.710947</td>\n",
       "    </tr>\n",
       "    <tr>\n",
       "      <th>25</th>\n",
       "      <td>Wildfire</td>\n",
       "      <td>CaliforniaAirResourcesBoard2015</td>\n",
       "      <td>co2e_low</td>\n",
       "      <td>28056383.579559</td>\n",
       "    </tr>\n",
       "    <tr>\n",
       "      <th>26</th>\n",
       "      <td>Pile Burn</td>\n",
       "      <td>Fuglestvedt2010</td>\n",
       "      <td>co2e_low</td>\n",
       "      <td>56807.145851</td>\n",
       "    </tr>\n",
       "    <tr>\n",
       "      <th>27</th>\n",
       "      <td>Pile Burn</td>\n",
       "      <td>CaliforniaAirResourcesBoard2015</td>\n",
       "      <td>co2e_low</td>\n",
       "      <td>82628.575783</td>\n",
       "    </tr>\n",
       "    <tr>\n",
       "      <th>28</th>\n",
       "      <td>Prescribed</td>\n",
       "      <td>Fuglestvedt2010</td>\n",
       "      <td>co2e_low</td>\n",
       "      <td>773891.525485</td>\n",
       "    </tr>\n",
       "    <tr>\n",
       "      <th>29</th>\n",
       "      <td>Prescribed</td>\n",
       "      <td>CaliforniaAirResourcesBoard2015</td>\n",
       "      <td>co2e_low</td>\n",
       "      <td>1125660.400705</td>\n",
       "    </tr>\n",
       "    <tr>\n",
       "      <th>30</th>\n",
       "      <td>Wildfire</td>\n",
       "      <td>Fuglestvedt2010</td>\n",
       "      <td>co2e20_low_m1std</td>\n",
       "      <td>11495927.819327</td>\n",
       "    </tr>\n",
       "    <tr>\n",
       "      <th>32</th>\n",
       "      <td>Pile Burn</td>\n",
       "      <td>Fuglestvedt2010</td>\n",
       "      <td>co2e20_low_m1std</td>\n",
       "      <td>33856.542499</td>\n",
       "    </tr>\n",
       "    <tr>\n",
       "      <th>34</th>\n",
       "      <td>Prescribed</td>\n",
       "      <td>Fuglestvedt2010</td>\n",
       "      <td>co2e20_low_m1std</td>\n",
       "      <td>461232.313812</td>\n",
       "    </tr>\n",
       "    <tr>\n",
       "      <th>36</th>\n",
       "      <td>Wildfire</td>\n",
       "      <td>Fuglestvedt2010</td>\n",
       "      <td>co2e20_low_p1std</td>\n",
       "      <td>27081599.602567</td>\n",
       "    </tr>\n",
       "    <tr>\n",
       "      <th>38</th>\n",
       "      <td>Pile Burn</td>\n",
       "      <td>Fuglestvedt2010</td>\n",
       "      <td>co2e20_low_p1std</td>\n",
       "      <td>79757.749203</td>\n",
       "    </tr>\n",
       "    <tr>\n",
       "      <th>40</th>\n",
       "      <td>Prescribed</td>\n",
       "      <td>Fuglestvedt2010</td>\n",
       "      <td>co2e20_low_p1std</td>\n",
       "      <td>1086550.737158</td>\n",
       "    </tr>\n",
       "    <tr>\n",
       "      <th>42</th>\n",
       "      <td>Wildfire</td>\n",
       "      <td>Fuglestvedt2010</td>\n",
       "      <td>co2e20_hi_m1std</td>\n",
       "      <td>33558051.121307</td>\n",
       "    </tr>\n",
       "    <tr>\n",
       "      <th>44</th>\n",
       "      <td>Pile Burn</td>\n",
       "      <td>Fuglestvedt2010</td>\n",
       "      <td>co2e20_hi_m1std</td>\n",
       "      <td>56758.123936</td>\n",
       "    </tr>\n",
       "    <tr>\n",
       "      <th>46</th>\n",
       "      <td>Prescribed</td>\n",
       "      <td>Fuglestvedt2010</td>\n",
       "      <td>co2e20_hi_m1std</td>\n",
       "      <td>1346394.811164</td>\n",
       "    </tr>\n",
       "    <tr>\n",
       "      <th>48</th>\n",
       "      <td>Wildfire</td>\n",
       "      <td>Fuglestvedt2010</td>\n",
       "      <td>co2e20_hi_p1std</td>\n",
       "      <td>79054576.385024</td>\n",
       "    </tr>\n",
       "    <tr>\n",
       "      <th>50</th>\n",
       "      <td>Pile Burn</td>\n",
       "      <td>Fuglestvedt2010</td>\n",
       "      <td>co2e20_hi_p1std</td>\n",
       "      <td>133708.284428</td>\n",
       "    </tr>\n",
       "    <tr>\n",
       "      <th>52</th>\n",
       "      <td>Prescribed</td>\n",
       "      <td>Fuglestvedt2010</td>\n",
       "      <td>co2e20_hi_p1std</td>\n",
       "      <td>3171777.498603</td>\n",
       "    </tr>\n",
       "    <tr>\n",
       "      <th>54</th>\n",
       "      <td>Wildfire</td>\n",
       "      <td>Fuglestvedt2010</td>\n",
       "      <td>co2e100_low_m1std</td>\n",
       "      <td>3313458.900746</td>\n",
       "    </tr>\n",
       "    <tr>\n",
       "      <th>56</th>\n",
       "      <td>Pile Burn</td>\n",
       "      <td>Fuglestvedt2010</td>\n",
       "      <td>co2e100_low_m1std</td>\n",
       "      <td>9758.434800</td>\n",
       "    </tr>\n",
       "    <tr>\n",
       "      <th>58</th>\n",
       "      <td>Prescribed</td>\n",
       "      <td>Fuglestvedt2010</td>\n",
       "      <td>co2e100_low_m1std</td>\n",
       "      <td>132940.493323</td>\n",
       "    </tr>\n",
       "    <tr>\n",
       "      <th>60</th>\n",
       "      <td>Wildfire</td>\n",
       "      <td>Fuglestvedt2010</td>\n",
       "      <td>co2e100_low_p1std</td>\n",
       "      <td>7792134.482030</td>\n",
       "    </tr>\n",
       "    <tr>\n",
       "      <th>62</th>\n",
       "      <td>Pile Burn</td>\n",
       "      <td>Fuglestvedt2010</td>\n",
       "      <td>co2e100_low_p1std</td>\n",
       "      <td>22948.537638</td>\n",
       "    </tr>\n",
       "    <tr>\n",
       "      <th>64</th>\n",
       "      <td>Prescribed</td>\n",
       "      <td>Fuglestvedt2010</td>\n",
       "      <td>co2e100_low_p1std</td>\n",
       "      <td>312631.070163</td>\n",
       "    </tr>\n",
       "    <tr>\n",
       "      <th>66</th>\n",
       "      <td>Wildfire</td>\n",
       "      <td>Fuglestvedt2010</td>\n",
       "      <td>co2e100_hi_m1std</td>\n",
       "      <td>9672400.951635</td>\n",
       "    </tr>\n",
       "    <tr>\n",
       "      <th>68</th>\n",
       "      <td>Pile Burn</td>\n",
       "      <td>Fuglestvedt2010</td>\n",
       "      <td>co2e100_hi_m1std</td>\n",
       "      <td>16359.332966</td>\n",
       "    </tr>\n",
       "    <tr>\n",
       "      <th>70</th>\n",
       "      <td>Prescribed</td>\n",
       "      <td>Fuglestvedt2010</td>\n",
       "      <td>co2e100_hi_m1std</td>\n",
       "      <td>388069.927115</td>\n",
       "    </tr>\n",
       "    <tr>\n",
       "      <th>72</th>\n",
       "      <td>Wildfire</td>\n",
       "      <td>Fuglestvedt2010</td>\n",
       "      <td>co2e100_hi_p1std</td>\n",
       "      <td>22746215.129540</td>\n",
       "    </tr>\n",
       "    <tr>\n",
       "      <th>74</th>\n",
       "      <td>Pile Burn</td>\n",
       "      <td>Fuglestvedt2010</td>\n",
       "      <td>co2e100_hi_p1std</td>\n",
       "      <td>38471.617220</td>\n",
       "    </tr>\n",
       "    <tr>\n",
       "      <th>76</th>\n",
       "      <td>Prescribed</td>\n",
       "      <td>Fuglestvedt2010</td>\n",
       "      <td>co2e100_hi_p1std</td>\n",
       "      <td>912609.195132</td>\n",
       "    </tr>\n",
       "  </tbody>\n",
       "</table>\n",
       "</div>"
      ],
      "text/plain": [
       "          type                           source           variable  \\\n",
       "18    Wildfire                  Fuglestvedt2010          co2e_high   \n",
       "19    Wildfire  CaliforniaAirResourcesBoard2015          co2e_high   \n",
       "20   Pile Burn                  Fuglestvedt2010          co2e_high   \n",
       "21   Pile Burn  CaliforniaAirResourcesBoard2015          co2e_high   \n",
       "22  Prescribed                  Fuglestvedt2010          co2e_high   \n",
       "23  Prescribed  CaliforniaAirResourcesBoard2015          co2e_high   \n",
       "24    Wildfire                  Fuglestvedt2010           co2e_low   \n",
       "25    Wildfire  CaliforniaAirResourcesBoard2015           co2e_low   \n",
       "26   Pile Burn                  Fuglestvedt2010           co2e_low   \n",
       "27   Pile Burn  CaliforniaAirResourcesBoard2015           co2e_low   \n",
       "28  Prescribed                  Fuglestvedt2010           co2e_low   \n",
       "29  Prescribed  CaliforniaAirResourcesBoard2015           co2e_low   \n",
       "30    Wildfire                  Fuglestvedt2010   co2e20_low_m1std   \n",
       "32   Pile Burn                  Fuglestvedt2010   co2e20_low_m1std   \n",
       "34  Prescribed                  Fuglestvedt2010   co2e20_low_m1std   \n",
       "36    Wildfire                  Fuglestvedt2010   co2e20_low_p1std   \n",
       "38   Pile Burn                  Fuglestvedt2010   co2e20_low_p1std   \n",
       "40  Prescribed                  Fuglestvedt2010   co2e20_low_p1std   \n",
       "42    Wildfire                  Fuglestvedt2010    co2e20_hi_m1std   \n",
       "44   Pile Burn                  Fuglestvedt2010    co2e20_hi_m1std   \n",
       "46  Prescribed                  Fuglestvedt2010    co2e20_hi_m1std   \n",
       "48    Wildfire                  Fuglestvedt2010    co2e20_hi_p1std   \n",
       "50   Pile Burn                  Fuglestvedt2010    co2e20_hi_p1std   \n",
       "52  Prescribed                  Fuglestvedt2010    co2e20_hi_p1std   \n",
       "54    Wildfire                  Fuglestvedt2010  co2e100_low_m1std   \n",
       "56   Pile Burn                  Fuglestvedt2010  co2e100_low_m1std   \n",
       "58  Prescribed                  Fuglestvedt2010  co2e100_low_m1std   \n",
       "60    Wildfire                  Fuglestvedt2010  co2e100_low_p1std   \n",
       "62   Pile Burn                  Fuglestvedt2010  co2e100_low_p1std   \n",
       "64  Prescribed                  Fuglestvedt2010  co2e100_low_p1std   \n",
       "66    Wildfire                  Fuglestvedt2010   co2e100_hi_m1std   \n",
       "68   Pile Burn                  Fuglestvedt2010   co2e100_hi_m1std   \n",
       "70  Prescribed                  Fuglestvedt2010   co2e100_hi_m1std   \n",
       "72    Wildfire                  Fuglestvedt2010   co2e100_hi_p1std   \n",
       "74   Pile Burn                  Fuglestvedt2010   co2e100_hi_p1std   \n",
       "76  Prescribed                  Fuglestvedt2010   co2e100_hi_p1std   \n",
       "\n",
       "              value  \n",
       "18  56306313.753166  \n",
       "19  81900092.731877  \n",
       "20     95233.204182  \n",
       "21    138521.024265  \n",
       "22   2259086.154883  \n",
       "23   3285943.498012  \n",
       "24  19288763.710947  \n",
       "25  28056383.579559  \n",
       "26     56807.145851  \n",
       "27     82628.575783  \n",
       "28    773891.525485  \n",
       "29   1125660.400705  \n",
       "30  11495927.819327  \n",
       "32     33856.542499  \n",
       "34    461232.313812  \n",
       "36  27081599.602567  \n",
       "38     79757.749203  \n",
       "40   1086550.737158  \n",
       "42  33558051.121307  \n",
       "44     56758.123936  \n",
       "46   1346394.811164  \n",
       "48  79054576.385024  \n",
       "50    133708.284428  \n",
       "52   3171777.498603  \n",
       "54   3313458.900746  \n",
       "56      9758.434800  \n",
       "58    132940.493323  \n",
       "60   7792134.482030  \n",
       "62     22948.537638  \n",
       "64    312631.070163  \n",
       "66   9672400.951635  \n",
       "68     16359.332966  \n",
       "70    388069.927115  \n",
       "72  22746215.129540  \n",
       "74     38471.617220  \n",
       "76    912609.195132  "
      ]
     },
     "execution_count": 7,
     "metadata": {},
     "output_type": "execute_result"
    }
   ],
   "source": [
    "bar"
   ]
  },
  {
   "cell_type": "markdown",
   "metadata": {},
   "source": [
    "#### Make the BC GHG emissions plot"
   ]
  },
  {
   "cell_type": "markdown",
   "metadata": {},
   "source": [
    "A secondary apporoach based on Ward (1989) and Jenkins (1996) uses a range of 2-32% of PM as BC. \n",
    "\n",
    "1. Jenkins BM, Turn SQ, Williams RB, Goronea M, Abd-el-Fattah H, Mehlschau J, et al. Atmospheric Pollutant Emissions Factors From Open Burning of Agricultural and Forest Biomass By Wind Tunnel Simulations [Internet]. Sacramento, CA; 1996. Available from: http://www.arb.ca.gov/ei/speciate/r01t20/rf9doc/refnum9.htm"
   ]
  },
  {
   "cell_type": "code",
   "execution_count": 15,
   "metadata": {
    "collapsed": false
   },
   "outputs": [],
   "source": [
    "pm2015=pd.read_sql('''select eicsoun,\n",
    "                    pm2_5*365 as pm25\n",
    "                from cpe_2015\n",
    "                WHERE eicsoun in ('FOREST MANAGEMENT','WILDLAND FIRE USE (WFU)','ALL VEGETATION');''', con = sqdb['cx'])\n",
    "pm2015=pm2015.set_index([['Wildfire','Pile Burn','Prescribed']])"
   ]
  },
  {
   "cell_type": "code",
   "execution_count": 16,
   "metadata": {
    "collapsed": false
   },
   "outputs": [
    {
     "data": {
      "text/html": [
       "<div style=\"max-width:1500px;overflow:auto;\">\n",
       "<table border=\"1\" class=\"dataframe\">\n",
       "  <thead>\n",
       "    <tr style=\"text-align: right;\">\n",
       "      <th></th>\n",
       "      <th>eicsoun</th>\n",
       "      <th>pm25</th>\n",
       "    </tr>\n",
       "  </thead>\n",
       "  <tbody>\n",
       "    <tr>\n",
       "      <th>Wildfire</th>\n",
       "      <td>ALL VEGETATION</td>\n",
       "      <td>137630.1485</td>\n",
       "    </tr>\n",
       "    <tr>\n",
       "      <th>Pile Burn</th>\n",
       "      <td>FOREST MANAGEMENT</td>\n",
       "      <td>5480.5115</td>\n",
       "    </tr>\n",
       "    <tr>\n",
       "      <th>Prescribed</th>\n",
       "      <td>WILDLAND FIRE USE (WFU)</td>\n",
       "      <td>6802.4320</td>\n",
       "    </tr>\n",
       "  </tbody>\n",
       "</table>\n",
       "</div>"
      ],
      "text/plain": [
       "                            eicsoun         pm25\n",
       "Wildfire             ALL VEGETATION  137630.1485\n",
       "Pile Burn         FOREST MANAGEMENT    5480.5115\n",
       "Prescribed  WILDLAND FIRE USE (WFU)    6802.4320"
      ]
     },
     "execution_count": 16,
     "metadata": {},
     "output_type": "execute_result"
    }
   ],
   "source": [
    "pm2015"
   ]
  },
  {
   "cell_type": "code",
   "execution_count": 17,
   "metadata": {
    "collapsed": false
   },
   "outputs": [],
   "source": [
    "def ecDist(ecEst, ecCV, PM):\n",
    "    '''\n",
    "    PM is a mass measure, its intended to be PM2.5\n",
    "    ecEst is the estimate of the percentage of elemental carbon comprising the PM\n",
    "    ecCV is the coefficient of variation around the estimate of elemental carbon\n",
    "    -----\n",
    "    returns a random selection from a normal distribution of size `len(pm)`\n",
    "    centered on `ecEst` with standard deviation of `ecCV`*`ecEst`\n",
    "    '''\n",
    "    ecStdev = ecCV * ecEst\n",
    "#    ec_frac = (PM-np.floor(PM))*np.random.normal(ecEst, ecStdev, 1).clip(min=0)[0]\n",
    "    t_ec = np.random.normal(ecEst,ecStdev,PM).clip(min=0)#+ec_frac\n",
    "    return t_ec #+ ec_frac"
   ]
  },
  {
   "cell_type": "code",
   "execution_count": 18,
   "metadata": {
    "collapsed": false
   },
   "outputs": [
    {
     "data": {
      "text/plain": [
       "{'Pile Burn': {'ec_f_cv': 0.45000000000000001,\n",
       "  'ec_f_est': 0.082000000000000003,\n",
       "  'ec_s_cv': 0.48999999999999999,\n",
       "  'ec_s_est': 0.029000000000000001,\n",
       "  'pct_f': 0.90000000000000002,\n",
       "  'pct_sm': 0.10000000000000001,\n",
       "  'tc_f_cv': 0.089999999999999997,\n",
       "  'tc_f_est': 0.57199999999999995,\n",
       "  'tc_s_cv': 0.01,\n",
       "  'tc_s_est': 0.56000000000000005},\n",
       " 'Prescribed': {'ec_f_cv': 0.58330000000000004,\n",
       "  'ec_f_est': 0.12670000000000001,\n",
       "  'ec_s_cv': 0.28999999999999998,\n",
       "  'ec_s_est': 0.034000000000000002,\n",
       "  'pct_f': 0.5,\n",
       "  'pct_sm': 0.5,\n",
       "  'tc_f_cv': 0.073300000000000004,\n",
       "  'tc_f_est': 0.63270000000000004,\n",
       "  'tc_s_cv': 0.080000000000000002,\n",
       "  'tc_s_est': 0.61599999999999999},\n",
       " 'Wildfire': {'ec_f_cv': 0.44669999999999999,\n",
       "  'ec_f_est': 0.096199999999999994,\n",
       "  'ec_s_cv': 0.33800000000000002,\n",
       "  'ec_s_est': 0.036700000000000003,\n",
       "  'pct_f': 0.29999999999999999,\n",
       "  'pct_sm': 0.69999999999999996,\n",
       "  'tc_f_cv': 0.086699999999999999,\n",
       "  'tc_f_est': 0.61019999999999996,\n",
       "  'tc_s_cv': 0.059999999999999998,\n",
       "  'tc_s_est': 0.623}}"
      ]
     },
     "execution_count": 18,
     "metadata": {},
     "output_type": "execute_result"
    }
   ],
   "source": [
    "ecPct"
   ]
  },
  {
   "cell_type": "code",
   "execution_count": 19,
   "metadata": {
    "collapsed": false
   },
   "outputs": [],
   "source": [
    "for k in ecPct.keys():\n",
    "    pm = pm2015.loc[k]['pm25']\n",
    "    ecPct[k]['t_pm'] = pm\n",
    "    #PM2.5 smoldering \n",
    "    pm_sm = ecPct[k]['pct_sm']*pm\n",
    "    ecPct[k]['pm_sm'] = pm_sm\n",
    "    #TC smoldering\n",
    "    tc_sm = ecPct[k]['tc_s_est']*pm_sm\n",
    "    ecPct[k]['tc_sm'] = tc_sm\n",
    "    #PM2.5 flaming\n",
    "    pm_f = ecPct[k]['pct_f']*pm\n",
    "    ecPct[k]['pm_f'] = pm_f\n",
    "    #TC flaming\n",
    "    tc_f = ecPct[k]['tc_f_est']*pm_f\n",
    "    ecPct[k]['tc_f'] = tc_f\n",
    "    res1k = []\n",
    "    for t in range(1000):\n",
    "        rnd = t\n",
    "        # Total Carbon in PM\n",
    "        tc_s = ecDist(ecPct[k]['tc_s_est'], ecPct[k]['tc_s_cv'], pm)\n",
    "        tc_f = ecDist(ecPct[k]['tc_f_est'], ecPct[k]['tc_f_cv'], pm)\n",
    "        #Elemental Carbon in Total Carbon\n",
    "        ec_s = ecDist(ecPct[k]['ec_s_est'], ecPct[k]['ec_s_cv'], pm)\n",
    "        ec_f = ecDist(ecPct[k]['ec_f_est'], ecPct[k]['ec_f_cv'], pm)\n",
    "        ec1tpm = (tc_s*ec_s) + (tc_f*ec_f)\n",
    "        ec_total_rnd = sum(ec1tpm)\n",
    "        ec_total_gwp = ec_total_rnd * bc_gwp.loc['carb_slcp']['gwp_20']\n",
    "        res1k.append([k,k+str(rnd),ec_total_rnd, ec_total_gwp])\n",
    "    ecPct[k]['ec_tdist'] = pd.DataFrame(res1k)\n",
    "    #ecPct[k]['ecSMDist'] = np.array([(ecDist(ecPct[k]['ec_s_est'], ecPct[k]['ec_s_cv'], pm)) for i in range(1000)])\n",
    "    #ecPct[k]['ecFDist'] = np.array([(ecDist(ecPct[k]['ec_f_est'], ecPct[k]['ec_f_cv'], pm)) for i in range(1000)])\n",
    "    #ecPct[k]['tECDist'] = ecPct[k]['ecSMDist']+ecPct[k]['ecFDist']\n",
    "    #ecPct[k]['df'] = pd.DataFrame(np.column_stack((ecPct[k]['tECDist'], [k]*len(ecPct[k]['tECDist']))))"
   ]
  },
  {
   "cell_type": "code",
   "execution_count": 20,
   "metadata": {
    "collapsed": false
   },
   "outputs": [
    {
     "data": {
      "text/plain": [
       "2151.9493632000003"
      ]
     },
     "execution_count": 20,
     "metadata": {},
     "output_type": "execute_result"
    }
   ],
   "source": [
    "ecPct['Prescribed']['tc_f']"
   ]
  },
  {
   "cell_type": "code",
   "execution_count": 21,
   "metadata": {
    "collapsed": false
   },
   "outputs": [
    {
     "data": {
      "text/plain": [
       "3507527.3600000003"
      ]
     },
     "execution_count": 21,
     "metadata": {},
     "output_type": "execute_result"
    }
   ],
   "source": [
    "(pm_sm*0.2*3200)+(pm_f*0.2*3200)"
   ]
  },
  {
   "cell_type": "code",
   "execution_count": 22,
   "metadata": {
    "collapsed": false
   },
   "outputs": [],
   "source": [
    "df=pd.concat([ecPct[i]['ec_tdist'] for i in ecPct.keys()])\n",
    "df.columns = ['source', 'sourcernd', 'mt_ec','co2e_ec']"
   ]
  },
  {
   "cell_type": "code",
   "execution_count": 23,
   "metadata": {
    "collapsed": false
   },
   "outputs": [
    {
     "name": "stderr",
     "output_type": "stream",
     "text": [
      "/Users/pete/src/fcat_biomass/lib/python2.7/site-packages/matplotlib/__init__.py:892: UserWarning: axes.color_cycle is deprecated and replaced with axes.prop_cycle; please use the latter.\n",
      "  warnings.warn(self.msg_depr % (key, alt_key))\n"
     ]
    },
    {
     "data": {
      "image/png": "[encoded data removed]",
      "text/plain": [
       "<matplotlib.figure.Figure at 0x1126ed390>"
      ]
     },
     "metadata": {},
     "output_type": "display_data"
    }
   ],
   "source": [
    "t=sns.FacetGrid(df,col='source', sharey=False)\n",
    "t.map(sns.boxplot, 'source','co2e_ec')\n",
    "t.set_ylabels('t $CO_2e$')\n",
    "[c.xaxis.set_visible(False) for c in t.axes[0]]\n",
    "sns.plt.subplots_adjust(top = 0.8)\n",
    "t.fig.suptitle('Black carbon emissions in CO2 equivalent units from burning in CA, 2015', fontsize= 15)\n",
    "t.fig.text(0.1, -0.08,'''Sources: CARB Criteria Pollutant Emissions Inventory(2015), Ward and Hardy (1989)''',\n",
    "      fontsize=10)\n",
    "for f in ['.png','.pdf']:\n",
    "    t.savefig('graphics/bc_prob_gwp{0}'.format(f))"
   ]
  },
  {
   "cell_type": "code",
   "execution_count": 24,
   "metadata": {
    "collapsed": false
   },
   "outputs": [
    {
     "data": {
      "text/plain": [
       "80.52000000000001"
      ]
     },
     "execution_count": 24,
     "metadata": {},
     "output_type": "execute_result"
    }
   ],
   "source": [
    "122*0.66"
   ]
  },
  {
   "cell_type": "code",
   "execution_count": 25,
   "metadata": {
    "collapsed": false
   },
   "outputs": [
    {
     "data": {
      "text/html": [
       "<div style=\"max-width:1500px;overflow:auto;\">\n",
       "<table border=\"1\" class=\"dataframe\">\n",
       "  <thead>\n",
       "    <tr style=\"text-align: right;\">\n",
       "      <th></th>\n",
       "      <th>Group ID/Name</th>\n",
       "      <th>Number of Piles</th>\n",
       "      <th>Pile Type</th>\n",
       "      <th>Pile Shape</th>\n",
       "      <th>W1 (ft)</th>\n",
       "      <th>H1 (ft)</th>\n",
       "      <th>L1 (ft)</th>\n",
       "      <th>W2 (ft)</th>\n",
       "      <th>H2 (ft)</th>\n",
       "      <th>L2 (ft)</th>\n",
       "      <th>...</th>\n",
       "      <th>Adjusted Volume (ft^3)</th>\n",
       "      <th>Pile Biomass (tons)</th>\n",
       "      <th>Consumed Fuel (tons)</th>\n",
       "      <th>PM (tons)</th>\n",
       "      <th>PM10 (tons)</th>\n",
       "      <th>PM2.5 (tons)</th>\n",
       "      <th>CO (tons)</th>\n",
       "      <th>CO2 (tons)</th>\n",
       "      <th>CH4 (tons)</th>\n",
       "      <th>NMHC (tons)</th>\n",
       "    </tr>\n",
       "  </thead>\n",
       "  <tbody>\n",
       "    <tr>\n",
       "      <th>PileGroup1</th>\n",
       "      <td>1</td>\n",
       "      <td>1</td>\n",
       "      <td>Half sphere</td>\n",
       "      <td>NaN</td>\n",
       "      <td>10</td>\n",
       "      <td>NaN</td>\n",
       "      <td>NaN</td>\n",
       "      <td>NaN</td>\n",
       "      <td>NaN</td>\n",
       "      <td>NaN</td>\n",
       "      <td>...</td>\n",
       "      <td>1007.169088</td>\n",
       "      <td>1.360178</td>\n",
       "      <td>1.224161</td>\n",
       "      <td>0.013405</td>\n",
       "      <td>0.009487</td>\n",
       "      <td>0.008263</td>\n",
       "      <td>0.046502</td>\n",
       "      <td>2.036643</td>\n",
       "      <td>0.003431</td>\n",
       "      <td>0.00277</td>\n",
       "    </tr>\n",
       "  </tbody>\n",
       "</table>\n",
       "<p>1 rows × 32 columns</p>\n",
       "</div>"
      ],
      "text/plain": [
       "            Group ID/Name  Number of Piles    Pile Type  Pile Shape  W1 (ft)  \\\n",
       "PileGroup1              1                1  Half sphere         NaN       10   \n",
       "\n",
       "            H1 (ft)  L1 (ft)  W2 (ft)  H2 (ft)  L2 (ft)     ...       \\\n",
       "PileGroup1      NaN      NaN      NaN      NaN      NaN     ...        \n",
       "\n",
       "            Adjusted Volume (ft^3)  Pile Biomass (tons)  Consumed Fuel (tons)  \\\n",
       "PileGroup1             1007.169088             1.360178              1.224161   \n",
       "\n",
       "            PM (tons)  PM10 (tons)  PM2.5 (tons)  CO (tons)  CO2 (tons)  \\\n",
       "PileGroup1   0.013405     0.009487      0.008263   0.046502    2.036643   \n",
       "\n",
       "            CH4 (tons)  NMHC (tons)  \n",
       "PileGroup1    0.003431      0.00277  \n",
       "\n",
       "[1 rows x 32 columns]"
      ]
     },
     "execution_count": 25,
     "metadata": {},
     "output_type": "execute_result"
    }
   ],
   "source": [
    "pd.read_csv('fera_pile_cemissions.csv', header=1)"
   ]
  },
  {
   "cell_type": "markdown",
   "metadata": {},
   "source": [
    "### Forested Lands and Wood Products Biodegradable Carbon Emissions & Sinks (MMTCO2)\n",
    "ARB (2007). Technical support document for Land Use, Land Use Change & Forestry - Biodegradable Carbon Emissions & Sinks. Table available as a pdf document at: http://www.arb.ca.gov/cc/inventory/archive/tables/net_co2_flux_2007-11-19.pdf"
   ]
  },
  {
   "cell_type": "code",
   "execution_count": 26,
   "metadata": {
    "collapsed": false
   },
   "outputs": [],
   "source": [
    "t=foo[foo['variable'].str.contains(\"co2e20\")].dropna()\n",
    "co2 = ut.gData('1GDdquzrCoq2cxVN2fbCpP4gwi2yrMnONNrWbfhZKZu4', 1636249481)\n",
    "co2.columns = co2.iloc[0]\n",
    "co2plot=pd.melt(co2.reindex(co2.index.drop(0)), id_vars = ['Year'])\n",
    "co2plot.columns = ['sc_cat','year','mmtco2e']\n",
    "co2plot.to_sql('arb_co2', sqdb['cx'], if_exists = 'replace')\n",
    "cdata = pd.read_sql('''select sc_cat, avg(mmtco2e) from arb_co2 where sc_cat in ('Forest and rangeland fires', 'Timber harvest slash')  group by sc_cat''', con = sqdb['cx'])"
   ]
  },
  {
   "cell_type": "code",
   "execution_count": 27,
   "metadata": {
    "collapsed": false
   },
   "outputs": [
    {
     "data": {
      "text/html": [
       "<div style=\"max-width:1500px;overflow:auto;\">\n",
       "<table border=\"1\" class=\"dataframe\">\n",
       "  <thead>\n",
       "    <tr style=\"text-align: right;\">\n",
       "      <th></th>\n",
       "      <th>Year</th>\n",
       "      <th>1990.0</th>\n",
       "      <th>1991.0</th>\n",
       "      <th>1992.0</th>\n",
       "      <th>1993.0</th>\n",
       "      <th>1994.0</th>\n",
       "      <th>1995.0</th>\n",
       "      <th>1996.0</th>\n",
       "      <th>1997.0</th>\n",
       "      <th>1998.0</th>\n",
       "      <th>1999.0</th>\n",
       "      <th>2000.0</th>\n",
       "      <th>2001.0</th>\n",
       "      <th>2002.0</th>\n",
       "      <th>2003.0</th>\n",
       "      <th>2004.0</th>\n",
       "    </tr>\n",
       "  </thead>\n",
       "  <tbody>\n",
       "    <tr>\n",
       "      <th>0</th>\n",
       "      <td>Year</td>\n",
       "      <td>1990.000</td>\n",
       "      <td>1991.000</td>\n",
       "      <td>1992.000</td>\n",
       "      <td>1993.000</td>\n",
       "      <td>1994.000</td>\n",
       "      <td>1995.000</td>\n",
       "      <td>1996.000</td>\n",
       "      <td>1997.000</td>\n",
       "      <td>1998.000</td>\n",
       "      <td>1999.000</td>\n",
       "      <td>2000.000</td>\n",
       "      <td>2001.000</td>\n",
       "      <td>2002.000</td>\n",
       "      <td>2003.000</td>\n",
       "      <td>2004.000</td>\n",
       "    </tr>\n",
       "    <tr>\n",
       "      <th>1</th>\n",
       "      <td>Forest and rangeland fires</td>\n",
       "      <td>2.032</td>\n",
       "      <td>2.028</td>\n",
       "      <td>2.025</td>\n",
       "      <td>2.022</td>\n",
       "      <td>2.018</td>\n",
       "      <td>2.018</td>\n",
       "      <td>2.018</td>\n",
       "      <td>2.018</td>\n",
       "      <td>2.018</td>\n",
       "      <td>2.018</td>\n",
       "      <td>2.018</td>\n",
       "      <td>2.017</td>\n",
       "      <td>2.015</td>\n",
       "      <td>2.014</td>\n",
       "      <td>2.012</td>\n",
       "    </tr>\n",
       "    <tr>\n",
       "      <th>2</th>\n",
       "      <td>Other disturbances</td>\n",
       "      <td>1.208</td>\n",
       "      <td>1.206</td>\n",
       "      <td>1.204</td>\n",
       "      <td>1.202</td>\n",
       "      <td>1.200</td>\n",
       "      <td>1.200</td>\n",
       "      <td>1.200</td>\n",
       "      <td>1.200</td>\n",
       "      <td>1.200</td>\n",
       "      <td>1.200</td>\n",
       "      <td>1.200</td>\n",
       "      <td>1.199</td>\n",
       "      <td>1.198</td>\n",
       "      <td>1.197</td>\n",
       "      <td>1.196</td>\n",
       "    </tr>\n",
       "    <tr>\n",
       "      <th>3</th>\n",
       "      <td>Development of forest or range lands (Landuse ...</td>\n",
       "      <td>0.021</td>\n",
       "      <td>0.021</td>\n",
       "      <td>0.021</td>\n",
       "      <td>0.021</td>\n",
       "      <td>0.021</td>\n",
       "      <td>0.021</td>\n",
       "      <td>0.021</td>\n",
       "      <td>0.021</td>\n",
       "      <td>0.021</td>\n",
       "      <td>0.021</td>\n",
       "      <td>0.021</td>\n",
       "      <td>0.021</td>\n",
       "      <td>0.021</td>\n",
       "      <td>0.021</td>\n",
       "      <td>0.021</td>\n",
       "    </tr>\n",
       "    <tr>\n",
       "      <th>4</th>\n",
       "      <td>Timber harvest slash</td>\n",
       "      <td>0.156</td>\n",
       "      <td>0.156</td>\n",
       "      <td>0.156</td>\n",
       "      <td>0.156</td>\n",
       "      <td>0.155</td>\n",
       "      <td>0.155</td>\n",
       "      <td>0.155</td>\n",
       "      <td>0.155</td>\n",
       "      <td>0.155</td>\n",
       "      <td>0.155</td>\n",
       "      <td>0.155</td>\n",
       "      <td>0.155</td>\n",
       "      <td>0.155</td>\n",
       "      <td>0.155</td>\n",
       "      <td>0.155</td>\n",
       "    </tr>\n",
       "  </tbody>\n",
       "</table>\n",
       "</div>"
      ],
      "text/plain": [
       "0                                               Year    1990.0    1991.0  \\\n",
       "0                                               Year  1990.000  1991.000   \n",
       "1                         Forest and rangeland fires     2.032     2.028   \n",
       "2                                 Other disturbances     1.208     1.206   \n",
       "3  Development of forest or range lands (Landuse ...     0.021     0.021   \n",
       "4                               Timber harvest slash     0.156     0.156   \n",
       "\n",
       "0    1992.0    1993.0    1994.0    1995.0    1996.0    1997.0    1998.0  \\\n",
       "0  1992.000  1993.000  1994.000  1995.000  1996.000  1997.000  1998.000   \n",
       "1     2.025     2.022     2.018     2.018     2.018     2.018     2.018   \n",
       "2     1.204     1.202     1.200     1.200     1.200     1.200     1.200   \n",
       "3     0.021     0.021     0.021     0.021     0.021     0.021     0.021   \n",
       "4     0.156     0.156     0.155     0.155     0.155     0.155     0.155   \n",
       "\n",
       "0    1999.0    2000.0    2001.0    2002.0    2003.0    2004.0  \n",
       "0  1999.000  2000.000  2001.000  2002.000  2003.000  2004.000  \n",
       "1     2.018     2.018     2.017     2.015     2.014     2.012  \n",
       "2     1.200     1.200     1.199     1.198     1.197     1.196  \n",
       "3     0.021     0.021     0.021     0.021     0.021     0.021  \n",
       "4     0.155     0.155     0.155     0.155     0.155     0.155  "
      ]
     },
     "execution_count": 27,
     "metadata": {},
     "output_type": "execute_result"
    }
   ],
   "source": [
    "co2"
   ]
  },
  {
   "cell_type": "code",
   "execution_count": 28,
   "metadata": {
    "collapsed": false
   },
   "outputs": [
    {
     "data": {
      "text/html": [
       "<div style=\"max-width:1500px;overflow:auto;\">\n",
       "<table border=\"1\" class=\"dataframe\">\n",
       "  <thead>\n",
       "    <tr style=\"text-align: right;\">\n",
       "      <th></th>\n",
       "      <th>sc_cat</th>\n",
       "      <th>avg(mmtco2e)</th>\n",
       "    </tr>\n",
       "  </thead>\n",
       "  <tbody>\n",
       "    <tr>\n",
       "      <th>0</th>\n",
       "      <td>Forest and rangeland fires</td>\n",
       "      <td>2.019400</td>\n",
       "    </tr>\n",
       "    <tr>\n",
       "      <th>1</th>\n",
       "      <td>Timber harvest slash</td>\n",
       "      <td>0.155267</td>\n",
       "    </tr>\n",
       "  </tbody>\n",
       "</table>\n",
       "</div>"
      ],
      "text/plain": [
       "                       sc_cat  avg(mmtco2e)\n",
       "0  Forest and rangeland fires      2.019400\n",
       "1        Timber harvest slash      0.155267"
      ]
     },
     "execution_count": 28,
     "metadata": {},
     "output_type": "execute_result"
    }
   ],
   "source": [
    "cdata\n",
    "#Output GitHub Markdown using the following:\n",
    "#print tabulate(cdata, headers = ['Source Category','MMTCO2'],tablefmt=\"pipe\")"
   ]
  },
  {
   "cell_type": "markdown",
   "metadata": {},
   "source": [
    "### GHG equivalent emissions from management residuals\n",
    "To arrive at an estimate of total annual emissions from buring forest management residuals in CO2 equivalent terms from published CARB estimates we can combine the CO2 emissions reported for 2004 in the LULUC Biodegradable Carbon Emissions and Sinks with black carbon emissions extrapolated from the CARB Criteria Air Pollutant Emissions inventory estimates. The dime discreppancy between the 2004 and 2015 is acknowledged as an irreconcilable source of uncertainty in this estimation among others. This does however reflect that a baseline of substantial emissions from forest management residuals has been reported in CARB emissions inventories and should be recognized as a baseline condition.  "
   ]
  },
  {
   "cell_type": "code",
   "execution_count": 29,
   "metadata": {
    "collapsed": false
   },
   "outputs": [
    {
     "name": "stderr",
     "output_type": "stream",
     "text": [
      "/Users/pete/src/fcat_biomass/lib/python2.7/site-packages/numpy/core/_methods.py:59: RuntimeWarning: Mean of empty slice.\n",
      "  warnings.warn(\"Mean of empty slice.\", RuntimeWarning)\n",
      "-c:6: UserWarning: The spaces in these column names will not be changed. In pandas versions < 0.14, spaces were converted to underscores.\n"
     ]
    }
   ],
   "source": [
    "t=foo[foo['variable'].str.contains(\"co2e20\")].dropna()\n",
    "tE = pd.DataFrame([cdata['avg(mmtco2e)'][1]*1.10231,\n",
    "              avg(t[t['type'].str.contains('piles')]['value'])/1000000,\n",
    "             (cdata['avg(mmtco2e)'][1]*1.10231)+(avg(t[t['type'].str.contains('piles')]['value'])/1000000)],columns = ['Mt CO2e'])\n",
    "tE['Source']=['CO2 pile buring', 'CO2e BC pile burning', 'Total Mt CO2e']\n",
    "tE.to_sql('pile_em', sqdb['cx'], if_exists = 'replace')"
   ]
  },
  {
   "cell_type": "code",
   "execution_count": 30,
   "metadata": {
    "collapsed": false
   },
   "outputs": [
    {
     "data": {
      "text/html": [
       "<div style=\"max-width:1500px;overflow:auto;\">\n",
       "<table border=\"1\" class=\"dataframe\">\n",
       "  <thead>\n",
       "    <tr style=\"text-align: right;\">\n",
       "      <th></th>\n",
       "      <th>Mt CO2e</th>\n",
       "      <th>Source</th>\n",
       "    </tr>\n",
       "  </thead>\n",
       "  <tbody>\n",
       "    <tr>\n",
       "      <th>0</th>\n",
       "      <td>0.171152</td>\n",
       "      <td>CO2 pile buring</td>\n",
       "    </tr>\n",
       "    <tr>\n",
       "      <th>1</th>\n",
       "      <td>NaN</td>\n",
       "      <td>CO2e BC pile burning</td>\n",
       "    </tr>\n",
       "    <tr>\n",
       "      <th>2</th>\n",
       "      <td>NaN</td>\n",
       "      <td>Total Mt CO2e</td>\n",
       "    </tr>\n",
       "  </tbody>\n",
       "</table>\n",
       "</div>"
      ],
      "text/plain": [
       "    Mt CO2e                Source\n",
       "0  0.171152       CO2 pile buring\n",
       "1       NaN  CO2e BC pile burning\n",
       "2       NaN         Total Mt CO2e"
      ]
     },
     "execution_count": 30,
     "metadata": {},
     "output_type": "execute_result"
    }
   ],
   "source": [
    "#print tabulate(tE, headers = tE.columns.tolist(), tablefmt ='pipe')\n",
    "tE"
   ]
  },
  {
   "cell_type": "markdown",
   "metadata": {},
   "source": [
    "### Timber Products Output\n",
    "The TPO estimates logging redisues produced from commercial timber harvesting operations."
   ]
  },
  {
   "cell_type": "code",
   "execution_count": 14,
   "metadata": {
    "collapsed": false
   },
   "outputs": [
    {
     "data": {
      "text/html": [
       "<div style=\"max-width:1500px;overflow:auto;\">\n",
       "<table border=\"1\" class=\"dataframe\">\n",
       "  <thead>\n",
       "    <tr style=\"text-align: right;\">\n",
       "      <th></th>\n",
       "      <th>ownership</th>\n",
       "      <th>roundwoodproducts</th>\n",
       "      <th>loggingresidues</th>\n",
       "      <th>year</th>\n",
       "    </tr>\n",
       "  </thead>\n",
       "  <tbody>\n",
       "    <tr>\n",
       "      <th>0</th>\n",
       "      <td>National Forest</td>\n",
       "      <td>72.4</td>\n",
       "      <td>20.7</td>\n",
       "      <td>2012</td>\n",
       "    </tr>\n",
       "    <tr>\n",
       "      <th>1</th>\n",
       "      <td>Other Public</td>\n",
       "      <td>16.2</td>\n",
       "      <td>3.4</td>\n",
       "      <td>2012</td>\n",
       "    </tr>\n",
       "    <tr>\n",
       "      <th>2</th>\n",
       "      <td>Forest Industry</td>\n",
       "      <td>328.9</td>\n",
       "      <td>72.4</td>\n",
       "      <td>2012</td>\n",
       "    </tr>\n",
       "    <tr>\n",
       "      <th>3</th>\n",
       "      <td>Other Private</td>\n",
       "      <td>53.0</td>\n",
       "      <td>11.2</td>\n",
       "      <td>2012</td>\n",
       "    </tr>\n",
       "    <tr>\n",
       "      <th>4</th>\n",
       "      <td>National Forest</td>\n",
       "      <td>52.8</td>\n",
       "      <td>16.3</td>\n",
       "      <td>2006</td>\n",
       "    </tr>\n",
       "    <tr>\n",
       "      <th>5</th>\n",
       "      <td>Other Public</td>\n",
       "      <td>1.1</td>\n",
       "      <td>0.3</td>\n",
       "      <td>2006</td>\n",
       "    </tr>\n",
       "    <tr>\n",
       "      <th>6</th>\n",
       "      <td>Forest Industry</td>\n",
       "      <td>274.3</td>\n",
       "      <td>59.6</td>\n",
       "      <td>2006</td>\n",
       "    </tr>\n",
       "    <tr>\n",
       "      <th>7</th>\n",
       "      <td>Other Private</td>\n",
       "      <td>139.2</td>\n",
       "      <td>33.2</td>\n",
       "      <td>2006</td>\n",
       "    </tr>\n",
       "    <tr>\n",
       "      <th>8</th>\n",
       "      <td>National Forest</td>\n",
       "      <td>90.8</td>\n",
       "      <td>22.6</td>\n",
       "      <td>2000</td>\n",
       "    </tr>\n",
       "    <tr>\n",
       "      <th>9</th>\n",
       "      <td>Other Public</td>\n",
       "      <td>5.2</td>\n",
       "      <td>1.6</td>\n",
       "      <td>2000</td>\n",
       "    </tr>\n",
       "    <tr>\n",
       "      <th>10</th>\n",
       "      <td>Forest Industry</td>\n",
       "      <td>372.5</td>\n",
       "      <td>70.6</td>\n",
       "      <td>2000</td>\n",
       "    </tr>\n",
       "    <tr>\n",
       "      <th>11</th>\n",
       "      <td>Other Private</td>\n",
       "      <td>159.4</td>\n",
       "      <td>49.1</td>\n",
       "      <td>2000</td>\n",
       "    </tr>\n",
       "    <tr>\n",
       "      <th>12</th>\n",
       "      <td>National Forest</td>\n",
       "      <td>132.1</td>\n",
       "      <td>11.2</td>\n",
       "      <td>1994</td>\n",
       "    </tr>\n",
       "    <tr>\n",
       "      <th>13</th>\n",
       "      <td>Other Public</td>\n",
       "      <td>24.7</td>\n",
       "      <td>4.3</td>\n",
       "      <td>1994</td>\n",
       "    </tr>\n",
       "    <tr>\n",
       "      <th>14</th>\n",
       "      <td>Forest Industry</td>\n",
       "      <td>396.1</td>\n",
       "      <td>63.1</td>\n",
       "      <td>1994</td>\n",
       "    </tr>\n",
       "    <tr>\n",
       "      <th>15</th>\n",
       "      <td>Other Private</td>\n",
       "      <td>174.7</td>\n",
       "      <td>22.3</td>\n",
       "      <td>1994</td>\n",
       "    </tr>\n",
       "  </tbody>\n",
       "</table>\n",
       "</div>"
      ],
      "text/plain": [
       "          ownership  roundwoodproducts  loggingresidues  year\n",
       "0   National Forest               72.4             20.7  2012\n",
       "1      Other Public               16.2              3.4  2012\n",
       "2   Forest Industry              328.9             72.4  2012\n",
       "3     Other Private               53.0             11.2  2012\n",
       "4   National Forest               52.8             16.3  2006\n",
       "5      Other Public                1.1              0.3  2006\n",
       "6   Forest Industry              274.3             59.6  2006\n",
       "7     Other Private              139.2             33.2  2006\n",
       "8   National Forest               90.8             22.6  2000\n",
       "9      Other Public                5.2              1.6  2000\n",
       "10  Forest Industry              372.5             70.6  2000\n",
       "11    Other Private              159.4             49.1  2000\n",
       "12  National Forest              132.1             11.2  1994\n",
       "13     Other Public               24.7              4.3  1994\n",
       "14  Forest Industry              396.1             63.1  1994\n",
       "15    Other Private              174.7             22.3  1994"
      ]
     },
     "execution_count": 14,
     "metadata": {},
     "output_type": "execute_result"
    }
   ],
   "source": [
    "tpoData = ut.gData('1GDdquzrCoq2cxVN2fbCpP4gwi2yrMnONNrWbfhZKZu4', 872275354, hrow=1)\n",
    "tpoData"
   ]
  },
  {
   "cell_type": "markdown",
   "metadata": {},
   "source": [
    "### Biomass residuals from non-commercial management activities\n",
    "Data from TPO does not account for forest management activities that do not result in commercial products (timber sales, biomass sales). To estimate the amount of residual material produced from non commercial management activities we use data from the US Forest Service (FACTS) and from CalFires timber harvest plan data. \n",
    "\n",
    "#### Forest Service ACtivity Tracking System (FACTS)\n",
    "Data from TPO does not account for forest management activities that do not result in commercial products (timber sales, biomass sales). We use a range of 10-35 BDT/acre to convert acres reported in FACTS to volume."
   ]
  },
  {
   "cell_type": "code",
   "execution_count": 12,
   "metadata": {
    "collapsed": false
   },
   "outputs": [],
   "source": [
    "pd.read_excel('FACTS_Tabular_092115.xlsx', sheetname = 'CategoryCrosswalk').to_sql('facts_cat', sqdb['cx'], if_exists = 'replace')"
   ]
  },
  {
   "cell_type": "code",
   "execution_count": 13,
   "metadata": {
    "collapsed": false
   },
   "outputs": [],
   "source": [
    "pd.read_csv('pd/facts_notimber.csv').to_sql('facts_notimber', sqdb['cx'], if_exists='replace')"
   ]
  },
  {
   "cell_type": "markdown",
   "metadata": {},
   "source": [
    "#### Querying FACTS\n",
    "The USFS [reports](http://data.fs.usda.gov/geodata/edw/datasets.php?dsetParent=Activities) Hazardous Fuels Treatment (HFT) activities as well as Timber Sales (TS) derived from the FACTS database. We use these two datasets to estimate the number of acres treated that did not produce commercial material (sawlogs or biomass) and where burning was not used. The first step is to elimina all treatments in the HFT dataset that included timber sales. We accomplish this by eliminating all rows in the HFT dataset that have identical `FACTS_ID` fields in the TS dataset. We further filter the HFT dataset by removing any planned but not executed treatements (`nbr_units1 >0` below -- `nbr_units1` references `NBR_UNITS_ACCOMPLISHED` in the USFS dataset, see metadata for HFT [here](http://data.fs.usda.gov/geodata/edw/edw_resources/meta/S_USA.Activity_HazFuelTrt_PL.xml)), and use text matching in the 'ACTIVITY' and 'METHOD' fields to remove any rows that contain reference to 'burning' or 'fire'. Finally, we remove all rows that that reference 'Biomass' in the method category as it is assumed that this means material was removed for bioenergy."
   ]
  },
  {
   "cell_type": "code",
   "execution_count": 14,
   "metadata": {
    "collapsed": false
   },
   "outputs": [],
   "source": [
    "usfs_acres = pd.read_sql('''select\n",
    "                                sum(nbr_units1) acres,\n",
    "                                method,\n",
    "                                strftime('%Y',date_compl) year,\n",
    "                                cat.\"ACTIVITY\" activity,\n",
    "                                cat.\"TENTATIVE_CATEGORY\" r5_cat\n",
    "                            from facts_notimber n \n",
    "                                join facts_cat cat\n",
    "                                    on (n.activity = cat.\"ACTIVITY\") \n",
    "                            where date_compl is not null\n",
    "                                and nbr_units1 > 0\n",
    "                                and cat.\"TENTATIVE_CATEGORY\" != 'Burning'\n",
    "                                and cat.\"ACTIVITY\" not like '%ire%'\n",
    "                                and method not like '%Burn%'\n",
    "                                and method != 'Biomass'\n",
    "                            group by cat.\"ACTIVITY\",\n",
    "                                year,\n",
    "                                method,\n",
    "                                cat.\"TENTATIVE_CATEGORY\"\n",
    "                            order by year;''', con = sqdb['cx'])"
   ]
  },
  {
   "cell_type": "markdown",
   "metadata": {},
   "source": [
    "#### Converting acres to cubic feet\n",
    "FACTS reports in acres. To estimate the production of biomass from acres treated we use a range of 10-35 BDT/acre. We assume that actual biomass residuals per acre are normally distributed with a mean of 22.5 and a standard deviation of (35-10)/4 = 6.25 "
   ]
  },
  {
   "cell_type": "code",
   "execution_count": 15,
   "metadata": {
    "collapsed": false
   },
   "outputs": [],
   "source": [
    "def sumBDT(ac, maxbdt = 35, minbdt = 10):\n",
    "    av = (maxbdt + minbdt)/2\n",
    "    stdev = (float(maxbdt) - float(minbdt))/4 \n",
    "    d_frac = (ac-np.floor(ac))*np.random.normal(av, stdev, 1).clip(min=0)[0]\n",
    "    t_bdt = np.sum(np.random.normal(av,stdev,np.floor(ac)).clip(min=0))\n",
    "    return d_frac+t_bdt"
   ]
  },
  {
   "cell_type": "code",
   "execution_count": 16,
   "metadata": {
    "collapsed": false
   },
   "outputs": [],
   "source": [
    "usfs_acres['bdt'] = usfs_acres['acres'].apply(sumBDT)\n",
    "usfs_an_bdt = usfs_acres.groupby(['year']).sum()"
   ]
  },
  {
   "cell_type": "markdown",
   "metadata": {},
   "source": [
    "#### Weighted average wood density\n",
    "Average wood density weighted by harvested species percent. Derived from McIver and Morgan,  [Table 4](https://docs.google.com/spreadsheets/d/138FWlGeW57MKdcz2UkWxtWV4o50SZO8sduB1R6JOFp8/edit#gid=393414465)"
   ]
  },
  {
   "cell_type": "code",
   "execution_count": 17,
   "metadata": {
    "collapsed": false
   },
   "outputs": [],
   "source": [
    "wood_dens = ut.gData('138FWlGeW57MKdcz2UkWxtWV4o50SZO8sduB1R6JOFp8', 1297253755)\n",
    "wavg_dens =sum(wood_dens.pct/100 * wood_dens.density_lbscuft)"
   ]
  },
  {
   "cell_type": "markdown",
   "metadata": {},
   "source": [
    "### Annual unutilized management residuals\n",
    "- [x] Public lands non-commercial management residuals \n",
    "- [ ] Private land non-commercial management residuals\n",
    "- [x] Public lands logging residuals\n",
    "- [x] Private lands logging residuals"
   ]
  },
  {
   "cell_type": "code",
   "execution_count": 60,
   "metadata": {
    "collapsed": false
   },
   "outputs": [],
   "source": [
    "cat_codes = {'nf_ncmr': 'Unburned, non-commercial management residuals from National Forest lands',\n",
    "             'nf_lr': 'Logging residuals generated from timber sales on National Forest lands',\n",
    "             'opriv_lr': 'Logging residuals generated from timber sales on non-industrial private forest lands',\n",
    "             'fi_lr': 'Logging residuals generated from timber sales on industrial private lands',\n",
    "             'opub_lr': 'Logging residuals generated from timber sales on industrial private lands'}"
   ]
  },
  {
   "cell_type": "code",
   "execution_count": 48,
   "metadata": {
    "collapsed": false
   },
   "outputs": [
    {
     "data": {
      "text/html": [
       "<div style=\"max-width:1500px;overflow:auto;\">\n",
       "<table border=\"1\" class=\"dataframe\">\n",
       "  <thead>\n",
       "    <tr style=\"text-align: right;\">\n",
       "      <th></th>\n",
       "      <th>nf_ncmr</th>\n",
       "      <th>nf_lr</th>\n",
       "      <th>opriv_lr</th>\n",
       "      <th>fi_lr</th>\n",
       "      <th>opub_lr</th>\n",
       "    </tr>\n",
       "  </thead>\n",
       "  <tbody>\n",
       "    <tr>\n",
       "      <th>count</th>\n",
       "      <td>11.000000</td>\n",
       "      <td>4.00000</td>\n",
       "      <td>4.000000</td>\n",
       "      <td>4.000000</td>\n",
       "      <td>4.000000</td>\n",
       "    </tr>\n",
       "    <tr>\n",
       "      <th>mean</th>\n",
       "      <td>12.019440</td>\n",
       "      <td>17.70000</td>\n",
       "      <td>28.950000</td>\n",
       "      <td>66.425000</td>\n",
       "      <td>2.400000</td>\n",
       "    </tr>\n",
       "    <tr>\n",
       "      <th>std</th>\n",
       "      <td>4.689480</td>\n",
       "      <td>5.07346</td>\n",
       "      <td>16.159311</td>\n",
       "      <td>6.076389</td>\n",
       "      <td>1.794436</td>\n",
       "    </tr>\n",
       "    <tr>\n",
       "      <th>min</th>\n",
       "      <td>2.374210</td>\n",
       "      <td>11.20000</td>\n",
       "      <td>11.200000</td>\n",
       "      <td>59.600000</td>\n",
       "      <td>0.300000</td>\n",
       "    </tr>\n",
       "    <tr>\n",
       "      <th>25%</th>\n",
       "      <td>8.924072</td>\n",
       "      <td>15.02500</td>\n",
       "      <td>19.525000</td>\n",
       "      <td>62.225000</td>\n",
       "      <td>1.275000</td>\n",
       "    </tr>\n",
       "    <tr>\n",
       "      <th>50%</th>\n",
       "      <td>13.355718</td>\n",
       "      <td>18.50000</td>\n",
       "      <td>27.750000</td>\n",
       "      <td>66.850000</td>\n",
       "      <td>2.500000</td>\n",
       "    </tr>\n",
       "    <tr>\n",
       "      <th>75%</th>\n",
       "      <td>14.534933</td>\n",
       "      <td>21.17500</td>\n",
       "      <td>37.175000</td>\n",
       "      <td>71.050000</td>\n",
       "      <td>3.625000</td>\n",
       "    </tr>\n",
       "    <tr>\n",
       "      <th>max</th>\n",
       "      <td>17.853204</td>\n",
       "      <td>22.60000</td>\n",
       "      <td>49.100000</td>\n",
       "      <td>72.400000</td>\n",
       "      <td>4.300000</td>\n",
       "    </tr>\n",
       "  </tbody>\n",
       "</table>\n",
       "</div>"
      ],
      "text/plain": [
       "         nf_ncmr     nf_lr   opriv_lr      fi_lr   opub_lr\n",
       "count  11.000000   4.00000   4.000000   4.000000  4.000000\n",
       "mean   12.019440  17.70000  28.950000  66.425000  2.400000\n",
       "std     4.689480   5.07346  16.159311   6.076389  1.794436\n",
       "min     2.374210  11.20000  11.200000  59.600000  0.300000\n",
       "25%     8.924072  15.02500  19.525000  62.225000  1.275000\n",
       "50%    13.355718  18.50000  27.750000  66.850000  2.500000\n",
       "75%    14.534933  21.17500  37.175000  71.050000  3.625000\n",
       "max    17.853204  22.60000  49.100000  72.400000  4.300000"
      ]
     },
     "execution_count": 48,
     "metadata": {},
     "output_type": "execute_result"
    }
   ],
   "source": [
    "usfs_an_bdt['cuft']= usfs_an_bdt.bdt *wavg_dens\n",
    "resid_stats=pd.DataFrame((usfs_an_bdt.iloc[6:,2]/1000000).describe())\n",
    "resid_stats.columns = ['nf_ncmr']\n",
    "resid_stats['nf_lr']=tpoData[tpoData.ownership.str.contains('National Forest')]['loggingresidues'].describe()\n",
    "resid_stats['opriv_lr']=tpoData[tpoData.ownership.str.contains('Other Private')]['loggingresidues'].describe()\n",
    "resid_stats['fi_lr']=tpoData[tpoData.ownership.str.contains('Forest Industry')]['loggingresidues'].describe()\n",
    "resid_stats['opub_lr']=tpoData[tpoData.ownership.str.contains('Other Public')]['loggingresidues'].describe()\n",
    "resid_stats"
   ]
  },
  {
   "cell_type": "code",
   "execution_count": 63,
   "metadata": {
    "collapsed": false
   },
   "outputs": [
    {
     "name": "stdout",
     "output_type": "stream",
     "text": [
      "|       |   nf_ncmr |    nf_lr |   opriv_lr |    fi_lr |   opub_lr |\n",
      "|:------|----------:|---------:|-----------:|---------:|----------:|\n",
      "| count |  11       |  4       |     4      |  4       |   4       |\n",
      "| mean  |  12.0194  | 17.7     |    28.95   | 66.425   |   2.4     |\n",
      "| std   |   4.68948 |  5.07346 |    16.1593 |  6.07639 |   1.79444 |\n",
      "| min   |   2.37421 | 11.2     |    11.2    | 59.6     |   0.3     |\n",
      "| 25%   |   8.92407 | 15.025   |    19.525  | 62.225   |   1.275   |\n",
      "| 50%   |  13.3557  | 18.5     |    27.75   | 66.85    |   2.5     |\n",
      "| 75%   |  14.5349  | 21.175   |    37.175  | 71.05    |   3.625   |\n",
      "| max   |  17.8532  | 22.6     |    49.1    | 72.4     |   4.3     |\n"
     ]
    }
   ],
   "source": [
    "print tabulate(resid_stats, headers = resid_stats.columns.tolist(), tablefmt ='pipe')"
   ]
  },
  {
   "cell_type": "code",
   "execution_count": 120,
   "metadata": {
    "collapsed": false
   },
   "outputs": [],
   "source": [
    "import os"
   ]
  },
  {
   "cell_type": "code",
   "execution_count": 133,
   "metadata": {
    "collapsed": false
   },
   "outputs": [
    {
     "data": {
      "text/plain": [
       "['ignition_requests',\n",
       " 'system_counties',\n",
       " 'current_burns',\n",
       " 'district_smp_comments',\n",
       " 'system_air_districts',\n",
       " 'cover_types',\n",
       " 'smp_smoke_sensitive_areas',\n",
       " 'smp_contact_methods',\n",
       " 'smp_landowner_information',\n",
       " 'smp_misc_comments',\n",
       " 'current_burns_status',\n",
       " 'ignitions',\n",
       " 'smp_land_manager_information',\n",
       " 'smp_pile_units',\n",
       " 'system_air_basins',\n",
       " 'smp_smoke_mitigation',\n",
       " 'smp_broadcast_units',\n",
       " 'smp_alternatives_to_burning']"
      ]
     },
     "execution_count": 133,
     "metadata": {},
     "output_type": "execute_result"
    }
   ],
   "source": [
    "[os.path.splitext(i)[0] for i in os.listdir('lf/') if os.path.splitext(i)[1] =='.csv']"
   ]
  },
  {
   "cell_type": "code",
   "execution_count": 9,
   "metadata": {
    "collapsed": false
   },
   "outputs": [],
   "source": [
    "ureg = UnitRegistry()\n",
    "ureg.define('cubic foot =  cubic_centimeter/ 3.53147e-5 = cubic_foot' )\n",
    "ureg.define('million cubic foot =  cubic_foot*1000000 = MMCF' )\n",
    "ureg.define('board foot sawlog = cubic_foot / 5.44 = BF_saw')\n",
    "ureg.define('board foot veneer = cubic_foot / 5.0 = BF_vo')\n",
    "ureg.define('board foot bioenergy = cubic_foot / 1.0 = BF_bio')\n",
    "ureg.define('bone-dry unit = cubic_foot * 96 = BDU')\n"
   ]
  }
 ],
 "metadata": {
  "kernelspec": {
   "display_name": "Python 2",
   "language": "python",
   "name": "python2"
  },
  "language_info": {
   "codemirror_mode": {
    "name": "ipython",
    "version": 2
   },
   "file_extension": ".py",
   "mimetype": "text/x-python",
   "name": "python",
   "nbconvert_exporter": "python",
   "pygments_lexer": "ipython2",
   "version": "2.7.11"
  }
 },
 "nbformat": 4,
 "nbformat_minor": 0
}
