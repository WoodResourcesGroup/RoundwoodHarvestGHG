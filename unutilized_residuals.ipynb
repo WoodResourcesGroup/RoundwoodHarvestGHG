{
 "metadata": {
  "name": "",
  "signature": "sha256:1a7a4d34b14ff1be72bf9507bc8bb1faeac0032bb3f8d570905c84cdbe878a64"
 },
 "nbformat": 3,
 "nbformat_minor": 0,
 "worksheets": [
  {
   "cells": [
    {
     "cell_type": "code",
     "collapsed": false,
     "input": [
      "import utils as ut\n",
      "from pint import UnitRegistry\n",
      "import pandas as pd\n",
      "from ggplot import *\n",
      "import seaborn as sns\n",
      "from tabulate import tabulate\n",
      "from numpy import average as avg\n",
      "import numpy as np"
     ],
     "language": "python",
     "metadata": {},
     "outputs": [
      {
       "output_type": "stream",
       "stream": "stderr",
       "text": [
        "/Users/pete/src/fcat_biomass/lib/python2.7/site-packages/matplotlib/__init__.py:872: UserWarning: axes.color_cycle is deprecated and replaced with axes.prop_cycle; please use the latter.\n",
        "  warnings.warn(self.msg_depr % (key, alt_key))\n"
       ]
      }
     ],
     "prompt_number": 1
    },
    {
     "cell_type": "markdown",
     "metadata": {},
     "source": [
      "Some usefull functions and housekeeping:"
     ]
    },
    {
     "cell_type": "code",
     "collapsed": false,
     "input": [
      "sqdb = ut.sqlitedb('fcat_biomass')"
     ],
     "language": "python",
     "metadata": {},
     "outputs": [],
     "prompt_number": 2
    },
    {
     "cell_type": "code",
     "collapsed": false,
     "input": [
      "def distFromRange(total, maxr = 32, minr = 2):\n",
      "    av = (maxr + minr)/2\n",
      "    stdev = (float(maxr) - float(minr))/4 \n",
      "    d_frac = (total-np.floor(total))*np.random.normal(av, stdev, 1).clip(min=0)[0]\n",
      "    t_bdt = np.random.normal(av,stdev,np.floor(total)).clip(min=0)\n",
      "    return np.append(t_bdt, d_frac)"
     ],
     "language": "python",
     "metadata": {},
     "outputs": [],
     "prompt_number": 22
    },
    {
     "cell_type": "code",
     "collapsed": false,
     "input": [
      "def sumFromDist(total, maxr = 0.32, minr = 0.02):\n",
      "    av = (maxr + minr)/2\n",
      "    stdev = (float(maxr) - float(minr))/4 \n",
      "    d_frac = (total-np.floor(total))*np.random.normal(av, stdev, 1).clip(min=0)[0]\n",
      "    t_bdt = np.sum(np.random.normal(av,stdev,np.floor(total)).clip(min=0))\n",
      "    return (d_frac+t_bdt)"
     ],
     "language": "python",
     "metadata": {},
     "outputs": [],
     "prompt_number": 17
    },
    {
     "cell_type": "markdown",
     "metadata": {},
     "source": [
      "### Black Carbon from pile burning\n",
      "The  CARB criteria pollutant emissions inventory reports Particualte Matter (PM 2.5) emissions from anthropogenic buring of forest residuals. The follwing estimates elemental carbon (Black Carbon) based on empirically derived relationships between PM2.5 and EC from.\n",
      "\n",
      "1. Ward DE, Hardy CC. Organic and elemental profiles for smoke from prescribed fires. In: Watson JG, editor. International specialty conference of the Air and Waste Management Association [Internet]. San Francisco: Air and Waste Management Association; 1989. Available from: http://www.frames.gov/documents/smoke/serdp/ward_hardy_1989a.pdf"
     ]
    },
    {
     "cell_type": "code",
     "collapsed": false,
     "input": [
      "ward = ut.gData('13UQtRfNBSJ81PXxbYSnB2LrjHePNcvhJhrsxRBjHpoY', 475419971)\n",
      "#Units are ratio of EC to PM produced \n",
      "wardDF = ward[['source','pct_sm','pct_f','ec_f_est','ec_f_cv', 'ec_s_est','ec_s_cv','ecton-1_h_pm','ecton-1_l_pm']].transpose()\n",
      "wardDF.columns = wardDF.iloc[0]\n",
      "eFact = wardDF.to_dict()\n",
      "d = dict(zip([eFact[i]['source'] for i in eFact.keys()],['ALL VEGETATION','WILDLAND FIRE USE (WFU)','FOREST MANAGEMENT']))\n",
      "for k in eFact.keys():\n",
      "    eFact[k]['arblink'] = d[k]\n",
      "pd.DataFrame.from_dict(eFact).transpose().to_sql('bc_pm_ratio', sqdb['cx'], if_exists= 'replace')\n",
      "#print tabulate(pd.DataFrame.from_dict(eFact).transpose(), headers = ['CARB CPE Cat.','BC/t PM 2.5 (high)','BC/t PM 2.5 (low)', 'Source'], tablefmt=\"pipe\")\n",
      "pd.DataFrame.from_dict(eFact).transpose()"
     ],
     "language": "python",
     "metadata": {},
     "outputs": [
      {
       "html": [
        "<div style=\"max-width:1500px;overflow:auto;\">\n",
        "<table border=\"1\" class=\"dataframe\">\n",
        "  <thead>\n",
        "    <tr style=\"text-align: right;\">\n",
        "      <th></th>\n",
        "      <th>arblink</th>\n",
        "      <th>ec_f_cv</th>\n",
        "      <th>ec_f_est</th>\n",
        "      <th>ec_s_cv</th>\n",
        "      <th>ec_s_est</th>\n",
        "      <th>ecton-1_h_pm</th>\n",
        "      <th>ecton-1_l_pm</th>\n",
        "      <th>pct_f</th>\n",
        "      <th>pct_sm</th>\n",
        "      <th>source</th>\n",
        "    </tr>\n",
        "  </thead>\n",
        "  <tbody>\n",
        "    <tr>\n",
        "      <th>piles</th>\n",
        "      <td>FOREST MANAGEMENT</td>\n",
        "      <td>0.45</td>\n",
        "      <td>0.082</td>\n",
        "      <td>0.49</td>\n",
        "      <td>0.029</td>\n",
        "      <td>0.0078985</td>\n",
        "      <td>0.0047115</td>\n",
        "      <td>0.9</td>\n",
        "      <td>0.1</td>\n",
        "      <td>piles</td>\n",
        "    </tr>\n",
        "    <tr>\n",
        "      <th>prescribed natural fire</th>\n",
        "      <td>WILDLAND FIRE USE (WFU)</td>\n",
        "      <td>0.5833</td>\n",
        "      <td>0.1267</td>\n",
        "      <td>0.29</td>\n",
        "      <td>0.034</td>\n",
        "      <td>0.150954</td>\n",
        "      <td>0.0517122</td>\n",
        "      <td>0.5</td>\n",
        "      <td>0.5</td>\n",
        "      <td>prescribed natural fire</td>\n",
        "    </tr>\n",
        "    <tr>\n",
        "      <th>wildfire</th>\n",
        "      <td>ALL VEGETATION</td>\n",
        "      <td>0.4467</td>\n",
        "      <td>0.9617</td>\n",
        "      <td>0.338</td>\n",
        "      <td>0.0367</td>\n",
        "      <td>0.185961</td>\n",
        "      <td>0.0637042</td>\n",
        "      <td>0.3</td>\n",
        "      <td>0.7</td>\n",
        "      <td>wildfire</td>\n",
        "    </tr>\n",
        "  </tbody>\n",
        "</table>\n",
        "</div>"
       ],
       "metadata": {},
       "output_type": "pyout",
       "prompt_number": 228,
       "text": [
        "                                         arblink ec_f_cv ec_f_est ec_s_cv  \\\n",
        "piles                          FOREST MANAGEMENT    0.45    0.082    0.49   \n",
        "prescribed natural fire  WILDLAND FIRE USE (WFU)  0.5833   0.1267    0.29   \n",
        "wildfire                          ALL VEGETATION  0.4467   0.9617   0.338   \n",
        "\n",
        "                        ec_s_est ecton-1_h_pm ecton-1_l_pm pct_f pct_sm  \\\n",
        "piles                      0.029    0.0078985    0.0047115   0.9    0.1   \n",
        "prescribed natural fire    0.034     0.150954    0.0517122   0.5    0.5   \n",
        "wildfire                  0.0367     0.185961    0.0637042   0.3    0.7   \n",
        "\n",
        "                                          source  \n",
        "piles                                      piles  \n",
        "prescribed natural fire  prescribed natural fire  \n",
        "wildfire                                wildfire  "
       ]
      }
     ],
     "prompt_number": 228
    },
    {
     "cell_type": "code",
     "collapsed": false,
     "input": [
      "ward"
     ],
     "language": "python",
     "metadata": {},
     "outputs": [
      {
       "html": [
        "<div style=\"max-width:1500px;overflow:auto;\">\n",
        "<table border=\"1\" class=\"dataframe\">\n",
        "  <thead>\n",
        "    <tr style=\"text-align: right;\">\n",
        "      <th></th>\n",
        "      <th>source</th>\n",
        "      <th>mg</th>\n",
        "      <th>pct_sm</th>\n",
        "      <th>pct_f</th>\n",
        "      <th>pm2.5_sm</th>\n",
        "      <th>pm2.5_f</th>\n",
        "      <th>ec_f_est</th>\n",
        "      <th>ec_f_cv</th>\n",
        "      <th>ec_s_est</th>\n",
        "      <th>ec_s_cv</th>\n",
        "      <th>ec_sm_l(kg)</th>\n",
        "      <th>ec_sm_h</th>\n",
        "      <th>ec_f_l</th>\n",
        "      <th>ec_f_h</th>\n",
        "      <th>sumec_l</th>\n",
        "      <th>sumec_h</th>\n",
        "      <th>ecton-1_l_biomass</th>\n",
        "      <th>ecton-1_h_biomass</th>\n",
        "      <th>ecton-1_l_pm</th>\n",
        "      <th>ecton-1_h_pm</th>\n",
        "    </tr>\n",
        "  </thead>\n",
        "  <tbody>\n",
        "    <tr>\n",
        "      <th>0</th>\n",
        "      <td>piles</td>\n",
        "      <td>10</td>\n",
        "      <td>0.1</td>\n",
        "      <td>0.9</td>\n",
        "      <td>4</td>\n",
        "      <td>36.0</td>\n",
        "      <td>0.0820</td>\n",
        "      <td>0.4500</td>\n",
        "      <td>0.0290</td>\n",
        "      <td>0.490</td>\n",
        "      <td>0.0592</td>\n",
        "      <td>0.1728</td>\n",
        "      <td>0.1293</td>\n",
        "      <td>0.1431</td>\n",
        "      <td>0.1885</td>\n",
        "      <td>0.3159</td>\n",
        "      <td>0.0188</td>\n",
        "      <td>0.0316</td>\n",
        "      <td>0.004712</td>\n",
        "      <td>0.007898</td>\n",
        "    </tr>\n",
        "    <tr>\n",
        "      <th>1</th>\n",
        "      <td>prescribed natural fire</td>\n",
        "      <td>10</td>\n",
        "      <td>0.5</td>\n",
        "      <td>0.5</td>\n",
        "      <td>70</td>\n",
        "      <td>35.0</td>\n",
        "      <td>0.1267</td>\n",
        "      <td>0.5833</td>\n",
        "      <td>0.0340</td>\n",
        "      <td>0.290</td>\n",
        "      <td>1.7061</td>\n",
        "      <td>3.0539</td>\n",
        "      <td>3.7237</td>\n",
        "      <td>12.7964</td>\n",
        "      <td>5.4298</td>\n",
        "      <td>15.8502</td>\n",
        "      <td>0.5430</td>\n",
        "      <td>1.5850</td>\n",
        "      <td>0.051712</td>\n",
        "      <td>0.150954</td>\n",
        "    </tr>\n",
        "    <tr>\n",
        "      <th>2</th>\n",
        "      <td>wildfire</td>\n",
        "      <td>10</td>\n",
        "      <td>0.7</td>\n",
        "      <td>0.3</td>\n",
        "      <td>96</td>\n",
        "      <td>20.9</td>\n",
        "      <td>0.9617</td>\n",
        "      <td>0.4467</td>\n",
        "      <td>0.0367</td>\n",
        "      <td>0.338</td>\n",
        "      <td>2.3407</td>\n",
        "      <td>4.1896</td>\n",
        "      <td>5.1085</td>\n",
        "      <td>17.5554</td>\n",
        "      <td>7.4491</td>\n",
        "      <td>21.7450</td>\n",
        "      <td>0.7449</td>\n",
        "      <td>2.1745</td>\n",
        "      <td>0.063704</td>\n",
        "      <td>0.185961</td>\n",
        "    </tr>\n",
        "  </tbody>\n",
        "</table>\n",
        "</div>"
       ],
       "metadata": {},
       "output_type": "pyout",
       "prompt_number": 229,
       "text": [
        "                    source  mg  pct_sm  pct_f  pm2.5_sm  pm2.5_f  ec_f_est  \\\n",
        "0                    piles  10     0.1    0.9         4     36.0    0.0820   \n",
        "1  prescribed natural fire  10     0.5    0.5        70     35.0    0.1267   \n",
        "2                 wildfire  10     0.7    0.3        96     20.9    0.9617   \n",
        "\n",
        "   ec_f_cv  ec_s_est  ec_s_cv  ec_sm_l(kg)  ec_sm_h  ec_f_l   ec_f_h  sumec_l  \\\n",
        "0   0.4500    0.0290    0.490       0.0592   0.1728  0.1293   0.1431   0.1885   \n",
        "1   0.5833    0.0340    0.290       1.7061   3.0539  3.7237  12.7964   5.4298   \n",
        "2   0.4467    0.0367    0.338       2.3407   4.1896  5.1085  17.5554   7.4491   \n",
        "\n",
        "   sumec_h  ecton-1_l_biomass  ecton-1_h_biomass  ecton-1_l_pm  ecton-1_h_pm  \n",
        "0   0.3159             0.0188             0.0316      0.004712      0.007898  \n",
        "1  15.8502             0.5430             1.5850      0.051712      0.150954  \n",
        "2  21.7450             0.7449             2.1745      0.063704      0.185961  "
       ]
      }
     ],
     "prompt_number": 229
    },
    {
     "cell_type": "code",
     "collapsed": false,
     "input": [
      "ut.gData('13UQtRfNBSJ81PXxbYSnB2LrjHePNcvhJhrsxRBjHpoY', 475419971)"
     ],
     "language": "python",
     "metadata": {},
     "outputs": [
      {
       "html": [
        "<div style=\"max-width:1500px;overflow:auto;\">\n",
        "<table border=\"1\" class=\"dataframe\">\n",
        "  <thead>\n",
        "    <tr style=\"text-align: right;\">\n",
        "      <th></th>\n",
        "      <th>source</th>\n",
        "      <th>mg</th>\n",
        "      <th>pct_sm</th>\n",
        "      <th>pct_f</th>\n",
        "      <th>pm2.5_sm</th>\n",
        "      <th>pm2.5_f</th>\n",
        "      <th>ec_f_est</th>\n",
        "      <th>ec_f_cv</th>\n",
        "      <th>ec_s_est</th>\n",
        "      <th>ec_s_cv</th>\n",
        "      <th>ec_sm_l(kg)</th>\n",
        "      <th>ec_sm_h</th>\n",
        "      <th>ec_f_l</th>\n",
        "      <th>ec_f_h</th>\n",
        "      <th>sumec_l</th>\n",
        "      <th>sumec_h</th>\n",
        "      <th>ecton-1_l_biomass</th>\n",
        "      <th>ecton-1_h_biomass</th>\n",
        "      <th>ecton-1_l_pm</th>\n",
        "      <th>ecton-1_h_pm</th>\n",
        "    </tr>\n",
        "  </thead>\n",
        "  <tbody>\n",
        "    <tr>\n",
        "      <th>0</th>\n",
        "      <td>piles</td>\n",
        "      <td>10</td>\n",
        "      <td>0.1</td>\n",
        "      <td>0.9</td>\n",
        "      <td>4</td>\n",
        "      <td>36.0</td>\n",
        "      <td>0.0820</td>\n",
        "      <td>0.4500</td>\n",
        "      <td>0.0290</td>\n",
        "      <td>0.490</td>\n",
        "      <td>0.0592</td>\n",
        "      <td>0.1728</td>\n",
        "      <td>0.1293</td>\n",
        "      <td>0.1431</td>\n",
        "      <td>0.1885</td>\n",
        "      <td>0.3159</td>\n",
        "      <td>0.0188</td>\n",
        "      <td>0.0316</td>\n",
        "      <td>0.004712</td>\n",
        "      <td>0.007898</td>\n",
        "    </tr>\n",
        "    <tr>\n",
        "      <th>1</th>\n",
        "      <td>prescribed natural fire</td>\n",
        "      <td>10</td>\n",
        "      <td>0.5</td>\n",
        "      <td>0.5</td>\n",
        "      <td>70</td>\n",
        "      <td>35.0</td>\n",
        "      <td>0.1267</td>\n",
        "      <td>0.5833</td>\n",
        "      <td>0.0340</td>\n",
        "      <td>0.290</td>\n",
        "      <td>1.7061</td>\n",
        "      <td>3.0539</td>\n",
        "      <td>3.7237</td>\n",
        "      <td>12.7964</td>\n",
        "      <td>5.4298</td>\n",
        "      <td>15.8502</td>\n",
        "      <td>0.5430</td>\n",
        "      <td>1.5850</td>\n",
        "      <td>0.051712</td>\n",
        "      <td>0.150954</td>\n",
        "    </tr>\n",
        "    <tr>\n",
        "      <th>2</th>\n",
        "      <td>wildfire</td>\n",
        "      <td>10</td>\n",
        "      <td>0.7</td>\n",
        "      <td>0.3</td>\n",
        "      <td>96</td>\n",
        "      <td>20.9</td>\n",
        "      <td>0.9617</td>\n",
        "      <td>0.4467</td>\n",
        "      <td>0.0367</td>\n",
        "      <td>0.338</td>\n",
        "      <td>2.3407</td>\n",
        "      <td>4.1896</td>\n",
        "      <td>5.1085</td>\n",
        "      <td>17.5554</td>\n",
        "      <td>7.4491</td>\n",
        "      <td>21.7450</td>\n",
        "      <td>0.7449</td>\n",
        "      <td>2.1745</td>\n",
        "      <td>0.063704</td>\n",
        "      <td>0.185961</td>\n",
        "    </tr>\n",
        "  </tbody>\n",
        "</table>\n",
        "</div>"
       ],
       "metadata": {},
       "output_type": "pyout",
       "prompt_number": 223,
       "text": [
        "                    source  mg  pct_sm  pct_f  pm2.5_sm  pm2.5_f  ec_f_est  \\\n",
        "0                    piles  10     0.1    0.9         4     36.0    0.0820   \n",
        "1  prescribed natural fire  10     0.5    0.5        70     35.0    0.1267   \n",
        "2                 wildfire  10     0.7    0.3        96     20.9    0.9617   \n",
        "\n",
        "   ec_f_cv  ec_s_est  ec_s_cv  ec_sm_l(kg)  ec_sm_h  ec_f_l   ec_f_h  sumec_l  \\\n",
        "0   0.4500    0.0290    0.490       0.0592   0.1728  0.1293   0.1431   0.1885   \n",
        "1   0.5833    0.0340    0.290       1.7061   3.0539  3.7237  12.7964   5.4298   \n",
        "2   0.4467    0.0367    0.338       2.3407   4.1896  5.1085  17.5554   7.4491   \n",
        "\n",
        "   sumec_h  ecton-1_l_biomass  ecton-1_h_biomass  ecton-1_l_pm  ecton-1_h_pm  \n",
        "0   0.3159             0.0188             0.0316      0.004712      0.007898  \n",
        "1  15.8502             0.5430             1.5850      0.051712      0.150954  \n",
        "2  21.7450             0.7449             2.1745      0.063704      0.185961  "
       ]
      }
     ],
     "prompt_number": 223
    },
    {
     "cell_type": "code",
     "collapsed": false,
     "input": [
      "ecPct = ward[['ec_f_est', 'pct_f','pct_sm','ec_f_cv','ec_s_est', 'ec_s_cv']].set_index(ward.source).to_dict('index')"
     ],
     "language": "python",
     "metadata": {},
     "outputs": [],
     "prompt_number": 72
    },
    {
     "cell_type": "markdown",
     "metadata": {},
     "source": [
      "### Black Carbon Global Warming Potential\n",
      "[Several estimates](https://docs.google.com/spreadsheets/d/13UQtRfNBSJ81PXxbYSnB2LrjHePNcvhJhrsxRBjHpoY/edit#gid=195715938) exist for the GWP of Black Carbon. We use GWP20 estimates for black carbon from the CARB Short-Lived Climate Pollutant Strategy and from Fuglestvedt et. al 2000.\n",
      "\n",
      "#### References\n",
      "1. California Air Resources Board. [Short Lived Climate Pollutant Reduction Strategy](https://docs.google.com/uc?id=0B9-9Vlx0SkkFWmxxQ2xtSkNxSlU&export=download). Sacramento, CA; 2015. \n",
      "2. Fuglestvedt JS, Berntsen TK, Godal O, Skodvin T. Climate implications of GWP-based reductions in greenhouse gas emissions. Geophys Res Lett [Internet]. 2000 Feb 1 [cited 2015 Sep 5];27(3):409\u201312. Available from: http://doi.wiley.com/10.1029/1999GL010939"
     ]
    },
    {
     "cell_type": "code",
     "collapsed": false,
     "input": [
      "bc_gwp = ut.gData('13UQtRfNBSJ81PXxbYSnB2LrjHePNcvhJhrsxRBjHpoY', 195715938)\n",
      "bc_gwp.to_sql('bc_gwp', sqdb['cx'], if_exists = 'replace')\n",
      "#print tabulate(bc_gwp.drop('est_id', 1), headers = [i for i in bc_gwp.drop('est_id', 1).columns],tablefmt=\"pipe\")\n",
      "bc_gwp.drop('est_id', 1)"
     ],
     "language": "python",
     "metadata": {},
     "outputs": [
      {
       "html": [
        "<div style=\"max-width:1500px;overflow:auto;\">\n",
        "<table border=\"1\" class=\"dataframe\">\n",
        "  <thead>\n",
        "    <tr style=\"text-align: right;\">\n",
        "      <th></th>\n",
        "      <th>gwp_20</th>\n",
        "      <th>gwp_20_std</th>\n",
        "      <th>gwp_100</th>\n",
        "      <th>gwp_100_std</th>\n",
        "      <th>gwp_500</th>\n",
        "      <th>gwp_500_std</th>\n",
        "      <th>source</th>\n",
        "    </tr>\n",
        "  </thead>\n",
        "  <tbody>\n",
        "    <tr>\n",
        "      <th>0</th>\n",
        "      <td>2200</td>\n",
        "      <td>888.82</td>\n",
        "      <td>633.33</td>\n",
        "      <td>255.41</td>\n",
        "      <td>193.33</td>\n",
        "      <td>77.67</td>\n",
        "      <td>Fuglestvedt2000</td>\n",
        "    </tr>\n",
        "    <tr>\n",
        "      <th>1</th>\n",
        "      <td>3200</td>\n",
        "      <td>NaN</td>\n",
        "      <td>900.00</td>\n",
        "      <td>NaN</td>\n",
        "      <td>NaN</td>\n",
        "      <td>NaN</td>\n",
        "      <td>CaliforniaAirResourcesBoard2015</td>\n",
        "    </tr>\n",
        "  </tbody>\n",
        "</table>\n",
        "</div>"
       ],
       "metadata": {},
       "output_type": "pyout",
       "prompt_number": 5,
       "text": [
        "   gwp_20  gwp_20_std  gwp_100  gwp_100_std  gwp_500  gwp_500_std  \\\n",
        "0    2200      888.82   633.33       255.41   193.33        77.67   \n",
        "1    3200         NaN   900.00          NaN      NaN          NaN   \n",
        "\n",
        "                            source  \n",
        "0                  Fuglestvedt2000  \n",
        "1  CaliforniaAirResourcesBoard2015  "
       ]
      }
     ],
     "prompt_number": 5
    },
    {
     "cell_type": "markdown",
     "metadata": {},
     "source": [
      "###CARB Criteria Air Pollutant (CPE) emissions data 2015\n",
      "Particulate Matter, Carbon Monoxide, Nitrogen Oxide, Sulfur Dioxide, Lead, and Reactive Organic Gases"
     ]
    },
    {
     "cell_type": "code",
     "collapsed": false,
     "input": [
      "cpe_data = pd.read_csv('http://www.arb.ca.gov/app/emsinv/2013/emsbyeic.csv?F_YR=2015&F_DIV=0&F_SEASON=A&SP=2013&SPN=2013_Almanac&F_AREA=CA')\n",
      "cpe_data.columns = [i.lower() for i in cpe_data.columns]\n",
      "cpe_data.to_sql('cpe_2015', sqdb['cx'], if_exists = 'replace')\n",
      "cpe_2015 = pd.read_sql('''SELECT\n",
      "                                eicsoun,\n",
      "                                pm.source type,\n",
      "                                pm2_5 pm25_tpd,\n",
      "                                pm2_5*365*\"ecton-1_h_pm\" as t_ec_high,\n",
      "                                pm2_5*365*\"ecton-1_l_pm\" as t_ec_low,\n",
      "                                pm2_5*365*\"ecton-1_h_pm\"*gwp_20 as co2e_high,\n",
      "                                pm2_5*365*\"ecton-1_l_pm\"*gwp_20 as co2e_low,\n",
      "                                pm2_5*365*\"ecton-1_l_pm\"*(gwp_20-gwp_20_std) as co2e20_low_m1std,\n",
      "                                pm2_5*365*\"ecton-1_l_pm\"*(gwp_20+gwp_20_std) as co2e20_low_p1std,\n",
      "                                pm2_5*365*\"ecton-1_h_pm\"*(gwp_20-gwp_20_std) as co2e20_hi_m1std,\n",
      "                                pm2_5*365*\"ecton-1_h_pm\"*(gwp_20+gwp_20_std) as co2e20_hi_p1std,\n",
      "                                pm2_5*365*\"ecton-1_l_pm\"*(gwp_100-gwp_100_std) as co2e100_low_m1std,\n",
      "                                pm2_5*365*\"ecton-1_l_pm\"*(gwp_100+gwp_100_std) as co2e100_low_p1std,\n",
      "                                pm2_5*365*\"ecton-1_h_pm\"*(gwp_100-gwp_100_std) as co2e100_hi_m1std,\n",
      "                                pm2_5*365*\"ecton-1_h_pm\"*(gwp_100+gwp_100_std) as co2e100_hi_p1std,\n",
      "                                gwp.source\n",
      "                            FROM cpe_2015\n",
      "                            JOIN bc_pm_ratio pm  on  (arblink = eicsoun)\n",
      "                            CROSS JOIN bc_gwp gwp \n",
      "                            WHERE eicsoun in ('FOREST MANAGEMENT','WILDLAND FIRE USE (WFU)','ALL VEGETATION')''',\n",
      "            con = sqdb['cx'])\n",
      "\n",
      "foo = pd.melt(cpe_2015.drop('eicsoun',1), id_vars = ['type', 'source'])\n",
      "bar = foo[foo['variable'].str.contains(\"co2e\")].dropna()\n",
      "bar['type'] = bar.type.astype('category')\n",
      "bar.value = bar.value"
     ],
     "language": "python",
     "metadata": {},
     "outputs": [],
     "prompt_number": 218
    },
    {
     "cell_type": "markdown",
     "metadata": {},
     "source": [
      "#### Make the BC GHG emissions plot"
     ]
    },
    {
     "cell_type": "code",
     "collapsed": false,
     "input": [
      "g=sns.FacetGrid(bar,col='type', sharey=False)\n",
      "g.map(sns.boxplot, 'type','value')\n",
      "g.set_ylabels('Mt $CO_2e$')\n",
      "[c.xaxis.set_visible(False) for c in g.axes[0]]\n",
      "sns.plt.subplots_adjust(top = 0.8)\n",
      "g.fig.suptitle('Black carbon emissions in CO2 equivalent units from burning in CA, 2015', fontsize= 15)\n",
      "g.fig.text(0.1, -0.08,'Source: CARB Criteria Pollutant Emissions Inventory, 2015',\n",
      "      fontsize=10)\n",
      "for f in ['.png','.pdf']:\n",
      "    g.savefig('graphics/bc_gwp{0}'.format(f))"
     ],
     "language": "python",
     "metadata": {},
     "outputs": [
      {
       "metadata": {},
       "output_type": "display_data",
       "png": "[encoded data removed]",
       "text": [
        "<matplotlib.figure.Figure at 0x11a9885d0>"
       ]
      }
     ],
     "prompt_number": 219
    },
    {
     "cell_type": "markdown",
     "metadata": {},
     "source": [
      "Tried to do this with [ggplot](http://ggplot.yhathq.com/) but coudnt figure out how to eliminate the y axis ticks..\n",
      "`ggplot(bar, aes(x='value', y='type')) + geom_boxplot() + labs(x ='$Mt CO_2e$', y = \" \") +facet_wrap('type') `"
     ]
    },
    {
     "cell_type": "markdown",
     "metadata": {},
     "source": [
      "A secondary apporoach based on Ward (1989) and Jenkins (1996) uses a range of 2-32% of PM as BC. \n",
      "\n",
      "1. Jenkins BM, Turn SQ, Williams RB, Goronea M, Abd-el-Fattah H, Mehlschau J, et al. Atmospheric Pollutant Emissions Factors From Open Burning of Agricultural and Forest Biomass By Wind Tunnel Simulations [Internet]. Sacramento, CA; 1996. Available from: http://www.arb.ca.gov/ei/speciate/r01t20/rf9doc/refnum9.htm"
     ]
    },
    {
     "cell_type": "code",
     "collapsed": false,
     "input": [
      "pm2015=pd.read_sql('''select eicsoun,\n",
      "                    pm2_5*365 as pm25\n",
      "                from cpe_2015\n",
      "                WHERE eicsoun in ('FOREST MANAGEMENT','WILDLAND FIRE USE (WFU)','ALL VEGETATION');''', con = sqdb['cx'])"
     ],
     "language": "python",
     "metadata": {},
     "outputs": [],
     "prompt_number": 151
    },
    {
     "cell_type": "code",
     "collapsed": false,
     "input": [
      "pm2015"
     ],
     "language": "python",
     "metadata": {},
     "outputs": [
      {
       "html": [
        "<div style=\"max-width:1500px;overflow:auto;\">\n",
        "<table border=\"1\" class=\"dataframe\">\n",
        "  <thead>\n",
        "    <tr style=\"text-align: right;\">\n",
        "      <th></th>\n",
        "      <th>eicsoun</th>\n",
        "      <th>pm25</th>\n",
        "    </tr>\n",
        "  </thead>\n",
        "  <tbody>\n",
        "    <tr>\n",
        "      <th>0</th>\n",
        "      <td>ALL VEGETATION</td>\n",
        "      <td>137630.1485</td>\n",
        "    </tr>\n",
        "    <tr>\n",
        "      <th>1</th>\n",
        "      <td>FOREST MANAGEMENT</td>\n",
        "      <td>5480.5115</td>\n",
        "    </tr>\n",
        "    <tr>\n",
        "      <th>2</th>\n",
        "      <td>WILDLAND FIRE USE (WFU)</td>\n",
        "      <td>6802.4320</td>\n",
        "    </tr>\n",
        "  </tbody>\n",
        "</table>\n",
        "</div>"
       ],
       "metadata": {},
       "output_type": "pyout",
       "prompt_number": 152,
       "text": [
        "                   eicsoun         pm25\n",
        "0           ALL VEGETATION  137630.1485\n",
        "1        FOREST MANAGEMENT    5480.5115\n",
        "2  WILDLAND FIRE USE (WFU)    6802.4320"
       ]
      }
     ],
     "prompt_number": 152
    },
    {
     "cell_type": "code",
     "collapsed": false,
     "input": [
      "pm2015['ec'] = pm2015['pm25'].apply(sumFromDist)\n",
      "pm2015=pm2015.set_index([['wildfire','piles','prescribed natural fire']])"
     ],
     "language": "python",
     "metadata": {},
     "outputs": [],
     "prompt_number": 153
    },
    {
     "cell_type": "code",
     "collapsed": false,
     "input": [
      "pm2015"
     ],
     "language": "python",
     "metadata": {},
     "outputs": [
      {
       "html": [
        "<div style=\"max-width:1500px;overflow:auto;\">\n",
        "<table border=\"1\" class=\"dataframe\">\n",
        "  <thead>\n",
        "    <tr style=\"text-align: right;\">\n",
        "      <th></th>\n",
        "      <th>eicsoun</th>\n",
        "      <th>pm25</th>\n",
        "      <th>ec</th>\n",
        "    </tr>\n",
        "  </thead>\n",
        "  <tbody>\n",
        "    <tr>\n",
        "      <th>wildfire</th>\n",
        "      <td>ALL VEGETATION</td>\n",
        "      <td>137630.1485</td>\n",
        "      <td>23442.001872</td>\n",
        "    </tr>\n",
        "    <tr>\n",
        "      <th>piles</th>\n",
        "      <td>FOREST MANAGEMENT</td>\n",
        "      <td>5480.5115</td>\n",
        "      <td>935.012574</td>\n",
        "    </tr>\n",
        "    <tr>\n",
        "      <th>prescribed natural fire</th>\n",
        "      <td>WILDLAND FIRE USE (WFU)</td>\n",
        "      <td>6802.4320</td>\n",
        "      <td>1160.793021</td>\n",
        "    </tr>\n",
        "  </tbody>\n",
        "</table>\n",
        "</div>"
       ],
       "metadata": {},
       "output_type": "pyout",
       "prompt_number": 154,
       "text": [
        "                                         eicsoun         pm25            ec\n",
        "wildfire                          ALL VEGETATION  137630.1485  23442.001872\n",
        "piles                          FOREST MANAGEMENT    5480.5115    935.012574\n",
        "prescribed natural fire  WILDLAND FIRE USE (WFU)    6802.4320   1160.793021"
       ]
      }
     ],
     "prompt_number": 154
    },
    {
     "cell_type": "code",
     "collapsed": false,
     "input": [
      "def ecDist(PM,ecEst, ecCV):\n",
      "    '''\n",
      "    PM is a mass measure, its intended to be PM2.5\n",
      "    ecEst is the estimate of the percentage of elemental carbon comprising the PM\n",
      "    ecCV is the coefficient of variation around the estimate of elemental carbon\n",
      "    -----\n",
      "    returns a random selection from a normal distribution of size `len(pm)`\n",
      "    centered on `ecEst` with standard deviation of `ecCV`*`ecEst`\n",
      "    '''\n",
      "    ecStdev = ecCV * ecEst\n",
      "    ec_frac = (PM-np.floor(PM))*np.random.normal(ecEst, ecStdev, 1).clip(min=0)[0]\n",
      "    t_ec = np.random.normal(ecEst,ecStdev,PM).clip(min=0)\n",
      "    return t_ec"
     ],
     "language": "python",
     "metadata": {},
     "outputs": [],
     "prompt_number": 42
    },
    {
     "cell_type": "code",
     "collapsed": false,
     "input": [
      "for k in ecPct.keys():\n",
      "    pm = pm2015.loc[k]['pm25']\n",
      "    pm_sm = ecPct[k]['pct_sm']*pm\n",
      "    pm_f = ecPct[k]['pct_f']*pm\n",
      "    ecPct[k]['ecSMDist'] = np.array([sum(ecDist(pm_sm, ecPct[k]['ec_s_est']*pm_sm, ecPct[k]['ec_s_cv'])) for i in range(1000)])\n",
      "    ecPct[k]['ecFDist'] = np.array([sum(ecDist(pm_sm, ecPct[k]['ec_f_est']*pm_f, ecPct[k]['ec_f_cv'])) for i in range(1000)])\n",
      "    ecPct[k]['tECDist'] = ecPct[k]['ecSMDist']+ecPct[k]['ecFDist']\n",
      "    ecPct[k]['df'] = pd.DataFrame(np.column_stack((ecPct[k]['tECDist'], [k]*len(ecPct[k]['tECDist']))))"
     ],
     "language": "python",
     "metadata": {},
     "outputs": [],
     "prompt_number": 205
    },
    {
     "cell_type": "code",
     "collapsed": false,
     "input": [
      "df=pd.concat([ecPct[i]['df'] for i in ecPct.keys()])\n",
      "df.columns = ['value', 'source']\n",
      "df.value = df.value.astype('float64')"
     ],
     "language": "python",
     "metadata": {},
     "outputs": [],
     "prompt_number": 216
    },
    {
     "cell_type": "code",
     "collapsed": false,
     "input": [
      "t=sns.FacetGrid(df,col='source', sharey=False)\n",
      "t.map(sns.boxplot, 'source','value')"
     ],
     "language": "python",
     "metadata": {},
     "outputs": [
      {
       "metadata": {},
       "output_type": "pyout",
       "prompt_number": 217,
       "text": [
        "<seaborn.axisgrid.FacetGrid at 0x113151810>"
       ]
      },
      {
       "metadata": {},
       "output_type": "display_data",
       "png": "[encoded data removed]",
       "text": [
        "<matplotlib.figure.Figure at 0x113151710>"
       ]
      }
     ],
     "prompt_number": 217
    },
    {
     "cell_type": "markdown",
     "metadata": {},
     "source": [
      "###Forested Lands and Wood Products Biodegradable Carbon Emissions & Sinks (MMTCO2)\n",
      "ARB (2007). Technical support document for Land Use, Land Use Change & Forestry - Biodegradable Carbon Emissions & Sinks. Table available as a pdf document at: http://www.arb.ca.gov/cc/inventory/archive/tables/net_co2_flux_2007-11-19.pdf"
     ]
    },
    {
     "cell_type": "code",
     "collapsed": false,
     "input": [
      "t=foo[foo['variable'].str.contains(\"co2e20\")].dropna()\n",
      "co2 = ut.gData('1GDdquzrCoq2cxVN2fbCpP4gwi2yrMnONNrWbfhZKZu4', 1636249481)\n",
      "co2.columns = co2.iloc[0]\n",
      "co2plot=pd.melt(co2.reindex(co2.index.drop(0)), id_vars = ['Year'])\n",
      "co2plot.columns = ['sc_cat','year','mmtco2e']\n",
      "co2plot.to_sql('arb_co2', sqdb['cx'], if_exists = 'replace')\n",
      "cdata = pd.read_sql('''select sc_cat, avg(mmtco2e) from arb_co2 where sc_cat in ('Forest and rangeland fires', 'Timber harvest slash')  group by sc_cat''', con = sqdb['cx'])"
     ],
     "language": "python",
     "metadata": {},
     "outputs": [],
     "prompt_number": 7
    },
    {
     "cell_type": "code",
     "collapsed": false,
     "input": [
      "cdata\n",
      "#Output GitHub Markdown using the following:\n",
      "#print tabulate(cdata, headers = ['Source Category','MMTCO2'],tablefmt=\"pipe\")"
     ],
     "language": "python",
     "metadata": {},
     "outputs": [
      {
       "html": [
        "<div style=\"max-width:1500px;overflow:auto;\">\n",
        "<table border=\"1\" class=\"dataframe\">\n",
        "  <thead>\n",
        "    <tr style=\"text-align: right;\">\n",
        "      <th></th>\n",
        "      <th>sc_cat</th>\n",
        "      <th>avg(mmtco2e)</th>\n",
        "    </tr>\n",
        "  </thead>\n",
        "  <tbody>\n",
        "    <tr>\n",
        "      <th>0</th>\n",
        "      <td>Forest and rangeland fires</td>\n",
        "      <td>2.019400</td>\n",
        "    </tr>\n",
        "    <tr>\n",
        "      <th>1</th>\n",
        "      <td>Timber harvest slash</td>\n",
        "      <td>0.155267</td>\n",
        "    </tr>\n",
        "  </tbody>\n",
        "</table>\n",
        "</div>"
       ],
       "metadata": {},
       "output_type": "pyout",
       "prompt_number": 8,
       "text": [
        "                       sc_cat  avg(mmtco2e)\n",
        "0  Forest and rangeland fires      2.019400\n",
        "1        Timber harvest slash      0.155267"
       ]
      }
     ],
     "prompt_number": 8
    },
    {
     "cell_type": "markdown",
     "metadata": {},
     "source": [
      "### GHG equivalent emissions from management residuals\n",
      "To arrive at an estimate of total annual emissions from buring forest management residuals in CO2 equivalent terms from published CARB estimates we can combine the CO2 emissions reported for 2004 in the LULUC Biodegradable Carbon Emissions and Sinks with black carbon emissions extrapolated from the CARB Criteria Air Pollutant Emissions inventory estimates. The dime discreppancy between the 2004 and 2015 is acknowledged as an irreconcilable source of uncertainty in this estimation among others. This does however reflect that a baseline of substantial emissions from forest management residuals has been reported in CARB emissions inventories and should be recognized as a baseline condition.  "
     ]
    },
    {
     "cell_type": "code",
     "collapsed": false,
     "input": [
      "t=foo[foo['variable'].str.contains(\"co2e20\")].dropna()\n",
      "tE = pd.DataFrame([cdata['avg(mmtco2e)'][1]*1.10231,\n",
      "              avg(t[t['type'].str.contains('piles')]['value'])/1000000,\n",
      "             (cdata['avg(mmtco2e)'][1]*1.10231)+(avg(t[t['type'].str.contains('piles')]['value'])/1000000)],columns = ['Mt CO2e'])\n",
      "tE['Source']=['CO2 pile buring', 'CO2e BC pile burning', 'Total Mt CO2e']"
     ],
     "language": "python",
     "metadata": {},
     "outputs": [],
     "prompt_number": 9
    },
    {
     "cell_type": "code",
     "collapsed": false,
     "input": [
      "#print tabulate(tE, headers = tE.columns.tolist(), tablefmt ='pipe')\n",
      "tE"
     ],
     "language": "python",
     "metadata": {},
     "outputs": [
      {
       "html": [
        "<div style=\"max-width:1500px;overflow:auto;\">\n",
        "<table border=\"1\" class=\"dataframe\">\n",
        "  <thead>\n",
        "    <tr style=\"text-align: right;\">\n",
        "      <th></th>\n",
        "      <th>Mt CO2e</th>\n",
        "      <th>Source</th>\n",
        "    </tr>\n",
        "  </thead>\n",
        "  <tbody>\n",
        "    <tr>\n",
        "      <th>0</th>\n",
        "      <td>0.171152</td>\n",
        "      <td>CO2 pile buring</td>\n",
        "    </tr>\n",
        "    <tr>\n",
        "      <th>1</th>\n",
        "      <td>0.065169</td>\n",
        "      <td>CO2e BC pile burning</td>\n",
        "    </tr>\n",
        "    <tr>\n",
        "      <th>2</th>\n",
        "      <td>0.236321</td>\n",
        "      <td>Total Mt CO2e</td>\n",
        "    </tr>\n",
        "  </tbody>\n",
        "</table>\n",
        "</div>"
       ],
       "metadata": {},
       "output_type": "pyout",
       "prompt_number": 13,
       "text": [
        "    Mt CO2e                Source\n",
        "0  0.171152       CO2 pile buring\n",
        "1  0.065169  CO2e BC pile burning\n",
        "2  0.236321         Total Mt CO2e"
       ]
      }
     ],
     "prompt_number": 13
    },
    {
     "cell_type": "markdown",
     "metadata": {},
     "source": [
      "### Timber Products Output\n",
      "The TPO estimates logging redisues produced from commercial timber harvesting operations."
     ]
    },
    {
     "cell_type": "code",
     "collapsed": false,
     "input": [
      "tpoData = ut.gData('1GDdquzrCoq2cxVN2fbCpP4gwi2yrMnONNrWbfhZKZu4', 872275354, hrow=1)\n",
      "tpoData"
     ],
     "language": "python",
     "metadata": {},
     "outputs": [
      {
       "html": [
        "<div style=\"max-width:1500px;overflow:auto;\">\n",
        "<table border=\"1\" class=\"dataframe\">\n",
        "  <thead>\n",
        "    <tr style=\"text-align: right;\">\n",
        "      <th></th>\n",
        "      <th>ownership</th>\n",
        "      <th>roundwoodproducts</th>\n",
        "      <th>loggingresidues</th>\n",
        "      <th>year</th>\n",
        "    </tr>\n",
        "  </thead>\n",
        "  <tbody>\n",
        "    <tr>\n",
        "      <th>0</th>\n",
        "      <td>National Forest</td>\n",
        "      <td>72.4</td>\n",
        "      <td>20.7</td>\n",
        "      <td>2012</td>\n",
        "    </tr>\n",
        "    <tr>\n",
        "      <th>1</th>\n",
        "      <td>Other Public</td>\n",
        "      <td>16.2</td>\n",
        "      <td>3.4</td>\n",
        "      <td>2012</td>\n",
        "    </tr>\n",
        "    <tr>\n",
        "      <th>2</th>\n",
        "      <td>Forest Industry</td>\n",
        "      <td>328.9</td>\n",
        "      <td>72.4</td>\n",
        "      <td>2012</td>\n",
        "    </tr>\n",
        "    <tr>\n",
        "      <th>3</th>\n",
        "      <td>Other Private</td>\n",
        "      <td>53.0</td>\n",
        "      <td>11.2</td>\n",
        "      <td>2012</td>\n",
        "    </tr>\n",
        "    <tr>\n",
        "      <th>4</th>\n",
        "      <td>National Forest</td>\n",
        "      <td>52.8</td>\n",
        "      <td>16.3</td>\n",
        "      <td>2006</td>\n",
        "    </tr>\n",
        "    <tr>\n",
        "      <th>5</th>\n",
        "      <td>Other Public</td>\n",
        "      <td>1.1</td>\n",
        "      <td>0.3</td>\n",
        "      <td>2006</td>\n",
        "    </tr>\n",
        "    <tr>\n",
        "      <th>6</th>\n",
        "      <td>Forest Industry</td>\n",
        "      <td>274.3</td>\n",
        "      <td>59.6</td>\n",
        "      <td>2006</td>\n",
        "    </tr>\n",
        "    <tr>\n",
        "      <th>7</th>\n",
        "      <td>Other Private</td>\n",
        "      <td>139.2</td>\n",
        "      <td>33.2</td>\n",
        "      <td>2006</td>\n",
        "    </tr>\n",
        "    <tr>\n",
        "      <th>8</th>\n",
        "      <td>National Forest</td>\n",
        "      <td>90.8</td>\n",
        "      <td>22.6</td>\n",
        "      <td>2000</td>\n",
        "    </tr>\n",
        "    <tr>\n",
        "      <th>9</th>\n",
        "      <td>Other Public</td>\n",
        "      <td>5.2</td>\n",
        "      <td>1.6</td>\n",
        "      <td>2000</td>\n",
        "    </tr>\n",
        "    <tr>\n",
        "      <th>10</th>\n",
        "      <td>Forest Industry</td>\n",
        "      <td>372.5</td>\n",
        "      <td>70.6</td>\n",
        "      <td>2000</td>\n",
        "    </tr>\n",
        "    <tr>\n",
        "      <th>11</th>\n",
        "      <td>Other Private</td>\n",
        "      <td>159.4</td>\n",
        "      <td>49.1</td>\n",
        "      <td>2000</td>\n",
        "    </tr>\n",
        "    <tr>\n",
        "      <th>12</th>\n",
        "      <td>National Forest</td>\n",
        "      <td>132.1</td>\n",
        "      <td>11.2</td>\n",
        "      <td>1994</td>\n",
        "    </tr>\n",
        "    <tr>\n",
        "      <th>13</th>\n",
        "      <td>Other Public</td>\n",
        "      <td>24.7</td>\n",
        "      <td>4.3</td>\n",
        "      <td>1994</td>\n",
        "    </tr>\n",
        "    <tr>\n",
        "      <th>14</th>\n",
        "      <td>Forest Industry</td>\n",
        "      <td>396.1</td>\n",
        "      <td>63.1</td>\n",
        "      <td>1994</td>\n",
        "    </tr>\n",
        "    <tr>\n",
        "      <th>15</th>\n",
        "      <td>Other Private</td>\n",
        "      <td>174.7</td>\n",
        "      <td>22.3</td>\n",
        "      <td>1994</td>\n",
        "    </tr>\n",
        "  </tbody>\n",
        "</table>\n",
        "</div>"
       ],
       "metadata": {},
       "output_type": "pyout",
       "prompt_number": 14,
       "text": [
        "          ownership  roundwoodproducts  loggingresidues  year\n",
        "0   National Forest               72.4             20.7  2012\n",
        "1      Other Public               16.2              3.4  2012\n",
        "2   Forest Industry              328.9             72.4  2012\n",
        "3     Other Private               53.0             11.2  2012\n",
        "4   National Forest               52.8             16.3  2006\n",
        "5      Other Public                1.1              0.3  2006\n",
        "6   Forest Industry              274.3             59.6  2006\n",
        "7     Other Private              139.2             33.2  2006\n",
        "8   National Forest               90.8             22.6  2000\n",
        "9      Other Public                5.2              1.6  2000\n",
        "10  Forest Industry              372.5             70.6  2000\n",
        "11    Other Private              159.4             49.1  2000\n",
        "12  National Forest              132.1             11.2  1994\n",
        "13     Other Public               24.7              4.3  1994\n",
        "14  Forest Industry              396.1             63.1  1994\n",
        "15    Other Private              174.7             22.3  1994"
       ]
      }
     ],
     "prompt_number": 14
    },
    {
     "cell_type": "markdown",
     "metadata": {},
     "source": [
      "### Biomass residuals from non-commercial management activities\n",
      "Data from TPO does not account for forest management activities that do not result in commercial products (timber sales, biomass sales). To estimate the amount of residual material produced from non commercial management activities we use data from the US Forest Service (FACTS) and from CalFires timber harvest plan data. \n",
      "\n",
      "#### Forest Service ACtivity Tracking System (FACTS)\n",
      "Data from TPO does not account for forest management activities that do not result in commercial products (timber sales, biomass sales). We use a range of 10-35 BDT/acre to convert acres reported in FACTS to volume."
     ]
    },
    {
     "cell_type": "code",
     "collapsed": false,
     "input": [
      "pd.read_excel('FACTS_Tabular_092115.xlsx', sheetname = 'CategoryCrosswalk').to_sql('facts_cat', sqdb['cx'], if_exists = 'replace')"
     ],
     "language": "python",
     "metadata": {},
     "outputs": [],
     "prompt_number": 12
    },
    {
     "cell_type": "code",
     "collapsed": false,
     "input": [
      "pd.read_csv('pd/facts_notimber.csv').to_sql('facts_notimber', sqdb['cx'], if_exists='replace')"
     ],
     "language": "python",
     "metadata": {},
     "outputs": [],
     "prompt_number": 13
    },
    {
     "cell_type": "markdown",
     "metadata": {},
     "source": [
      "#### Querying FACTS\n",
      "The USFS [reports](http://data.fs.usda.gov/geodata/edw/datasets.php?dsetParent=Activities) Hazardous Fuels Treatment (HFT) activities as well as Timber Sales (TS) derived from the FACTS database. We use these two datasets to estimate the number of acres treated that did not produce commercial material (sawlogs or biomass) and where burning was not used. The first step is to elimina all treatments in the HFT dataset that included timber sales. We accomplish this by eliminating all rows in the HFT dataset that have identical `FACTS_ID` fields in the TS dataset. We further filter the HFT dataset by removing any planned but not executed treatements (`nbr_units1 >0` below -- `nbr_units1` references `NBR_UNITS_ACCOMPLISHED` in the USFS dataset, see metadata for HFT [here](http://data.fs.usda.gov/geodata/edw/edw_resources/meta/S_USA.Activity_HazFuelTrt_PL.xml)), and use text matching in the 'ACTIVITY' and 'METHOD' fields to remove any rows that contain reference to 'burning' or 'fire'. Finally, we remove all rows that that reference 'Biomass' in the method category as it is assumed that this means material was removed for bioenergy."
     ]
    },
    {
     "cell_type": "code",
     "collapsed": false,
     "input": [
      "usfs_acres = pd.read_sql('''select\n",
      "                                sum(nbr_units1) acres,\n",
      "                                method,\n",
      "                                strftime('%Y',date_compl) year,\n",
      "                                cat.\"ACTIVITY\" activity,\n",
      "                                cat.\"TENTATIVE_CATEGORY\" r5_cat\n",
      "                            from facts_notimber n \n",
      "                                join facts_cat cat\n",
      "                                    on (n.activity = cat.\"ACTIVITY\") \n",
      "                            where date_compl is not null\n",
      "                                and nbr_units1 > 0\n",
      "                                and cat.\"TENTATIVE_CATEGORY\" != 'Burning'\n",
      "                                and cat.\"ACTIVITY\" not like '%ire%'\n",
      "                                and method not like '%Burn%'\n",
      "                                and method != 'Biomass'\n",
      "                            group by cat.\"ACTIVITY\",\n",
      "                                year,\n",
      "                                method,\n",
      "                                cat.\"TENTATIVE_CATEGORY\"\n",
      "                            order by year;''', con = sqdb['cx'])"
     ],
     "language": "python",
     "metadata": {},
     "outputs": [],
     "prompt_number": 14
    },
    {
     "cell_type": "markdown",
     "metadata": {},
     "source": [
      "#### Converting acres to cubic feet\n",
      "FACTS reports in acres. To estimate the production of biomass from acres treated we use a range of 10-35 BDT/acre. We assume that actual biomass residuals per acre are normally distributed with a mean of 22.5 and a standard deviation of (35-10)/4 = 6.25 "
     ]
    },
    {
     "cell_type": "code",
     "collapsed": false,
     "input": [
      "def sumBDT(ac, maxbdt = 35, minbdt = 10):\n",
      "    av = (maxbdt + minbdt)/2\n",
      "    stdev = (float(maxbdt) - float(minbdt))/4 \n",
      "    d_frac = (ac-np.floor(ac))*np.random.normal(av, stdev, 1).clip(min=0)[0]\n",
      "    t_bdt = np.sum(np.random.normal(av,stdev,np.floor(ac)).clip(min=0))\n",
      "    return d_frac+t_bdt"
     ],
     "language": "python",
     "metadata": {},
     "outputs": [],
     "prompt_number": 15
    },
    {
     "cell_type": "code",
     "collapsed": false,
     "input": [
      "usfs_acres['bdt'] = usfs_acres['acres'].apply(sumBDT)\n",
      "usfs_an_bdt = usfs_acres.groupby(['year']).sum()"
     ],
     "language": "python",
     "metadata": {},
     "outputs": [],
     "prompt_number": 16
    },
    {
     "cell_type": "markdown",
     "metadata": {},
     "source": [
      "#### Weighted average wood density\n",
      "Average wood density weighted by harvested species percent. Derived from McIver and Morgan,  [Table 4](https://docs.google.com/spreadsheets/d/138FWlGeW57MKdcz2UkWxtWV4o50SZO8sduB1R6JOFp8/edit#gid=393414465)"
     ]
    },
    {
     "cell_type": "code",
     "collapsed": false,
     "input": [
      "wood_dens = ut.gData('138FWlGeW57MKdcz2UkWxtWV4o50SZO8sduB1R6JOFp8', 1297253755)\n",
      "wavg_dens =sum(wood_dens.pct/100 * wood_dens.density_lbscuft)"
     ],
     "language": "python",
     "metadata": {},
     "outputs": [],
     "prompt_number": 17
    },
    {
     "cell_type": "markdown",
     "metadata": {},
     "source": [
      "### Annual unutilized management residuals\n",
      "- [x] Public lands non-commercial management residuals \n",
      "- [ ] Private land non-commercial management residuals\n",
      "- [x] Public lands logging residuals\n",
      "- [x] Private lands logging residuals"
     ]
    },
    {
     "cell_type": "code",
     "collapsed": false,
     "input": [
      "cat_codes = {'nf_ncmr': 'Unburned, non-commercial management residuals from National Forest lands',\n",
      "             'nf_lr': 'Logging residuals generated from timber sales on National Forest lands',\n",
      "             'opriv_lr': 'Logging residuals generated from timber sales on non-industrial private forest lands',\n",
      "             'fi_lr': 'Logging residuals generated from timber sales on industrial private lands',\n",
      "             'opub_lr': 'Logging residuals generated from timber sales on industrial private lands'}"
     ],
     "language": "python",
     "metadata": {},
     "outputs": [],
     "prompt_number": 60
    },
    {
     "cell_type": "code",
     "collapsed": false,
     "input": [
      "usfs_an_bdt['cuft']= usfs_an_bdt.bdt *wavg_dens\n",
      "resid_stats=pd.DataFrame((usfs_an_bdt.iloc[6:,2]/1000000).describe())\n",
      "resid_stats.columns = ['nf_ncmr']\n",
      "resid_stats['nf_lr']=tpoData[tpoData.ownership.str.contains('National Forest')]['loggingresidues'].describe()\n",
      "resid_stats['opriv_lr']=tpoData[tpoData.ownership.str.contains('Other Private')]['loggingresidues'].describe()\n",
      "resid_stats['fi_lr']=tpoData[tpoData.ownership.str.contains('Forest Industry')]['loggingresidues'].describe()\n",
      "resid_stats['opub_lr']=tpoData[tpoData.ownership.str.contains('Other Public')]['loggingresidues'].describe()\n",
      "resid_stats"
     ],
     "language": "python",
     "metadata": {},
     "outputs": [
      {
       "html": [
        "<div style=\"max-width:1500px;overflow:auto;\">\n",
        "<table border=\"1\" class=\"dataframe\">\n",
        "  <thead>\n",
        "    <tr style=\"text-align: right;\">\n",
        "      <th></th>\n",
        "      <th>nf_ncmr</th>\n",
        "      <th>nf_lr</th>\n",
        "      <th>opriv_lr</th>\n",
        "      <th>fi_lr</th>\n",
        "      <th>opub_lr</th>\n",
        "    </tr>\n",
        "  </thead>\n",
        "  <tbody>\n",
        "    <tr>\n",
        "      <th>count</th>\n",
        "      <td>11.000000</td>\n",
        "      <td>4.00000</td>\n",
        "      <td>4.000000</td>\n",
        "      <td>4.000000</td>\n",
        "      <td>4.000000</td>\n",
        "    </tr>\n",
        "    <tr>\n",
        "      <th>mean</th>\n",
        "      <td>12.019440</td>\n",
        "      <td>17.70000</td>\n",
        "      <td>28.950000</td>\n",
        "      <td>66.425000</td>\n",
        "      <td>2.400000</td>\n",
        "    </tr>\n",
        "    <tr>\n",
        "      <th>std</th>\n",
        "      <td>4.689480</td>\n",
        "      <td>5.07346</td>\n",
        "      <td>16.159311</td>\n",
        "      <td>6.076389</td>\n",
        "      <td>1.794436</td>\n",
        "    </tr>\n",
        "    <tr>\n",
        "      <th>min</th>\n",
        "      <td>2.374210</td>\n",
        "      <td>11.20000</td>\n",
        "      <td>11.200000</td>\n",
        "      <td>59.600000</td>\n",
        "      <td>0.300000</td>\n",
        "    </tr>\n",
        "    <tr>\n",
        "      <th>25%</th>\n",
        "      <td>8.924072</td>\n",
        "      <td>15.02500</td>\n",
        "      <td>19.525000</td>\n",
        "      <td>62.225000</td>\n",
        "      <td>1.275000</td>\n",
        "    </tr>\n",
        "    <tr>\n",
        "      <th>50%</th>\n",
        "      <td>13.355718</td>\n",
        "      <td>18.50000</td>\n",
        "      <td>27.750000</td>\n",
        "      <td>66.850000</td>\n",
        "      <td>2.500000</td>\n",
        "    </tr>\n",
        "    <tr>\n",
        "      <th>75%</th>\n",
        "      <td>14.534933</td>\n",
        "      <td>21.17500</td>\n",
        "      <td>37.175000</td>\n",
        "      <td>71.050000</td>\n",
        "      <td>3.625000</td>\n",
        "    </tr>\n",
        "    <tr>\n",
        "      <th>max</th>\n",
        "      <td>17.853204</td>\n",
        "      <td>22.60000</td>\n",
        "      <td>49.100000</td>\n",
        "      <td>72.400000</td>\n",
        "      <td>4.300000</td>\n",
        "    </tr>\n",
        "  </tbody>\n",
        "</table>\n",
        "</div>"
       ],
       "metadata": {},
       "output_type": "pyout",
       "prompt_number": 48,
       "text": [
        "         nf_ncmr     nf_lr   opriv_lr      fi_lr   opub_lr\n",
        "count  11.000000   4.00000   4.000000   4.000000  4.000000\n",
        "mean   12.019440  17.70000  28.950000  66.425000  2.400000\n",
        "std     4.689480   5.07346  16.159311   6.076389  1.794436\n",
        "min     2.374210  11.20000  11.200000  59.600000  0.300000\n",
        "25%     8.924072  15.02500  19.525000  62.225000  1.275000\n",
        "50%    13.355718  18.50000  27.750000  66.850000  2.500000\n",
        "75%    14.534933  21.17500  37.175000  71.050000  3.625000\n",
        "max    17.853204  22.60000  49.100000  72.400000  4.300000"
       ]
      }
     ],
     "prompt_number": 48
    },
    {
     "cell_type": "code",
     "collapsed": false,
     "input": [
      "print tabulate(resid_stats, headers = resid_stats.columns.tolist(), tablefmt ='pipe')"
     ],
     "language": "python",
     "metadata": {},
     "outputs": [
      {
       "output_type": "stream",
       "stream": "stdout",
       "text": [
        "|       |   nf_ncmr |    nf_lr |   opriv_lr |    fi_lr |   opub_lr |\n",
        "|:------|----------:|---------:|-----------:|---------:|----------:|\n",
        "| count |  11       |  4       |     4      |  4       |   4       |\n",
        "| mean  |  12.0194  | 17.7     |    28.95   | 66.425   |   2.4     |\n",
        "| std   |   4.68948 |  5.07346 |    16.1593 |  6.07639 |   1.79444 |\n",
        "| min   |   2.37421 | 11.2     |    11.2    | 59.6     |   0.3     |\n",
        "| 25%   |   8.92407 | 15.025   |    19.525  | 62.225   |   1.275   |\n",
        "| 50%   |  13.3557  | 18.5     |    27.75   | 66.85    |   2.5     |\n",
        "| 75%   |  14.5349  | 21.175   |    37.175  | 71.05    |   3.625   |\n",
        "| max   |  17.8532  | 22.6     |    49.1    | 72.4     |   4.3     |\n"
       ]
      }
     ],
     "prompt_number": 63
    },
    {
     "cell_type": "code",
     "collapsed": false,
     "input": [
      "ureg = UnitRegistry()\n",
      "ureg.define('cubic foot =  cubic_centimeter/ 3.53147e-5 = cubic_foot' )\n",
      "ureg.define('million cubic foot =  cubic_foot*1000000 = MMCF' )\n",
      "ureg.define('board foot sawlog = cubic_foot / 5.44 = BF_saw')\n",
      "ureg.define('board foot veneer = cubic_foot / 5.0 = BF_vo')\n",
      "ureg.define('board foot bioenergy = cubic_foot / 1.0 = BF_bio')\n",
      "ureg.define('bone-dry unit = cubic_foot * 96 = BDU')\n"
     ],
     "language": "python",
     "metadata": {},
     "outputs": [],
     "prompt_number": 9
    }
   ],
   "metadata": {}
  }
 ]
}